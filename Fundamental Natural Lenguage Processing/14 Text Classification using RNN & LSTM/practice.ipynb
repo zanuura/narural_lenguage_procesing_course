{
 "cells": [
  {
   "cell_type": "code",
   "execution_count": 22,
   "metadata": {},
   "outputs": [],
   "source": [
    "import pandas as pd\n",
    "import numpy as np\n",
    "import matplotlib.pyplot as plt\n",
    "import seaborn as sns\n",
    "from sklearn.model_selection import  train_test_split\n",
    "from sklearn.preprocessing import LabelEncoder\n",
    "from keras.models import Model\n",
    "from keras.layers import LSTM, Activation, Dense, Dropout, Input, Embedding\n",
    "from keras.optimizers import RMSprop\n",
    "from keras.preprocessing.text import Tokenizer\n",
    "from keras.preprocessing import sequence\n",
    "from keras.utils.data_utils import pad_sequences\n",
    "from keras.utils import to_categorical\n",
    "from keras.callbacks import EarlyStopping\n",
    "%matplotlib inline"
   ]
  },
  {
   "cell_type": "code",
   "execution_count": 23,
   "metadata": {},
   "outputs": [
    {
     "data": {
      "text/html": [
       "<div>\n",
       "<style scoped>\n",
       "    .dataframe tbody tr th:only-of-type {\n",
       "        vertical-align: middle;\n",
       "    }\n",
       "\n",
       "    .dataframe tbody tr th {\n",
       "        vertical-align: top;\n",
       "    }\n",
       "\n",
       "    .dataframe thead th {\n",
       "        text-align: right;\n",
       "    }\n",
       "</style>\n",
       "<table border=\"1\" class=\"dataframe\">\n",
       "  <thead>\n",
       "    <tr style=\"text-align: right;\">\n",
       "      <th></th>\n",
       "      <th>content</th>\n",
       "      <th>label</th>\n",
       "    </tr>\n",
       "  </thead>\n",
       "  <tbody>\n",
       "    <tr>\n",
       "      <th>6663</th>\n",
       "      <td>f a n s b e t i n g agent bola terpercaya di i...</td>\n",
       "      <td>spam</td>\n",
       "    </tr>\n",
       "    <tr>\n",
       "      <th>6664</th>\n",
       "      <td>pasti ada campur tangan ulah orang dalam karen...</td>\n",
       "      <td>normal</td>\n",
       "    </tr>\n",
       "    <tr>\n",
       "      <th>6665</th>\n",
       "      <td>mauuu puunyaa kullittt puutiiihh secaaraa inns...</td>\n",
       "      <td>spam</td>\n",
       "    </tr>\n",
       "    <tr>\n",
       "      <th>6666</th>\n",
       "      <td>bagi aku kaaa dikit aja</td>\n",
       "      <td>normal</td>\n",
       "    </tr>\n",
       "    <tr>\n",
       "      <th>6667</th>\n",
       "      <td>mila sipitt allah tuh benci sama orang yg meru...</td>\n",
       "      <td>normal</td>\n",
       "    </tr>\n",
       "  </tbody>\n",
       "</table>\n",
       "</div>"
      ],
      "text/plain": [
       "                                                content   label\n",
       "6663  f a n s b e t i n g agent bola terpercaya di i...    spam\n",
       "6664  pasti ada campur tangan ulah orang dalam karen...  normal\n",
       "6665  mauuu puunyaa kullittt puutiiihh secaaraa inns...    spam\n",
       "6666                            bagi aku kaaa dikit aja  normal\n",
       "6667  mila sipitt allah tuh benci sama orang yg meru...  normal"
      ]
     },
     "execution_count": 23,
     "metadata": {},
     "output_type": "execute_result"
    }
   ],
   "source": [
    "data = pd.read_csv('./dataset_spam.csv')\n",
    "data.tail()"
   ]
  },
  {
   "cell_type": "code",
   "execution_count": 24,
   "metadata": {},
   "outputs": [
    {
     "name": "stdout",
     "output_type": "stream",
     "text": [
      "<class 'pandas.core.frame.DataFrame'>\n",
      "RangeIndex: 6668 entries, 0 to 6667\n",
      "Data columns (total 2 columns):\n",
      " #   Column   Non-Null Count  Dtype \n",
      "---  ------   --------------  ----- \n",
      " 0   content  6668 non-null   object\n",
      " 1   label    6668 non-null   object\n",
      "dtypes: object(2)\n",
      "memory usage: 104.3+ KB\n"
     ]
    }
   ],
   "source": [
    "data.info()"
   ]
  },
  {
   "cell_type": "code",
   "execution_count": 26,
   "metadata": {},
   "outputs": [
    {
     "data": {
      "text/plain": [
       "content    5802\n",
       "label         2\n",
       "dtype: int64"
      ]
     },
     "execution_count": 26,
     "metadata": {},
     "output_type": "execute_result"
    }
   ],
   "source": [
    "data.nunique()"
   ]
  },
  {
   "cell_type": "code",
   "execution_count": 27,
   "metadata": {},
   "outputs": [
    {
     "name": "stderr",
     "output_type": "stream",
     "text": [
      "c:\\Users\\Hammam\\Lib\\site-packages\\sklearn\\utils\\validation.py:605: FutureWarning: is_sparse is deprecated and will be removed in a future version. Check `isinstance(dtype, pd.SparseDtype)` instead.\n",
      "  if is_sparse(pd_dtype):\n",
      "c:\\Users\\Hammam\\Lib\\site-packages\\sklearn\\utils\\validation.py:614: FutureWarning: is_sparse is deprecated and will be removed in a future version. Check `isinstance(dtype, pd.SparseDtype)` instead.\n",
      "  if is_sparse(pd_dtype) or not is_extension_array_dtype(pd_dtype):\n"
     ]
    }
   ],
   "source": [
    "# X = data.content\n",
    "# Y = data.label\n",
    "# label_encoder = LabelEncoder()\n",
    "# X = label_encoder.fit_transform(Y)\n",
    "# Y = Y.reshape(-1,1)\n",
    "X = data.content\n",
    "Y = data.label\n",
    "label_encoder = LabelEncoder()\n",
    "Y = label_encoder.fit_transform(Y)\n",
    "Y = Y.reshape(-1,1)"
   ]
  },
  {
   "cell_type": "code",
   "execution_count": null,
   "metadata": {},
   "outputs": [],
   "source": [
    "X_train, X_test, Y_train, Y_test = train_test_split(X, Y, test_size=0.3)"
   ]
  },
  {
   "cell_type": "code",
   "execution_count": 28,
   "metadata": {},
   "outputs": [],
   "source": [
    "max_words = 1000\n",
    "max_len = 150\n",
    "tok = Tokenizer(num_words=max_words)\n",
    "tok.fit_on_texts(X_train)\n",
    "sequence = tok.texts_to_sequences(X_train)\n",
    "sequence_matrix = pad_sequences(sequence, maxlen=max_len)"
   ]
  },
  {
   "cell_type": "code",
   "execution_count": 29,
   "metadata": {},
   "outputs": [
    {
     "data": {
      "text/plain": [
       "array([[  0,   0,   0, ..., 325,   2,  36],\n",
       "       [  0,   0,   0, ...,  69, 806, 949],\n",
       "       [  0,   0,   0, ...,   2, 118,  20],\n",
       "       ...,\n",
       "       [  0,   0,   0, ..., 767, 240,   2],\n",
       "       [  0,   0,   0, ..., 298, 605,  14],\n",
       "       [  0,   0,   0, ..., 166, 797, 243]])"
      ]
     },
     "execution_count": 29,
     "metadata": {},
     "output_type": "execute_result"
    }
   ],
   "source": [
    "sequence_matrix"
   ]
  },
  {
   "cell_type": "code",
   "execution_count": 38,
   "metadata": {},
   "outputs": [],
   "source": [
    "def RNN():\n",
    "    inputs = Input(name='iputs', shape=[max_len])\n",
    "    layer = Embedding(max_words, 50, input_length=max_len)(inputs)\n",
    "    layer = LSTM(64)(layer)\n",
    "    layer = Dense(256, name='FC1')(layer)\n",
    "    layer = Activation('relu')(layer)\n",
    "    layer = Dropout(0.5)(layer)\n",
    "    layer = Dense(1, name='out_layer')(layer)\n",
    "    layer_s = Activation('sigmoid')(layer)\n",
    "    layer_t = Activation('tanh')(layer)\n",
    "    model = Model(inputs=inputs, outputs=[layer_s, layer_t])\n",
    "    return model"
   ]
  },
  {
   "cell_type": "code",
   "execution_count": 39,
   "metadata": {},
   "outputs": [
    {
     "name": "stdout",
     "output_type": "stream",
     "text": [
      "Model: \"model_2\"\n",
      "__________________________________________________________________________________________________\n",
      " Layer (type)                   Output Shape         Param #     Connected to                     \n",
      "==================================================================================================\n",
      " iputs (InputLayer)             [(None, 150)]        0           []                               \n",
      "                                                                                                  \n",
      " embedding_2 (Embedding)        (None, 150, 50)      50000       ['iputs[0][0]']                  \n",
      "                                                                                                  \n",
      " lstm_2 (LSTM)                  (None, 64)           29440       ['embedding_2[0][0]']            \n",
      "                                                                                                  \n",
      " FC1 (Dense)                    (None, 256)          16640       ['lstm_2[0][0]']                 \n",
      "                                                                                                  \n",
      " activation_4 (Activation)      (None, 256)          0           ['FC1[0][0]']                    \n",
      "                                                                                                  \n",
      " dropout_2 (Dropout)            (None, 256)          0           ['activation_4[0][0]']           \n",
      "                                                                                                  \n",
      " out_layer (Dense)              (None, 1)            257         ['dropout_2[0][0]']              \n",
      "                                                                                                  \n",
      " activation_5 (Activation)      (None, 1)            0           ['out_layer[0][0]']              \n",
      "                                                                                                  \n",
      " activation_6 (Activation)      (None, 1)            0           ['out_layer[0][0]']              \n",
      "                                                                                                  \n",
      "==================================================================================================\n",
      "Total params: 96,337\n",
      "Trainable params: 96,337\n",
      "Non-trainable params: 0\n",
      "__________________________________________________________________________________________________\n"
     ]
    }
   ],
   "source": [
    "model = RNN()\n",
    "model.summary()\n",
    "model.compile(loss='binary_crossentropy', optimizer=RMSprop(), metrics=['accuracy'])"
   ]
  },
  {
   "cell_type": "code",
   "execution_count": 31,
   "metadata": {},
   "outputs": [
    {
     "name": "stdout",
     "output_type": "stream",
     "text": [
      "Epoch 1/10\n",
      "30/30 [==============================] - 48s 899ms/step - loss: 0.3584 - accuracy: 0.8615 - val_loss: 0.2440 - val_accuracy: 0.9379\n",
      "Epoch 2/10\n",
      "30/30 [==============================] - 23s 762ms/step - loss: 0.1993 - accuracy: 0.9424 - val_loss: 0.1766 - val_accuracy: 0.9497\n",
      "Epoch 3/10\n",
      "30/30 [==============================] - 19s 648ms/step - loss: 0.1468 - accuracy: 0.9553 - val_loss: 0.1860 - val_accuracy: 0.9507\n"
     ]
    },
    {
     "data": {
      "text/plain": [
       "<keras.callbacks.History at 0x2aebe7cb750>"
      ]
     },
     "execution_count": 31,
     "metadata": {},
     "output_type": "execute_result"
    }
   ],
   "source": [
    "model.fit(sequence_matrix, Y_train, batch_size=128, epochs=10, validation_split=0.2, callbacks=[EarlyStopping(monitor='val_loss', min_delta=0.0001)])"
   ]
  },
  {
   "cell_type": "code",
   "execution_count": 32,
   "metadata": {},
   "outputs": [],
   "source": [
    "test_sequence = tok.texts_to_sequences(X_test)\n",
    "test_sequence_matrix = pad_sequences(test_sequence, maxlen=max_len)"
   ]
  },
  {
   "cell_type": "code",
   "execution_count": 35,
   "metadata": {},
   "outputs": [],
   "source": [
    "unique, counts = np.unique(Y_train, return_counts=True)"
   ]
  },
  {
   "cell_type": "code",
   "execution_count": 36,
   "metadata": {},
   "outputs": [
    {
     "data": {
      "text/plain": [
       "array([4009,  658], dtype=int64)"
      ]
     },
     "execution_count": 36,
     "metadata": {},
     "output_type": "execute_result"
    }
   ],
   "source": [
    "counts"
   ]
  },
  {
   "cell_type": "code",
   "execution_count": 33,
   "metadata": {},
   "outputs": [
    {
     "name": "stdout",
     "output_type": "stream",
     "text": [
      "63/63 [==============================] - 13s 111ms/step\n"
     ]
    },
    {
     "data": {
      "text/plain": [
       "array([[9.9737185e-01],\n",
       "       [1.2477693e-04],\n",
       "       [4.7551682e-03],\n",
       "       ...,\n",
       "       [7.8424963e-04],\n",
       "       [1.1881952e-03],\n",
       "       [1.4189448e-03]], dtype=float32)"
      ]
     },
     "execution_count": 33,
     "metadata": {},
     "output_type": "execute_result"
    }
   ],
   "source": [
    "model.predict(test_sequence_matrix)"
   ]
  },
  {
   "cell_type": "code",
   "execution_count": 34,
   "metadata": {},
   "outputs": [
    {
     "name": "stdout",
     "output_type": "stream",
     "text": [
      "63/63 [==============================] - 6s 86ms/step - loss: 0.1867 - accuracy: 0.9450\n"
     ]
    }
   ],
   "source": [
    "accr = model.evaluate(test_sequence_matrix, Y_test)"
   ]
  },
  {
   "cell_type": "code",
   "execution_count": 37,
   "metadata": {},
   "outputs": [
    {
     "name": "stdout",
     "output_type": "stream",
     "text": [
      "Test set\n",
      "Loss: 0.187\n",
      "Accuarcy: 0.945\n"
     ]
    }
   ],
   "source": [
    "print('Test set\\nLoss: {:0.3f}\\nAccuarcy: {:0.3f}'.format(accr[0], accr[1]))"
   ]
  },
  {
   "cell_type": "code",
   "execution_count": null,
   "metadata": {},
   "outputs": [],
   "source": []
  }
 ],
 "metadata": {
  "kernelspec": {
   "display_name": "Python 3",
   "language": "python",
   "name": "python3"
  },
  "language_info": {
   "codemirror_mode": {
    "name": "ipython",
    "version": 3
   },
   "file_extension": ".py",
   "mimetype": "text/x-python",
   "name": "python",
   "nbconvert_exporter": "python",
   "pygments_lexer": "ipython3",
   "version": "3.11.2"
  }
 },
 "nbformat": 4,
 "nbformat_minor": 2
}
