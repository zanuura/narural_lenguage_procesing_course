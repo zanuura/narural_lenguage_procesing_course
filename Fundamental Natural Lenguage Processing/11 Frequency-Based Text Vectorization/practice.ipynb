{
 "cells": [
  {
   "cell_type": "code",
   "execution_count": 149,
   "metadata": {},
   "outputs": [
    {
     "name": "stdout",
     "output_type": "stream",
     "text": [
      "['ada', 'adalagi', 'adalah', 'adanya', 'adapun', 'agak', 'agak-agak', 'agaknya', 'agar', 'aja', 'akan', 'akankah', 'akankan', 'akhir', 'akhir-akhirnya', 'akhirannya', 'akhiri', 'akhirinya', 'akhirnya', 'aku', 'akulah', 'akunya', 'akurat', 'akutu', 'ala', 'alamak', 'alhamdulillah', 'alhasil', 'amat', 'amat-amat', 'amatlah', 'anda', 'anda-anda', 'andai', 'andalah', 'antar', 'antara', 'antaranya', 'apa', 'apa-apanya', 'apaan', 'apabila', 'apaitu', 'apakah', 'apalagi', 'apanya', 'apasaja', 'apatah', 'apesnya', 'arah', 'artinya', 'asal', 'asalkan', 'asumsinya', 'asumsikan', 'atas', 'atas-atas', 'atas-batas', 'ataspun', 'atau', 'ataukah', 'ataupun', 'awal', 'awalnya', 'bagai', 'bagaikan', 'bagaimana', 'bagaimanakah', 'bagaimanapun', 'bagi', 'bagi-bagi', 'bagian', 'bagikan', 'bahasakan', 'bahasanya', 'bahkan', 'bahwa', 'bahwasanya', 'baik', 'bak', 'bakal', 'bakal-bakal', 'bakalan', 'balik', 'balikan', 'balikkan', 'banget', 'banget-banget', 'banyak', 'barangkali', 'baru', 'baru-baru', 'bawah', 'beberapa', 'begini', 'begini-begini', 'begini-begitu', 'begini-gini', 'beginian', 'beginikah', 'beginilah', 'begitu', 'begitu-begitu', 'begitu-gitu', 'begitukah', 'begitulah', 'begitupula', 'begitupun', 'bekerja', 'belakang', 'belakangan', 'beliau', 'beliau-beliau', 'beliaupun', 'belum', 'belumlah', 'benar', 'benar-benar', 'benarkah', 'benarlah', 'bener-benar', 'berada', 'berakhir', 'berakhirlah', 'berakhirnya', 'berapa', 'berapa-berapa', 'berapakah', 'berapalah', 'berapapun', 'berarti', 'berawal', 'berbagai', 'berbagi', 'berberapa', 'berdatangan', 'beri', 'berikan', 'berikut', 'berikutnya', 'beritagar', 'beritasatu', 'berjumlah', 'berkali', 'berkali-berkali', 'berkali-kali', 'berkata', 'berkehendak', 'berkeinginan', 'berkenaan', 'berlainan', 'berlaku', 'berlalu', 'berlangsung', 'berlebihan', 'bermacam', 'bermacam-macam', 'bermaksud', 'bermula', 'bersama', 'bersama-sama', 'bersiap', 'bersiap-siap', 'bertanya', 'bertanya-tanya', 'bertapa', 'berturut', 'berturut-turut', 'bertutur', 'berujar', 'berulang-kali', 'berulangkali', 'berupa', 'beserta', 'betul', 'betulkah', 'biasa', 'biasanya', 'bila', 'bilakah', 'bilamana', 'bisa', 'bisa-bisa', 'bisakah', 'bisanya', 'bocorannya', 'bocornya', 'boleh', 'boleh-boleh', 'bolehkah', 'bolehlah', 'bolehnya', 'bu', 'buat', 'buat-buat', 'bukan', 'bukankah', 'bukanlah', 'bukannya', 'bulan', 'bung', 'cara', 'caranya', 'ceileh', 'cieegitu', 'cieleh', 'ciri', 'ciri-ciri', 'cm', 'co', 'contoh', 'contohnya', 'cok', 'cuitannya', 'cuk', 'cukup', 'cukup-cukup', 'cukupkah', 'cukuplah', 'cukuuppp', 'cuma', 'cuma-cuma', 'cuy', 'dahulu', 'dalam', 'dalam-dalam', 'dan', 'dapat', 'dapat-dapat', 'dari', 'dariada', 'darimana', 'daripada', 'darisana', 'datang', 'deg', 'deg-degan', 'degan', 'dekat', 'demi', 'demikian', 'demikianlah', 'demonstran', 'dengan', 'depan', 'depan-depan', 'detail', 'di', 'dia', 'diakhiri', 'diakhirinya', 'dialah', 'diantara', 'diantaranya', 'dibagi-bagi', 'diberi', 'diberikan', 'diberikannya', 'dibuat', 'dibuatnya', 'didapat', 'didatangkan', 'digunakan', 'diibaratkan', 'diibaratkannya', 'diingat', 'diingatkan', 'diinginkan', 'dijamu', 'dijawab', 'dijelaskan', 'dijelaskannya', 'dikarenakan', 'dikatakan', 'dikatakannya', 'dikerjakan', 'diketahui', 'diketahuinya', 'dikira', 'dilakukan', 'dilalui', 'dilihat', 'dimaksud', 'dimaksudkan', 'dimaksudkannya', 'dimaksudnya', 'dimana', 'diminta', 'dimintai', 'dimisalkan', 'dimulai', 'dimulailah', 'dimulainya', 'dimungkinkan', 'dini', 'dipastikan', 'diperbuat', 'diperbuatnya', 'dipergunakan', 'diperkirakan', 'diperlihatkan', 'diperlukan', 'diperlukannya', 'diperoleh', 'dipersoalkan', 'dipertanyakan', 'dipidana', 'dipunyai', 'diri', 'dirinya', 'disampaikan', 'disana', 'disebut', 'disebutkan', 'disebutkannya', 'disini', 'disinilah', 'disitu', 'ditambahkan', 'ditandaskan', 'ditanya', 'ditanyai', 'ditanyakan', 'ditegaskan', 'ditujukan', 'ditunjuk', 'ditunjuki', 'ditunjukkan', 'ditunjukkannya', 'ditunjuknya', 'dituturkan', 'dituturkannya', 'diucapkan', 'diucapkannya', 'diungkapkan', 'diwaktu', 'diyakini', 'dkk', 'dll', 'doang', 'dong', 'doonggg', 'dsb', 'dst', 'dua', 'dulu', 'efektifkah', 'eleh', 'emang', 'empat', 'engkaulah', 'entah', 'entahlah', 'enyahlah', 'exsitu', 'gitu', 'gitu-gitu', 'gua', 'gue', 'gue-gue', 'guna', 'guna-guna', 'gunakan', 'halah', 'hampir', 'hampir-hampir', 'hanya', 'hanyalah', 'hari', 'harus', 'haruslah', 'harusnya', 'hendak', 'hendaklah', 'hendaknya', 'http', 'ia', 'ialah', 'ibarat', 'ibaratkan', 'ibaratnya', 'ibu', 'ikut', 'infonitas', 'ingat', 'ingat-ingat', 'ingin', 'ingin-ingin', 'inginkah', 'inginkan', 'ini', 'ini-ini', 'ini-itu', 'ini-kesini', 'inikah', 'inilah', 'insitu', 'insyaallah', 'itu', 'itu-begitu', 'itu-itu', 'itukah', 'itulah', 'iya', 'jadi', 'jadilah', 'jadinya', 'jangan', 'jangankan', 'janganlah', 'jarang', 'jarang-jarang', 'jauh', 'jawab', 'jawaban', 'jawabnya', 'jelas', 'jelaskan', 'jelaslah', 'jelasnya', 'jika', 'jikalau', 'jikapun', 'juga', 'jumat', 'jumlah', 'jumlahnya', 'juru', 'justru', 'kabarin', 'kabarkota', 'kadang', 'kadang-kadang', 'kala', 'kalapun', 'kalau', 'kalau-kalau', 'kalaulah', 'kalaupun', 'kali', 'kalian', 'kalianlah', 'kalopun', 'kami', 'kami-kami', 'kamilah', 'kamipun', 'kamis', 'kamu', 'kamu-kamu', 'kamulah', 'kamupun', 'kan', 'kandaskan', 'kapan', 'kapan-kapan', 'kapankah', 'kapanpun', 'karena', 'karena-karena', 'karenanya', 'kasus', 'kata', 'katakan', 'katakanlah', 'katamu', 'katanya', 'kau', 'kau-lah', 'kaulah', 'ke', 'keadaan', 'kebetulan', 'kecil', 'kecuali', 'kedua', 'keduanya', 'keinginan', 'kelamaan', 'kelihatan', 'kelihatannya', 'kelima', 'keluar', 'kembali', 'kemudian', 'kemungkinan', 'kemungkinannya', 'kenapa', 'kenapa-kenapa', 'kenapa-napa', 'kendati', 'kepada', 'kepada-kepada', 'kepadanya', 'kerap', 'kesampaian', 'keseluruhan', 'keseluruhannya', 'keterlaluan', 'ketika', 'ketimbang', 'kewaspada', 'kg', 'khususnya', 'kini', 'kinilah', 'kira', 'kira-kira', 'kira-kiranya', 'kiranya', 'kita', 'kita-kita', 'kitalah', 'km', 'kok', 'kurang', 'kurang-kurang', 'kurang-lebih', 'lagi', 'lagi-lagi', 'lagian', 'lagilah', 'lagipula', 'lah', 'laik', 'lain', 'lainnya', 'lalu', 'lalulah', 'lama', 'lamanya', 'lanjut', 'lanjutnya', 'lantaran', 'layaklah', 'layaknya', 'lebih', 'lebih-lebih', 'lewat', 'lima', 'lt', 'luar', 'lur', 'macam', 'mah', 'maka', 'makanya', 'makasih', 'makin', 'makin-makin', 'malah', 'malahan', 'mampu', 'mampukah', 'mana', 'manakala', 'manalagi', 'manasih', 'mas', 'masa', 'masalah', 'masalahnya', 'masih', 'masih-masih', 'masihkah', 'masing', 'masing-masing', 'mau', 'mau-mau', 'maupun', 'mba', 'melainkan', 'melakukan', 'melalui', 'melihat', 'melihatnya', 'memang', 'memang-memang', 'memangnya', 'memastikan', 'memberi', 'memberikan', 'membuat', 'memerlukan', 'memihak', 'meminta', 'memintakan', 'memisalkan', 'memperbuat', 'mempergunakan', 'memperkirakan', 'memperlihatkan', 'mempersiapkan', 'mempersoalkan', 'mempertanyakan', 'mempunyai', 'memulai', 'memungkinkan', 'menaiki', 'menambahkan', 'menandaskan', 'menanti', 'menanti-nanti', 'menantikan', 'menanya', 'menanyai', 'menanyakan', 'mendapat', 'mendapatkan', 'mendatang', 'mendatangi', 'mendatangkan', 'menegaskan', 'mengakhiri', 'mengakhirkan', 'mengapa', 'mengatakan', 'mengatakannya', 'mengenai', 'mengerjakan', 'mengetahui', 'menggunakan', 'menghendaki', 'mengibaratkan', 'mengibaratkannya', 'mengingat', 'mengingatkan', 'menginginkan', 'mengira', 'mengucapkan', 'mengucapkannya', 'mengungkapkan', 'menjadi', 'menjawab', 'menjelaskan', 'menuju', 'menunjuk', 'menunjuki', 'menunjukkan', 'menunjuknya', 'menurut', 'menurutmu', 'menurutnya', 'menuturkan', 'menyampaikan', 'menyangkut', 'menyatakan', 'menyebutkan', 'menyeluruh', 'menyiapkan', 'merahputih', 'merasa', 'merdeka', 'mereka', 'mereka-mereka', 'mereka-reka', 'merekalah', 'merupakan', 'meski', 'meskipun', 'mesti', 'mestinya', 'mestipun', 'meyakini', 'meyakinkan', 'milih', 'milih-milih', 'minggu', 'minta', 'mirip', 'mirisnya', 'misal', 'misalkan', 'misalnya', 'mula', 'mula-mula', 'mulai', 'mulailah', 'mulanya', 'mungkin', 'mungkin-mungkin', 'mungkinkah', 'nah', 'naik', 'namun', 'nanti', 'nantinya', 'nanya', 'nanya-nanya', 'netralitas', 'nya', 'nyaris', 'nyata-nyatanya', 'nyatanya', 'oke', 'oleh', 'olehnya', 'pada', 'padahal', 'padanya', 'pak', 'paling', 'paling-paling', 'panjang', 'pantas', 'para', 'pas', 'pasti', 'pastilah', 'pengen', 'pingin', 'penting', 'pentingnya', 'per', 'percuma', 'perihal', 'perlu', 'perlu-perlu', 'perlukah', 'perlunya', 'pernah', 'persoalan', 'pertama', 'pertama-tama', 'pertanyaan', 'pertanyakan', 'pihak', 'pihaknya', 'pukul', 'pula', 'pun', 'punya', 'rabu', 'rasa', 'rasa-rasanya', 'rasanya', 'rata', 'rata-ratanya', 'rupa-rupanya', 'rupanya', 'rute', 'saat', 'saat-saat', 'saatnya', 'sabtu', 'safaat', 'sahaja', 'saja', 'sajalah', 'saling', 'sama', 'sama-sama', 'sambil', 'sampai', 'sampai-sampai', 'sampaikan', 'sana', 'sana-sana', 'sanalah', 'sang', 'sangalah', 'sangat', 'sangat-lah', 'sangat-sangat', 'sangatlah', 'sangking', 'sanglah', 'santailah', 'satu', 'satu-pun', 'satuanya', 'satunya', 'satupun', 'saya', 'sayalah', 'se', 'seadanya', 'seandainya', 'sebab', 'sebab-musabab', 'sebab-musababnya', 'sebab-sebab', 'sebab-sebabnya', 'sebabnya', 'sebagai', 'sebagai-nya', 'sebagai-sebagainya', 'sebagaimana', 'sebagaimananya', 'sebagaimanapun', 'sebagain', 'sebagainya', 'sebagian', 'sebagiannya', 'sebaginya', 'sebaik', 'sebaik-baiknya', 'sebaiknya', 'sebaliknya', 'sebanyak', 'sebegini', 'sebegitu', 'sebegitunya', 'sebelahnya', 'sebelahya', 'sebelum', 'sebelum-nya', 'sebelum-sebelum', 'sebelum-sebelumnya', 'sebelumnya', 'sebelumnya-belum', 'sebelumnya-misalnya', 'sebelumnya-sebelumnya', 'sebenar-benarnya', 'sebenarnya', 'sebenernya', 'seberangnya', 'seberapa', 'seberapanya', 'seberapapun', 'sebetuknya', 'sebetulnya', 'sebisanya', 'sebuah', 'sebut', 'sebutannya', 'sebutlah', 'sebutnya', 'secara', 'secukupnya', 'secukupunya', 'sedalam-dalamnya', 'sedang', 'sedang-sedang', 'sedangkan', 'sedangnya', 'sedangpun', 'sedari', 'sedarinya', 'sedemikian', 'sedemikiannya', 'sederajatnya', 'sediakalanya', 'sediakan', 'sedianya', 'sedikit', 'sedikitnya', 'seenaknya', 'segala', 'segala-galanya', 'segalanya', 'segamblang-gamblangnya', 'segera', 'segerakan', 'segeranya', 'segini-gininya', 'segininya', 'segitu', 'segitu-gitu', 'segitu-segitu', 'segitunya', 'segmen-nya', 'segmen-segmennya', 'segmennya', 'segmentasinya', 'sehalu', 'sehari', 'sehari-harinya', 'sehari-seharinya', 'seharinya', 'seharusnya', 'sehelainya', 'sehingga', 'sehingganya', 'seikhlasnya', 'seiklasnya', 'seimbangnya', 'seingat', 'seiringnya', 'sejak', 'sejatinya', 'sejauh', 'sejelas-jelasnya', 'sejenak', 'sejenak-sejenak', 'sejenisnya', 'sejumlah', 'sekadar', 'sekadarnya', 'sekali', 'sekali-kali', 'sekali-sekali', 'sekalian', 'sekaligus', 'sekalinya', 'sekalinyapun', 'sekalipun', 'sekarang', 'sekarangpun', 'sekedar', 'seketika', 'sekian', 'sekian-sekian', 'sekilas', 'sekira', 'sekiranya', 'sekitar', 'sekitarnya', 'sekitarnyapun', 'sekurang-kurangnya', 'sekurangnya', 'sela', 'selaiknya', 'selain', 'selainnya', 'selaku', 'selalu', 'selama', 'selama-lamanya', 'selamanya', 'selanjutnya', 'selasa', 'selesain', 'selesainya', 'seluruh', 'seluruhnya', 'semacam', 'semacamnya', 'semakin', 'semampu', 'semampunya', 'semaraknya', 'semasa', 'semasih', 'semata', 'semata-mata', 'semaunya', 'sembarang', 'sembarangannya', 'semenjak', 'sementara', 'sementaranya', 'semestinya', 'semisal', 'semisalnya', 'sempat', 'sempat-sempat', 'sempat-sempatnya', 'sempatin', 'sempatnya', 'sempet-sempetnya', 'sempetin', 'sempetnya', 'semua', 'semuanya', 'semula', 'sendiri', 'sendirian', 'sendirinya', 'senin', 'seolah', 'seolah-olah', 'seorang', 'seorangnya', 'seorangpun', 'sepanjang', 'sepantarnya', 'sepantasnya', 'sepantasnyalah', 'sepengamatannya', 'sepengetahuannya', 'sepenuhnya', 'seperlunya', 'seperti', 'sepertihalnya', 'sepertinya', 'sepihak', 'seputar', 'seputarannya', 'seputarnya', 'sering', 'sering-sering', 'sering-seringnya', 'seringnya', 'serius', 'serta', 'serta-mereta', 'serta-merta', 'sertamerta', 'serupa', 'sesaat', 'sesama', 'sesamanya', 'sesampai', 'sesampainya', 'sesegera', 'sesegeranya', 'sesekali', 'sesempatnya', 'seseorang', 'sesuainya', 'sesuatu', 'sesuatunya', 'sesuatupun', 'sesudah', 'sesudahnya', 'sesungguhnya', 'setelah', 'setelahnya', 'setempat', 'setengah', 'seterusnya', 'seterusnya-seterusnya', 'seterusnyalah', 'setiap', 'setiba', 'setibanya', 'setinggi', 'seumpamanya', 'seusai', 'seusainya', 'seutuhnya', 'sewaktu', 'seyakin', 'seyakin-yakinnya', 'seyogianya', 'si', 'siap', 'siapa', 'siapa-siapa', 'siapakah', 'siapalah', 'siapapun', 'siapasih', 'sih', 'sini', 'sini-sini', 'sinilah', 'sinipun', 'situ', 'situ-situ', 'soal', 'soalnya', 'suara', 'suatu', 'sudah', 'sudah-sudah', 'sudahkah', 'sudahlah', 'sungguh', 'sungguh-sungguh', 'supaya', 'suratkabar', 'tadi', 'tadi-tadi', 'tadinya', 'tahu', 'tahun', 'tambah', 'tambahnya', 'tampak', 'tampaknya', 'tandas', 'tandasnya', 'tanpa', 'tanya', 'tanyakan', 'tanyanya', 'tapi', 'tapi-tapi', 'tatkala', 'tegas', 'tegasnya', 'telaah', 'telah', 'tempat', 'tengah', 'tengahlah', 'tentang', 'tentu', 'tentulah', 'tentunya', 'tepat', 'tepatnya', 'terakhir', 'terasa', 'terbanyak', 'terbilang', 'terdahulu', 'terdapat', 'terdiri', 'terhadap', 'terhadapnya', 'teringat', 'teringat-ingat', 'terjadi', 'terjadilah', 'terjadinya', 'terkadang', 'terkira', 'terlalu', 'terlalu-terlalu', 'terlebih', 'terlihat', 'termasuk', 'ternyata', 'tersampaikan', 'tersebut', 'tersebutlah', 'tertarik', 'tertentu', 'tertuju', 'terus', 'terus-menerus', 'terus-terus', 'terutama', 'tetap', 'tetapi', 'tetaplah', 'tetapnya', 'tiap', 'tiba', 'tiba-tiba', 'tidak', 'tidakkah', 'tidaklah', 'tiga', 'tinggi', 'toh', 'ton', 'tunjuk', 'turut', 'tutur', 'tuturnya', 'ucap', 'ucapnya', 'udah', 'udah-udah', 'ujar', 'ujarnya', 'umpamanya', 'umum', 'umum-nya', 'umumnya', 'ungkap', 'ungkapnya', 'untuk', 'untuk-untuk', 'usah', 'usai', 'via', 'waduh', 'wah', 'wahai', 'waktu', 'waktunya', 'walau', 'walaupun', 'walhasil', 'walopun', 'wow', 'www', 'ya', 'yaitu', 'yakin', 'yakni', 'yang', 'yg']\n"
     ]
    }
   ],
   "source": [
    "from sklearn.feature_extraction.text import CountVectorizer\n",
    "import pandas as pd\n",
    "from nlp_id import StopWord\n",
    "\n",
    "stopword = StopWord()\n",
    "stop_words = stopword.get_stopword()\n",
    "print(stop_words)"
   ]
  },
  {
   "cell_type": "code",
   "execution_count": 150,
   "metadata": {},
   "outputs": [],
   "source": [
    "dokumen = [\"Pengertian Lagu Wajib beserta Ciri Ciri Lirik dan Contohnya\"]"
   ]
  },
  {
   "cell_type": "code",
   "execution_count": 151,
   "metadata": {},
   "outputs": [],
   "source": [
    "vectorizer = CountVectorizer()\n",
    "count_vector = vectorizer.fit_transform(dokumen)"
   ]
  },
  {
   "cell_type": "code",
   "execution_count": 152,
   "metadata": {},
   "outputs": [
    {
     "data": {
      "text/plain": [
       "{'pengertian': 6,\n",
       " 'lagu': 4,\n",
       " 'wajib': 7,\n",
       " 'beserta': 0,\n",
       " 'ciri': 1,\n",
       " 'lirik': 5,\n",
       " 'dan': 3,\n",
       " 'contohnya': 2}"
      ]
     },
     "execution_count": 152,
     "metadata": {},
     "output_type": "execute_result"
    }
   ],
   "source": [
    "vectorizer.vocabulary_"
   ]
  },
  {
   "cell_type": "code",
   "execution_count": 153,
   "metadata": {},
   "outputs": [
    {
     "data": {
      "text/plain": [
       "(1, 8)"
      ]
     },
     "execution_count": 153,
     "metadata": {},
     "output_type": "execute_result"
    }
   ],
   "source": [
    "count_vector.shape"
   ]
  },
  {
   "cell_type": "code",
   "execution_count": 154,
   "metadata": {},
   "outputs": [
    {
     "name": "stdout",
     "output_type": "stream",
     "text": [
      "  (0, 6)\t1\n",
      "  (0, 4)\t1\n",
      "  (0, 7)\t1\n",
      "  (0, 0)\t1\n",
      "  (0, 1)\t2\n",
      "  (0, 5)\t1\n",
      "  (0, 3)\t1\n",
      "  (0, 2)\t1\n"
     ]
    }
   ],
   "source": [
    "print(count_vector)"
   ]
  },
  {
   "cell_type": "code",
   "execution_count": 155,
   "metadata": {},
   "outputs": [],
   "source": [
    "count_array = count_vector.toarray()\n",
    "df = pd.DataFrame(data=count_array, columns= vectorizer.get_feature_names_out())"
   ]
  },
  {
   "cell_type": "code",
   "execution_count": 156,
   "metadata": {},
   "outputs": [
    {
     "data": {
      "text/html": [
       "<div>\n",
       "<style scoped>\n",
       "    .dataframe tbody tr th:only-of-type {\n",
       "        vertical-align: middle;\n",
       "    }\n",
       "\n",
       "    .dataframe tbody tr th {\n",
       "        vertical-align: top;\n",
       "    }\n",
       "\n",
       "    .dataframe thead th {\n",
       "        text-align: right;\n",
       "    }\n",
       "</style>\n",
       "<table border=\"1\" class=\"dataframe\">\n",
       "  <thead>\n",
       "    <tr style=\"text-align: right;\">\n",
       "      <th></th>\n",
       "      <th>beserta</th>\n",
       "      <th>ciri</th>\n",
       "      <th>contohnya</th>\n",
       "      <th>dan</th>\n",
       "      <th>lagu</th>\n",
       "      <th>lirik</th>\n",
       "      <th>pengertian</th>\n",
       "      <th>wajib</th>\n",
       "    </tr>\n",
       "  </thead>\n",
       "  <tbody>\n",
       "    <tr>\n",
       "      <th>0</th>\n",
       "      <td>1</td>\n",
       "      <td>2</td>\n",
       "      <td>1</td>\n",
       "      <td>1</td>\n",
       "      <td>1</td>\n",
       "      <td>1</td>\n",
       "      <td>1</td>\n",
       "      <td>1</td>\n",
       "    </tr>\n",
       "  </tbody>\n",
       "</table>\n",
       "</div>"
      ],
      "text/plain": [
       "   beserta  ciri  contohnya  dan  lagu  lirik  pengertian  wajib\n",
       "0        1     2          1    1     1      1           1      1"
      ]
     },
     "execution_count": 156,
     "metadata": {},
     "output_type": "execute_result"
    }
   ],
   "source": [
    "df"
   ]
  },
  {
   "cell_type": "code",
   "execution_count": 157,
   "metadata": {},
   "outputs": [],
   "source": [
    "data = [\n",
    "    'Pengertian Lagu Wajib beserta Ciri Lirik dan Contohnya',\n",
    "    'Lirik Lagu Indonesia Raya',\n",
    "    'Penjelasan Mengenai Metroneome dan Fungsinya dalam alat musik',\n",
    "    'Ulasan tentang Ekonomi Kreatif beserta Ciri-ciri dan Manfaatnya',\n",
    "    'Ragam Kerajinan Khas yang Terdapat di Indonesia',\n",
    "]"
   ]
  },
  {
   "cell_type": "code",
   "execution_count": 158,
   "metadata": {},
   "outputs": [],
   "source": [
    "vectorizer = CountVectorizer()\n",
    "count_vector = vectorizer.fit_transform(data)"
   ]
  },
  {
   "cell_type": "code",
   "execution_count": 159,
   "metadata": {},
   "outputs": [
    {
     "data": {
      "text/plain": [
       "{'pengertian': 19,\n",
       " 'lagu': 13,\n",
       " 'wajib': 26,\n",
       " 'beserta': 1,\n",
       " 'ciri': 2,\n",
       " 'lirik': 14,\n",
       " 'dan': 5,\n",
       " 'contohnya': 3,\n",
       " 'indonesia': 9,\n",
       " 'raya': 22,\n",
       " 'penjelasan': 20,\n",
       " 'mengenai': 16,\n",
       " 'metroneome': 17,\n",
       " 'fungsinya': 8,\n",
       " 'dalam': 4,\n",
       " 'alat': 0,\n",
       " 'musik': 18,\n",
       " 'ulasan': 25,\n",
       " 'tentang': 23,\n",
       " 'ekonomi': 7,\n",
       " 'kreatif': 12,\n",
       " 'manfaatnya': 15,\n",
       " 'ragam': 21,\n",
       " 'kerajinan': 10,\n",
       " 'khas': 11,\n",
       " 'yang': 27,\n",
       " 'terdapat': 24,\n",
       " 'di': 6}"
      ]
     },
     "execution_count": 159,
     "metadata": {},
     "output_type": "execute_result"
    }
   ],
   "source": [
    "vectorizer.vocabulary_"
   ]
  },
  {
   "cell_type": "code",
   "execution_count": 160,
   "metadata": {},
   "outputs": [
    {
     "name": "stdout",
     "output_type": "stream",
     "text": [
      "  (0, 19)\t1\n",
      "  (0, 13)\t1\n",
      "  (0, 26)\t1\n",
      "  (0, 1)\t1\n",
      "  (0, 2)\t1\n",
      "  (0, 14)\t1\n",
      "  (0, 5)\t1\n",
      "  (0, 3)\t1\n",
      "  (1, 13)\t1\n",
      "  (1, 14)\t1\n",
      "  (1, 9)\t1\n",
      "  (1, 22)\t1\n",
      "  (2, 5)\t1\n",
      "  (2, 20)\t1\n",
      "  (2, 16)\t1\n",
      "  (2, 17)\t1\n",
      "  (2, 8)\t1\n",
      "  (2, 4)\t1\n",
      "  (2, 0)\t1\n",
      "  (2, 18)\t1\n",
      "  (3, 1)\t1\n",
      "  (3, 2)\t2\n",
      "  (3, 5)\t1\n",
      "  (3, 25)\t1\n",
      "  (3, 23)\t1\n",
      "  (3, 7)\t1\n",
      "  (3, 12)\t1\n",
      "  (3, 15)\t1\n",
      "  (4, 9)\t1\n",
      "  (4, 21)\t1\n",
      "  (4, 10)\t1\n",
      "  (4, 11)\t1\n",
      "  (4, 27)\t1\n",
      "  (4, 24)\t1\n",
      "  (4, 6)\t1\n"
     ]
    }
   ],
   "source": [
    "print(count_vector)"
   ]
  },
  {
   "cell_type": "code",
   "execution_count": 161,
   "metadata": {},
   "outputs": [
    {
     "data": {
      "text/plain": [
       "(5, 28)"
      ]
     },
     "execution_count": 161,
     "metadata": {},
     "output_type": "execute_result"
    }
   ],
   "source": [
    "count_vector.shape"
   ]
  },
  {
   "cell_type": "code",
   "execution_count": 162,
   "metadata": {},
   "outputs": [
    {
     "data": {
      "text/html": [
       "<div>\n",
       "<style scoped>\n",
       "    .dataframe tbody tr th:only-of-type {\n",
       "        vertical-align: middle;\n",
       "    }\n",
       "\n",
       "    .dataframe tbody tr th {\n",
       "        vertical-align: top;\n",
       "    }\n",
       "\n",
       "    .dataframe thead th {\n",
       "        text-align: right;\n",
       "    }\n",
       "</style>\n",
       "<table border=\"1\" class=\"dataframe\">\n",
       "  <thead>\n",
       "    <tr style=\"text-align: right;\">\n",
       "      <th></th>\n",
       "      <th>alat</th>\n",
       "      <th>beserta</th>\n",
       "      <th>ciri</th>\n",
       "      <th>contohnya</th>\n",
       "      <th>dalam</th>\n",
       "      <th>dan</th>\n",
       "      <th>di</th>\n",
       "      <th>ekonomi</th>\n",
       "      <th>fungsinya</th>\n",
       "      <th>indonesia</th>\n",
       "      <th>...</th>\n",
       "      <th>musik</th>\n",
       "      <th>pengertian</th>\n",
       "      <th>penjelasan</th>\n",
       "      <th>ragam</th>\n",
       "      <th>raya</th>\n",
       "      <th>tentang</th>\n",
       "      <th>terdapat</th>\n",
       "      <th>ulasan</th>\n",
       "      <th>wajib</th>\n",
       "      <th>yang</th>\n",
       "    </tr>\n",
       "  </thead>\n",
       "  <tbody>\n",
       "    <tr>\n",
       "      <th>0</th>\n",
       "      <td>0</td>\n",
       "      <td>1</td>\n",
       "      <td>1</td>\n",
       "      <td>1</td>\n",
       "      <td>0</td>\n",
       "      <td>1</td>\n",
       "      <td>0</td>\n",
       "      <td>0</td>\n",
       "      <td>0</td>\n",
       "      <td>0</td>\n",
       "      <td>...</td>\n",
       "      <td>0</td>\n",
       "      <td>1</td>\n",
       "      <td>0</td>\n",
       "      <td>0</td>\n",
       "      <td>0</td>\n",
       "      <td>0</td>\n",
       "      <td>0</td>\n",
       "      <td>0</td>\n",
       "      <td>1</td>\n",
       "      <td>0</td>\n",
       "    </tr>\n",
       "    <tr>\n",
       "      <th>1</th>\n",
       "      <td>0</td>\n",
       "      <td>0</td>\n",
       "      <td>0</td>\n",
       "      <td>0</td>\n",
       "      <td>0</td>\n",
       "      <td>0</td>\n",
       "      <td>0</td>\n",
       "      <td>0</td>\n",
       "      <td>0</td>\n",
       "      <td>1</td>\n",
       "      <td>...</td>\n",
       "      <td>0</td>\n",
       "      <td>0</td>\n",
       "      <td>0</td>\n",
       "      <td>0</td>\n",
       "      <td>1</td>\n",
       "      <td>0</td>\n",
       "      <td>0</td>\n",
       "      <td>0</td>\n",
       "      <td>0</td>\n",
       "      <td>0</td>\n",
       "    </tr>\n",
       "    <tr>\n",
       "      <th>2</th>\n",
       "      <td>1</td>\n",
       "      <td>0</td>\n",
       "      <td>0</td>\n",
       "      <td>0</td>\n",
       "      <td>1</td>\n",
       "      <td>1</td>\n",
       "      <td>0</td>\n",
       "      <td>0</td>\n",
       "      <td>1</td>\n",
       "      <td>0</td>\n",
       "      <td>...</td>\n",
       "      <td>1</td>\n",
       "      <td>0</td>\n",
       "      <td>1</td>\n",
       "      <td>0</td>\n",
       "      <td>0</td>\n",
       "      <td>0</td>\n",
       "      <td>0</td>\n",
       "      <td>0</td>\n",
       "      <td>0</td>\n",
       "      <td>0</td>\n",
       "    </tr>\n",
       "    <tr>\n",
       "      <th>3</th>\n",
       "      <td>0</td>\n",
       "      <td>1</td>\n",
       "      <td>2</td>\n",
       "      <td>0</td>\n",
       "      <td>0</td>\n",
       "      <td>1</td>\n",
       "      <td>0</td>\n",
       "      <td>1</td>\n",
       "      <td>0</td>\n",
       "      <td>0</td>\n",
       "      <td>...</td>\n",
       "      <td>0</td>\n",
       "      <td>0</td>\n",
       "      <td>0</td>\n",
       "      <td>0</td>\n",
       "      <td>0</td>\n",
       "      <td>1</td>\n",
       "      <td>0</td>\n",
       "      <td>1</td>\n",
       "      <td>0</td>\n",
       "      <td>0</td>\n",
       "    </tr>\n",
       "    <tr>\n",
       "      <th>4</th>\n",
       "      <td>0</td>\n",
       "      <td>0</td>\n",
       "      <td>0</td>\n",
       "      <td>0</td>\n",
       "      <td>0</td>\n",
       "      <td>0</td>\n",
       "      <td>1</td>\n",
       "      <td>0</td>\n",
       "      <td>0</td>\n",
       "      <td>1</td>\n",
       "      <td>...</td>\n",
       "      <td>0</td>\n",
       "      <td>0</td>\n",
       "      <td>0</td>\n",
       "      <td>1</td>\n",
       "      <td>0</td>\n",
       "      <td>0</td>\n",
       "      <td>1</td>\n",
       "      <td>0</td>\n",
       "      <td>0</td>\n",
       "      <td>1</td>\n",
       "    </tr>\n",
       "  </tbody>\n",
       "</table>\n",
       "<p>5 rows × 28 columns</p>\n",
       "</div>"
      ],
      "text/plain": [
       "   alat  beserta  ciri  contohnya  dalam  dan  di  ekonomi  fungsinya  \\\n",
       "0     0        1     1          1      0    1   0        0          0   \n",
       "1     0        0     0          0      0    0   0        0          0   \n",
       "2     1        0     0          0      1    1   0        0          1   \n",
       "3     0        1     2          0      0    1   0        1          0   \n",
       "4     0        0     0          0      0    0   1        0          0   \n",
       "\n",
       "   indonesia  ...  musik  pengertian  penjelasan  ragam  raya  tentang  \\\n",
       "0          0  ...      0           1           0      0     0        0   \n",
       "1          1  ...      0           0           0      0     1        0   \n",
       "2          0  ...      1           0           1      0     0        0   \n",
       "3          0  ...      0           0           0      0     0        1   \n",
       "4          1  ...      0           0           0      1     0        0   \n",
       "\n",
       "   terdapat  ulasan  wajib  yang  \n",
       "0         0       0      1     0  \n",
       "1         0       0      0     0  \n",
       "2         0       0      0     0  \n",
       "3         0       1      0     0  \n",
       "4         1       0      0     1  \n",
       "\n",
       "[5 rows x 28 columns]"
      ]
     },
     "execution_count": 162,
     "metadata": {},
     "output_type": "execute_result"
    }
   ],
   "source": [
    "count_array = count_vector.toarray()\n",
    "df = pd.DataFrame(data=count_array, columns= vectorizer.get_feature_names_out())\n",
    "df"
   ]
  },
  {
   "cell_type": "code",
   "execution_count": 163,
   "metadata": {},
   "outputs": [
    {
     "name": "stderr",
     "output_type": "stream",
     "text": [
      "c:\\Users\\Hammam\\Lib\\site-packages\\sklearn\\feature_extraction\\text.py:409: UserWarning: Your stop_words may be inconsistent with your preprocessing. Tokenizing the stop words generated tokens ['baiknya', 'batas', 'benarnya', 'bener', 'berulang', 'dalamnya', 'dibagi', 'galanya', 'gamblangnya', 'gini', 'gininya', 'harinya', 'kesini', 'kurangnya', 'mata', 'menerus', 'mereta', 'merta', 'musabab', 'musababnya', 'napa', 'nyata', 'olah', 'ratanya', 'reka', 'rupa', 'sebenar', 'sedalam', 'segamblang', 'segini', 'segmen', 'sejelas', 'sekurang', 'sempet', 'tama', 'yakinnya'] not in stop_words.\n",
      "  warnings.warn(\n"
     ]
    },
    {
     "data": {
      "text/plain": [
       "(5, 18)"
      ]
     },
     "execution_count": 163,
     "metadata": {},
     "output_type": "execute_result"
    }
   ],
   "source": [
    "stop_wprds = ['dan', 'yang']\n",
    "\n",
    "vectorizer = CountVectorizer(stop_words=stop_words)\n",
    "count_vector = vectorizer.fit_transform(data)\n",
    "count_vector.shape"
   ]
  },
  {
   "cell_type": "code",
   "execution_count": 164,
   "metadata": {},
   "outputs": [
    {
     "data": {
      "text/plain": [
       "{'pengertian': 12,\n",
       " 'lagu': 7,\n",
       " 'wajib': 17,\n",
       " 'lirik': 8,\n",
       " 'indonesia': 3,\n",
       " 'raya': 15,\n",
       " 'penjelasan': 13,\n",
       " 'metroneome': 10,\n",
       " 'fungsinya': 2,\n",
       " 'alat': 0,\n",
       " 'musik': 11,\n",
       " 'ulasan': 16,\n",
       " 'ekonomi': 1,\n",
       " 'kreatif': 6,\n",
       " 'manfaatnya': 9,\n",
       " 'ragam': 14,\n",
       " 'kerajinan': 4,\n",
       " 'khas': 5}"
      ]
     },
     "execution_count": 164,
     "metadata": {},
     "output_type": "execute_result"
    }
   ],
   "source": [
    "vectorizer.vocabulary_"
   ]
  },
  {
   "cell_type": "code",
   "execution_count": 165,
   "metadata": {},
   "outputs": [
    {
     "name": "stdout",
     "output_type": "stream",
     "text": [
      "  (0, 12)\t1\n",
      "  (0, 7)\t1\n",
      "  (0, 17)\t1\n",
      "  (0, 8)\t1\n",
      "  (1, 7)\t1\n",
      "  (1, 8)\t1\n",
      "  (1, 3)\t1\n",
      "  (1, 15)\t1\n",
      "  (2, 13)\t1\n",
      "  (2, 10)\t1\n",
      "  (2, 2)\t1\n",
      "  (2, 0)\t1\n",
      "  (2, 11)\t1\n",
      "  (3, 16)\t1\n",
      "  (3, 1)\t1\n",
      "  (3, 6)\t1\n",
      "  (3, 9)\t1\n",
      "  (4, 3)\t1\n",
      "  (4, 14)\t1\n",
      "  (4, 4)\t1\n",
      "  (4, 5)\t1\n"
     ]
    }
   ],
   "source": [
    "print(count_vector)"
   ]
  },
  {
   "cell_type": "code",
   "execution_count": 166,
   "metadata": {},
   "outputs": [],
   "source": [
    "long_text =  [\"Pengolahan bahasa alami (disingkat PBA; bahasa Inggris: natural language processing, disingkat NLP) adalah cabang ilmu komputer, \\\n",
    "linguistik, dan kecerdasan buatan yang mengkaji interaksi antara komputer dan bahasa (alami) manusia, khususnya cara memprogram komputer untuk mengolah data bahasa alami \\\n",
    "dalam jumlah besar. Hasilnya adalah komputer mampu 'memahami' isi dokumen, termasuk nuansa bahasa di dalamnya. Dengan ini, komputer dapat dengan akurat mengambil informasi \\\n",
    "dan wawasan dari dokumen sekaligus mengelompokkan dan menata dokumen-dokumen itu sendiri. \\\n",
    "Kajian NLP antara lain mencakup segmentasi wicara, segmentasi teks, penandaan kelas kata, dan pengawataksaan makna. Meski kajiannya dapat mencakup teks dan wicara, \\\n",
    "pengolahan wicara telah berkembang menjadi suatu bidang kajian terpisah.\"]"
   ]
  },
  {
   "cell_type": "code",
   "execution_count": 167,
   "metadata": {},
   "outputs": [
    {
     "data": {
      "text/plain": [
       "(1, 47)"
      ]
     },
     "execution_count": 167,
     "metadata": {},
     "output_type": "execute_result"
    }
   ],
   "source": [
    "vectorizer = CountVectorizer(stop_words= stop_words)\n",
    "count_vector = vectorizer.fit_transform(long_text)\n",
    "count_vector.shape"
   ]
  },
  {
   "cell_type": "code",
   "execution_count": 168,
   "metadata": {},
   "outputs": [
    {
     "name": "stdout",
     "output_type": "stream",
     "text": [
      "  (0, 40)\t2\n",
      "  (0, 1)\t5\n",
      "  (0, 0)\t3\n",
      "  (0, 9)\t2\n",
      "  (0, 37)\t1\n",
      "  (0, 14)\t1\n",
      "  (0, 34)\t1\n",
      "  (0, 22)\t1\n",
      "  (0, 41)\t1\n",
      "  (0, 35)\t2\n",
      "  (0, 6)\t1\n",
      "  (0, 12)\t1\n",
      "  (0, 21)\t5\n",
      "  (0, 23)\t1\n",
      "  (0, 19)\t1\n",
      "  (0, 5)\t1\n",
      "  (0, 32)\t1\n",
      "  (0, 15)\t1\n",
      "  (0, 25)\t1\n",
      "  (0, 27)\t1\n",
      "  (0, 33)\t1\n",
      "  (0, 8)\t1\n",
      "  (0, 3)\t1\n",
      "  (0, 11)\t1\n",
      "  (0, 26)\t1\n",
      "  (0, 16)\t1\n",
      "  (0, 10)\t4\n",
      "  (0, 36)\t1\n",
      "  (0, 7)\t1\n",
      "  (0, 30)\t1\n",
      "  (0, 13)\t1\n",
      "  (0, 45)\t1\n",
      "  (0, 31)\t1\n",
      "  (0, 28)\t1\n",
      "  (0, 17)\t2\n",
      "  (0, 29)\t2\n",
      "  (0, 42)\t2\n",
      "  (0, 46)\t3\n",
      "  (0, 43)\t2\n",
      "  (0, 38)\t1\n",
      "  (0, 20)\t1\n",
      "  (0, 39)\t1\n",
      "  (0, 24)\t1\n",
      "  (0, 18)\t1\n",
      "  (0, 2)\t1\n",
      "  (0, 4)\t1\n",
      "  (0, 44)\t1\n"
     ]
    }
   ],
   "source": [
    "print(count_vector)"
   ]
  },
  {
   "cell_type": "code",
   "execution_count": 169,
   "metadata": {},
   "outputs": [
    {
     "data": {
      "text/plain": [
       "{'pengolahan': 40,\n",
       " 'bahasa': 1,\n",
       " 'alami': 0,\n",
       " 'disingkat': 9,\n",
       " 'pba': 37,\n",
       " 'inggris': 14,\n",
       " 'natural': 34,\n",
       " 'language': 22,\n",
       " 'processing': 41,\n",
       " 'nlp': 35,\n",
       " 'cabang': 6,\n",
       " 'ilmu': 12,\n",
       " 'komputer': 21,\n",
       " 'linguistik': 23,\n",
       " 'kecerdasan': 19,\n",
       " 'buatan': 5,\n",
       " 'mengkaji': 32,\n",
       " 'interaksi': 15,\n",
       " 'manusia': 25,\n",
       " 'memprogram': 27,\n",
       " 'mengolah': 33,\n",
       " 'data': 8,\n",
       " 'besar': 3,\n",
       " 'hasilnya': 11,\n",
       " 'memahami': 26,\n",
       " 'isi': 16,\n",
       " 'dokumen': 10,\n",
       " 'nuansa': 36,\n",
       " 'dalamnya': 7,\n",
       " 'mengambil': 30,\n",
       " 'informasi': 13,\n",
       " 'wawasan': 45,\n",
       " 'mengelompokkan': 31,\n",
       " 'menata': 28,\n",
       " 'kajian': 17,\n",
       " 'mencakup': 29,\n",
       " 'segmentasi': 42,\n",
       " 'wicara': 46,\n",
       " 'teks': 43,\n",
       " 'penandaan': 38,\n",
       " 'kelas': 20,\n",
       " 'pengawataksaan': 39,\n",
       " 'makna': 24,\n",
       " 'kajiannya': 18,\n",
       " 'berkembang': 2,\n",
       " 'bidang': 4,\n",
       " 'terpisah': 44}"
      ]
     },
     "execution_count": 169,
     "metadata": {},
     "output_type": "execute_result"
    }
   ],
   "source": [
    "vectorizer.vocabulary_"
   ]
  },
  {
   "cell_type": "code",
   "execution_count": 170,
   "metadata": {},
   "outputs": [
    {
     "data": {
      "text/plain": [
       "(1, 47)"
      ]
     },
     "execution_count": 170,
     "metadata": {},
     "output_type": "execute_result"
    }
   ],
   "source": [
    "vectorizer = CountVectorizer(stop_words= stop_words, min_df=0.25)\n",
    "count_vector = vectorizer.fit_transform(long_text)\n",
    "count_vector.shape"
   ]
  },
  {
   "cell_type": "code",
   "execution_count": 171,
   "metadata": {},
   "outputs": [
    {
     "name": "stdout",
     "output_type": "stream",
     "text": [
      "  (0, 40)\t2\n",
      "  (0, 1)\t5\n",
      "  (0, 0)\t3\n",
      "  (0, 9)\t2\n",
      "  (0, 37)\t1\n",
      "  (0, 14)\t1\n",
      "  (0, 34)\t1\n",
      "  (0, 22)\t1\n",
      "  (0, 41)\t1\n",
      "  (0, 35)\t2\n",
      "  (0, 6)\t1\n",
      "  (0, 12)\t1\n",
      "  (0, 21)\t5\n",
      "  (0, 23)\t1\n",
      "  (0, 19)\t1\n",
      "  (0, 5)\t1\n",
      "  (0, 32)\t1\n",
      "  (0, 15)\t1\n",
      "  (0, 25)\t1\n",
      "  (0, 27)\t1\n",
      "  (0, 33)\t1\n",
      "  (0, 8)\t1\n",
      "  (0, 3)\t1\n",
      "  (0, 11)\t1\n",
      "  (0, 26)\t1\n",
      "  (0, 16)\t1\n",
      "  (0, 10)\t4\n",
      "  (0, 36)\t1\n",
      "  (0, 7)\t1\n",
      "  (0, 30)\t1\n",
      "  (0, 13)\t1\n",
      "  (0, 45)\t1\n",
      "  (0, 31)\t1\n",
      "  (0, 28)\t1\n",
      "  (0, 17)\t2\n",
      "  (0, 29)\t2\n",
      "  (0, 42)\t2\n",
      "  (0, 46)\t3\n",
      "  (0, 43)\t2\n",
      "  (0, 38)\t1\n",
      "  (0, 20)\t1\n",
      "  (0, 39)\t1\n",
      "  (0, 24)\t1\n",
      "  (0, 18)\t1\n",
      "  (0, 2)\t1\n",
      "  (0, 4)\t1\n",
      "  (0, 44)\t1\n"
     ]
    }
   ],
   "source": [
    "print(count_vector)"
   ]
  },
  {
   "cell_type": "code",
   "execution_count": 172,
   "metadata": {},
   "outputs": [
    {
     "data": {
      "text/plain": [
       "{'pengolahan': 40,\n",
       " 'bahasa': 1,\n",
       " 'alami': 0,\n",
       " 'disingkat': 9,\n",
       " 'pba': 37,\n",
       " 'inggris': 14,\n",
       " 'natural': 34,\n",
       " 'language': 22,\n",
       " 'processing': 41,\n",
       " 'nlp': 35,\n",
       " 'cabang': 6,\n",
       " 'ilmu': 12,\n",
       " 'komputer': 21,\n",
       " 'linguistik': 23,\n",
       " 'kecerdasan': 19,\n",
       " 'buatan': 5,\n",
       " 'mengkaji': 32,\n",
       " 'interaksi': 15,\n",
       " 'manusia': 25,\n",
       " 'memprogram': 27,\n",
       " 'mengolah': 33,\n",
       " 'data': 8,\n",
       " 'besar': 3,\n",
       " 'hasilnya': 11,\n",
       " 'memahami': 26,\n",
       " 'isi': 16,\n",
       " 'dokumen': 10,\n",
       " 'nuansa': 36,\n",
       " 'dalamnya': 7,\n",
       " 'mengambil': 30,\n",
       " 'informasi': 13,\n",
       " 'wawasan': 45,\n",
       " 'mengelompokkan': 31,\n",
       " 'menata': 28,\n",
       " 'kajian': 17,\n",
       " 'mencakup': 29,\n",
       " 'segmentasi': 42,\n",
       " 'wicara': 46,\n",
       " 'teks': 43,\n",
       " 'penandaan': 38,\n",
       " 'kelas': 20,\n",
       " 'pengawataksaan': 39,\n",
       " 'makna': 24,\n",
       " 'kajiannya': 18,\n",
       " 'berkembang': 2,\n",
       " 'bidang': 4,\n",
       " 'terpisah': 44}"
      ]
     },
     "execution_count": 172,
     "metadata": {},
     "output_type": "execute_result"
    }
   ],
   "source": [
    "vectorizer.vocabulary_"
   ]
  },
  {
   "cell_type": "markdown",
   "metadata": {},
   "source": [
    "# TF-IDF"
   ]
  },
  {
   "cell_type": "code",
   "execution_count": 173,
   "metadata": {},
   "outputs": [],
   "source": [
    "from sklearn.feature_extraction.text import TfidfVectorizer"
   ]
  },
  {
   "cell_type": "code",
   "execution_count": 174,
   "metadata": {},
   "outputs": [],
   "source": [
    "dokumen = [\"Pengertian Lagu Wajib beserta Ciri Ciri Lirik dan Contohnya\"]"
   ]
  },
  {
   "cell_type": "code",
   "execution_count": 175,
   "metadata": {},
   "outputs": [],
   "source": [
    "vectorizer = TfidfVectorizer()\n",
    "tfidf = vectorizer.fit_transform(dokumen)"
   ]
  },
  {
   "cell_type": "code",
   "execution_count": 176,
   "metadata": {},
   "outputs": [
    {
     "data": {
      "text/plain": [
       "{'pengertian': 6,\n",
       " 'lagu': 4,\n",
       " 'wajib': 7,\n",
       " 'beserta': 0,\n",
       " 'ciri': 1,\n",
       " 'lirik': 5,\n",
       " 'dan': 3,\n",
       " 'contohnya': 2}"
      ]
     },
     "execution_count": 176,
     "metadata": {},
     "output_type": "execute_result"
    }
   ],
   "source": [
    "vectorizer.vocabulary_"
   ]
  },
  {
   "cell_type": "code",
   "execution_count": 177,
   "metadata": {},
   "outputs": [
    {
     "name": "stdout",
     "output_type": "stream",
     "text": [
      "  (0, 2)\t0.30151134457776363\n",
      "  (0, 3)\t0.30151134457776363\n",
      "  (0, 5)\t0.30151134457776363\n",
      "  (0, 1)\t0.6030226891555273\n",
      "  (0, 0)\t0.30151134457776363\n",
      "  (0, 7)\t0.30151134457776363\n",
      "  (0, 4)\t0.30151134457776363\n",
      "  (0, 6)\t0.30151134457776363\n"
     ]
    }
   ],
   "source": [
    "print(tfidf)"
   ]
  },
  {
   "cell_type": "code",
   "execution_count": 178,
   "metadata": {},
   "outputs": [],
   "source": [
    "# dengan data lebih banyak\n",
    "data = [\n",
    "    \"Pengertian Lagu Wajib beserta Ciri Lirik dan Contohnya\",\n",
    "    \"Lirik Lagu Indonesia Raya\",\n",
    "    \"Penjelasan Mengenai Metronome dan Fungsinya dalam Musik\",\n",
    "    \"Ulasan tentang Ekonomi Kreatif beserta Ciri-Ciri dan Manfaatnya\",\n",
    "    \"Ragam Kerajinan Khas yang Terdapat di Indonesia\"\n",
    "]"
   ]
  },
  {
   "cell_type": "code",
   "execution_count": 179,
   "metadata": {},
   "outputs": [],
   "source": [
    "vectorizer = TfidfVectorizer()\n",
    "tfidf = vectorizer.fit_transform(data)"
   ]
  },
  {
   "cell_type": "code",
   "execution_count": 180,
   "metadata": {},
   "outputs": [
    {
     "data": {
      "text/plain": [
       "(5, 27)"
      ]
     },
     "execution_count": 180,
     "metadata": {},
     "output_type": "execute_result"
    }
   ],
   "source": [
    "tfidf.shape"
   ]
  },
  {
   "cell_type": "code",
   "execution_count": 181,
   "metadata": {},
   "outputs": [
    {
     "name": "stdout",
     "output_type": "stream",
     "text": [
      "  (0, 2)\t0.40648465275893914\n",
      "  (0, 4)\t0.27222750934939444\n",
      "  (0, 13)\t0.32794925841041295\n",
      "  (0, 1)\t0.32794925841041295\n",
      "  (0, 0)\t0.32794925841041295\n",
      "  (0, 25)\t0.40648465275893914\n",
      "  (0, 12)\t0.32794925841041295\n",
      "  (0, 18)\t0.40648465275893914\n",
      "  (1, 21)\t0.58195149786718\n",
      "  (1, 8)\t0.4695148042146437\n",
      "  (1, 13)\t0.4695148042146437\n",
      "  (1, 12)\t0.4695148042146437\n",
      "  (2, 17)\t0.39379498998448487\n",
      "  (2, 3)\t0.39379498998448487\n",
      "  (2, 7)\t0.39379498998448487\n",
      "  (2, 16)\t0.39379498998448487\n",
      "  (2, 15)\t0.39379498998448487\n",
      "  (2, 19)\t0.39379498998448487\n",
      "  (2, 4)\t0.26372909429700125\n",
      "  (3, 14)\t0.33897148063305216\n",
      "  (3, 11)\t0.33897148063305216\n",
      "  (3, 6)\t0.33897148063305216\n",
      "  (3, 22)\t0.33897148063305216\n",
      "  (3, 24)\t0.33897148063305216\n",
      "  (3, 4)\t0.22701315114087783\n",
      "  (3, 1)\t0.5469601124734934\n",
      "  (3, 0)\t0.2734800562367467\n",
      "  (4, 5)\t0.38775666010579296\n",
      "  (4, 23)\t0.38775666010579296\n",
      "  (4, 26)\t0.38775666010579296\n",
      "  (4, 10)\t0.38775666010579296\n",
      "  (4, 9)\t0.38775666010579296\n",
      "  (4, 20)\t0.38775666010579296\n",
      "  (4, 8)\t0.3128396318588854\n"
     ]
    }
   ],
   "source": [
    "print(tfidf)"
   ]
  },
  {
   "cell_type": "code",
   "execution_count": 182,
   "metadata": {},
   "outputs": [
    {
     "data": {
      "text/html": [
       "<div>\n",
       "<style scoped>\n",
       "    .dataframe tbody tr th:only-of-type {\n",
       "        vertical-align: middle;\n",
       "    }\n",
       "\n",
       "    .dataframe tbody tr th {\n",
       "        vertical-align: top;\n",
       "    }\n",
       "\n",
       "    .dataframe thead th {\n",
       "        text-align: right;\n",
       "    }\n",
       "</style>\n",
       "<table border=\"1\" class=\"dataframe\">\n",
       "  <thead>\n",
       "    <tr style=\"text-align: right;\">\n",
       "      <th></th>\n",
       "      <th>beserta</th>\n",
       "      <th>ciri</th>\n",
       "      <th>contohnya</th>\n",
       "      <th>dalam</th>\n",
       "      <th>dan</th>\n",
       "      <th>di</th>\n",
       "      <th>ekonomi</th>\n",
       "      <th>fungsinya</th>\n",
       "      <th>indonesia</th>\n",
       "      <th>kerajinan</th>\n",
       "      <th>...</th>\n",
       "      <th>musik</th>\n",
       "      <th>pengertian</th>\n",
       "      <th>penjelasan</th>\n",
       "      <th>ragam</th>\n",
       "      <th>raya</th>\n",
       "      <th>tentang</th>\n",
       "      <th>terdapat</th>\n",
       "      <th>ulasan</th>\n",
       "      <th>wajib</th>\n",
       "      <th>yang</th>\n",
       "    </tr>\n",
       "  </thead>\n",
       "  <tbody>\n",
       "    <tr>\n",
       "      <th>0</th>\n",
       "      <td>0.327949</td>\n",
       "      <td>0.327949</td>\n",
       "      <td>0.406485</td>\n",
       "      <td>0.000000</td>\n",
       "      <td>0.272228</td>\n",
       "      <td>0.000000</td>\n",
       "      <td>0.000000</td>\n",
       "      <td>0.000000</td>\n",
       "      <td>0.000000</td>\n",
       "      <td>0.000000</td>\n",
       "      <td>...</td>\n",
       "      <td>0.000000</td>\n",
       "      <td>0.406485</td>\n",
       "      <td>0.000000</td>\n",
       "      <td>0.000000</td>\n",
       "      <td>0.000000</td>\n",
       "      <td>0.000000</td>\n",
       "      <td>0.000000</td>\n",
       "      <td>0.000000</td>\n",
       "      <td>0.406485</td>\n",
       "      <td>0.000000</td>\n",
       "    </tr>\n",
       "    <tr>\n",
       "      <th>1</th>\n",
       "      <td>0.000000</td>\n",
       "      <td>0.000000</td>\n",
       "      <td>0.000000</td>\n",
       "      <td>0.000000</td>\n",
       "      <td>0.000000</td>\n",
       "      <td>0.000000</td>\n",
       "      <td>0.000000</td>\n",
       "      <td>0.000000</td>\n",
       "      <td>0.469515</td>\n",
       "      <td>0.000000</td>\n",
       "      <td>...</td>\n",
       "      <td>0.000000</td>\n",
       "      <td>0.000000</td>\n",
       "      <td>0.000000</td>\n",
       "      <td>0.000000</td>\n",
       "      <td>0.581951</td>\n",
       "      <td>0.000000</td>\n",
       "      <td>0.000000</td>\n",
       "      <td>0.000000</td>\n",
       "      <td>0.000000</td>\n",
       "      <td>0.000000</td>\n",
       "    </tr>\n",
       "    <tr>\n",
       "      <th>2</th>\n",
       "      <td>0.000000</td>\n",
       "      <td>0.000000</td>\n",
       "      <td>0.000000</td>\n",
       "      <td>0.393795</td>\n",
       "      <td>0.263729</td>\n",
       "      <td>0.000000</td>\n",
       "      <td>0.000000</td>\n",
       "      <td>0.393795</td>\n",
       "      <td>0.000000</td>\n",
       "      <td>0.000000</td>\n",
       "      <td>...</td>\n",
       "      <td>0.393795</td>\n",
       "      <td>0.000000</td>\n",
       "      <td>0.393795</td>\n",
       "      <td>0.000000</td>\n",
       "      <td>0.000000</td>\n",
       "      <td>0.000000</td>\n",
       "      <td>0.000000</td>\n",
       "      <td>0.000000</td>\n",
       "      <td>0.000000</td>\n",
       "      <td>0.000000</td>\n",
       "    </tr>\n",
       "    <tr>\n",
       "      <th>3</th>\n",
       "      <td>0.273480</td>\n",
       "      <td>0.546960</td>\n",
       "      <td>0.000000</td>\n",
       "      <td>0.000000</td>\n",
       "      <td>0.227013</td>\n",
       "      <td>0.000000</td>\n",
       "      <td>0.338971</td>\n",
       "      <td>0.000000</td>\n",
       "      <td>0.000000</td>\n",
       "      <td>0.000000</td>\n",
       "      <td>...</td>\n",
       "      <td>0.000000</td>\n",
       "      <td>0.000000</td>\n",
       "      <td>0.000000</td>\n",
       "      <td>0.000000</td>\n",
       "      <td>0.000000</td>\n",
       "      <td>0.338971</td>\n",
       "      <td>0.000000</td>\n",
       "      <td>0.338971</td>\n",
       "      <td>0.000000</td>\n",
       "      <td>0.000000</td>\n",
       "    </tr>\n",
       "    <tr>\n",
       "      <th>4</th>\n",
       "      <td>0.000000</td>\n",
       "      <td>0.000000</td>\n",
       "      <td>0.000000</td>\n",
       "      <td>0.000000</td>\n",
       "      <td>0.000000</td>\n",
       "      <td>0.387757</td>\n",
       "      <td>0.000000</td>\n",
       "      <td>0.000000</td>\n",
       "      <td>0.312840</td>\n",
       "      <td>0.387757</td>\n",
       "      <td>...</td>\n",
       "      <td>0.000000</td>\n",
       "      <td>0.000000</td>\n",
       "      <td>0.000000</td>\n",
       "      <td>0.387757</td>\n",
       "      <td>0.000000</td>\n",
       "      <td>0.000000</td>\n",
       "      <td>0.387757</td>\n",
       "      <td>0.000000</td>\n",
       "      <td>0.000000</td>\n",
       "      <td>0.387757</td>\n",
       "    </tr>\n",
       "  </tbody>\n",
       "</table>\n",
       "<p>5 rows × 27 columns</p>\n",
       "</div>"
      ],
      "text/plain": [
       "    beserta      ciri  contohnya     dalam       dan        di   ekonomi  \\\n",
       "0  0.327949  0.327949   0.406485  0.000000  0.272228  0.000000  0.000000   \n",
       "1  0.000000  0.000000   0.000000  0.000000  0.000000  0.000000  0.000000   \n",
       "2  0.000000  0.000000   0.000000  0.393795  0.263729  0.000000  0.000000   \n",
       "3  0.273480  0.546960   0.000000  0.000000  0.227013  0.000000  0.338971   \n",
       "4  0.000000  0.000000   0.000000  0.000000  0.000000  0.387757  0.000000   \n",
       "\n",
       "   fungsinya  indonesia  kerajinan  ...     musik  pengertian  penjelasan  \\\n",
       "0   0.000000   0.000000   0.000000  ...  0.000000    0.406485    0.000000   \n",
       "1   0.000000   0.469515   0.000000  ...  0.000000    0.000000    0.000000   \n",
       "2   0.393795   0.000000   0.000000  ...  0.393795    0.000000    0.393795   \n",
       "3   0.000000   0.000000   0.000000  ...  0.000000    0.000000    0.000000   \n",
       "4   0.000000   0.312840   0.387757  ...  0.000000    0.000000    0.000000   \n",
       "\n",
       "      ragam      raya   tentang  terdapat    ulasan     wajib      yang  \n",
       "0  0.000000  0.000000  0.000000  0.000000  0.000000  0.406485  0.000000  \n",
       "1  0.000000  0.581951  0.000000  0.000000  0.000000  0.000000  0.000000  \n",
       "2  0.000000  0.000000  0.000000  0.000000  0.000000  0.000000  0.000000  \n",
       "3  0.000000  0.000000  0.338971  0.000000  0.338971  0.000000  0.000000  \n",
       "4  0.387757  0.000000  0.000000  0.387757  0.000000  0.000000  0.387757  \n",
       "\n",
       "[5 rows x 27 columns]"
      ]
     },
     "execution_count": 182,
     "metadata": {},
     "output_type": "execute_result"
    }
   ],
   "source": [
    "tfidf_array = tfidf.toarray()\n",
    "df = pd.DataFrame(data=tfidf_array, columns=vectorizer.get_feature_names_out())\n",
    "df"
   ]
  },
  {
   "cell_type": "code",
   "execution_count": 183,
   "metadata": {},
   "outputs": [
    {
     "name": "stderr",
     "output_type": "stream",
     "text": [
      "c:\\Users\\Hammam\\Lib\\site-packages\\sklearn\\feature_extraction\\text.py:409: UserWarning: Your stop_words may be inconsistent with your preprocessing. Tokenizing the stop words generated tokens ['baiknya', 'batas', 'benarnya', 'bener', 'berulang', 'dalamnya', 'dibagi', 'galanya', 'gamblangnya', 'gini', 'gininya', 'harinya', 'kesini', 'kurangnya', 'mata', 'menerus', 'mereta', 'merta', 'musabab', 'musababnya', 'napa', 'nyata', 'olah', 'ratanya', 'reka', 'rupa', 'sebenar', 'sedalam', 'segamblang', 'segini', 'segmen', 'sejelas', 'sekurang', 'sempet', 'tama', 'yakinnya'] not in stop_words.\n",
      "  warnings.warn(\n"
     ]
    },
    {
     "data": {
      "text/plain": [
       "(1, 47)"
      ]
     },
     "execution_count": 183,
     "metadata": {},
     "output_type": "execute_result"
    }
   ],
   "source": [
    "vectorizer = TfidfVectorizer(stop_words=stop_words, min_df=0.25)\n",
    "tfidf= vectorizer.fit_transform(long_text)\n",
    "tfidf.shape"
   ]
  },
  {
   "cell_type": "code",
   "execution_count": 184,
   "metadata": {},
   "outputs": [
    {
     "name": "stdout",
     "output_type": "stream",
     "text": [
      "  (0, 44)\t0.08247860988423225\n",
      "  (0, 4)\t0.08247860988423225\n",
      "  (0, 2)\t0.08247860988423225\n",
      "  (0, 18)\t0.08247860988423225\n",
      "  (0, 24)\t0.08247860988423225\n",
      "  (0, 39)\t0.08247860988423225\n",
      "  (0, 20)\t0.08247860988423225\n",
      "  (0, 38)\t0.08247860988423225\n",
      "  (0, 43)\t0.1649572197684645\n",
      "  (0, 46)\t0.24743582965269675\n",
      "  (0, 42)\t0.1649572197684645\n",
      "  (0, 29)\t0.1649572197684645\n",
      "  (0, 17)\t0.1649572197684645\n",
      "  (0, 28)\t0.08247860988423225\n",
      "  (0, 31)\t0.08247860988423225\n",
      "  (0, 45)\t0.08247860988423225\n",
      "  (0, 13)\t0.08247860988423225\n",
      "  (0, 30)\t0.08247860988423225\n",
      "  (0, 7)\t0.08247860988423225\n",
      "  (0, 36)\t0.08247860988423225\n",
      "  (0, 10)\t0.329914439536929\n",
      "  (0, 16)\t0.08247860988423225\n",
      "  (0, 26)\t0.08247860988423225\n",
      "  (0, 11)\t0.08247860988423225\n",
      "  (0, 3)\t0.08247860988423225\n",
      "  (0, 8)\t0.08247860988423225\n",
      "  (0, 33)\t0.08247860988423225\n",
      "  (0, 27)\t0.08247860988423225\n",
      "  (0, 25)\t0.08247860988423225\n",
      "  (0, 15)\t0.08247860988423225\n",
      "  (0, 32)\t0.08247860988423225\n",
      "  (0, 5)\t0.08247860988423225\n",
      "  (0, 19)\t0.08247860988423225\n",
      "  (0, 23)\t0.08247860988423225\n",
      "  (0, 21)\t0.4123930494211613\n",
      "  (0, 12)\t0.08247860988423225\n",
      "  (0, 6)\t0.08247860988423225\n",
      "  (0, 35)\t0.1649572197684645\n",
      "  (0, 41)\t0.08247860988423225\n",
      "  (0, 22)\t0.08247860988423225\n",
      "  (0, 34)\t0.08247860988423225\n",
      "  (0, 14)\t0.08247860988423225\n",
      "  (0, 37)\t0.08247860988423225\n",
      "  (0, 9)\t0.1649572197684645\n",
      "  (0, 0)\t0.24743582965269675\n",
      "  (0, 1)\t0.4123930494211613\n",
      "  (0, 40)\t0.1649572197684645\n"
     ]
    }
   ],
   "source": [
    "print(tfidf)"
   ]
  },
  {
   "cell_type": "code",
   "execution_count": 185,
   "metadata": {},
   "outputs": [
    {
     "data": {
      "text/plain": [
       "{'pengolahan': 40,\n",
       " 'bahasa': 1,\n",
       " 'alami': 0,\n",
       " 'disingkat': 9,\n",
       " 'pba': 37,\n",
       " 'inggris': 14,\n",
       " 'natural': 34,\n",
       " 'language': 22,\n",
       " 'processing': 41,\n",
       " 'nlp': 35,\n",
       " 'cabang': 6,\n",
       " 'ilmu': 12,\n",
       " 'komputer': 21,\n",
       " 'linguistik': 23,\n",
       " 'kecerdasan': 19,\n",
       " 'buatan': 5,\n",
       " 'mengkaji': 32,\n",
       " 'interaksi': 15,\n",
       " 'manusia': 25,\n",
       " 'memprogram': 27,\n",
       " 'mengolah': 33,\n",
       " 'data': 8,\n",
       " 'besar': 3,\n",
       " 'hasilnya': 11,\n",
       " 'memahami': 26,\n",
       " 'isi': 16,\n",
       " 'dokumen': 10,\n",
       " 'nuansa': 36,\n",
       " 'dalamnya': 7,\n",
       " 'mengambil': 30,\n",
       " 'informasi': 13,\n",
       " 'wawasan': 45,\n",
       " 'mengelompokkan': 31,\n",
       " 'menata': 28,\n",
       " 'kajian': 17,\n",
       " 'mencakup': 29,\n",
       " 'segmentasi': 42,\n",
       " 'wicara': 46,\n",
       " 'teks': 43,\n",
       " 'penandaan': 38,\n",
       " 'kelas': 20,\n",
       " 'pengawataksaan': 39,\n",
       " 'makna': 24,\n",
       " 'kajiannya': 18,\n",
       " 'berkembang': 2,\n",
       " 'bidang': 4,\n",
       " 'terpisah': 44}"
      ]
     },
     "execution_count": 185,
     "metadata": {},
     "output_type": "execute_result"
    }
   ],
   "source": [
    "vectorizer.vocabulary_"
   ]
  },
  {
   "cell_type": "code",
   "execution_count": 186,
   "metadata": {},
   "outputs": [],
   "source": [
    "import nltk\n",
    "import numpy as np\n",
    "import pandas as pd"
   ]
  },
  {
   "cell_type": "code",
   "execution_count": 187,
   "metadata": {},
   "outputs": [],
   "source": [
    "sentences=[\n",
    "    'saya suka makan',\n",
    "    'saya suka nonton',\n",
    "    'saya benci tidur',\n",
    "]"
   ]
  },
  {
   "cell_type": "code",
   "execution_count": 188,
   "metadata": {},
   "outputs": [],
   "source": [
    "kata = list(set((\"\".join(sentences)).split()))"
   ]
  },
  {
   "cell_type": "code",
   "execution_count": 189,
   "metadata": {},
   "outputs": [
    {
     "data": {
      "text/plain": [
       "[['saya', 'suka', 'makan'],\n",
       " ['saya', 'suka', 'nonton'],\n",
       " ['saya', 'benci', 'tidur']]"
      ]
     },
     "execution_count": 189,
     "metadata": {},
     "output_type": "execute_result"
    }
   ],
   "source": [
    "text_data = []\n",
    "for i in sentences:\n",
    "    text_data.append(i.split())\n",
    "text_data"
   ]
  },
  {
   "cell_type": "code",
   "execution_count": 190,
   "metadata": {},
   "outputs": [
    {
     "data": {
      "text/plain": [
       "3"
      ]
     },
     "execution_count": 190,
     "metadata": {},
     "output_type": "execute_result"
    }
   ],
   "source": [
    "num_words = [len(sentences.split()) for sentences in sentences]\n",
    "min_words = min(num_words)\n",
    "min_words"
   ]
  },
  {
   "cell_type": "code",
   "execution_count": 191,
   "metadata": {},
   "outputs": [],
   "source": [
    "# windows_size = 2\n",
    "\n",
    "# w = []\n",
    "# for data in sentences:\n",
    "#     data = data.split(' ')\n",
    "#     for index_1 in range(len(data) - windows_size+1):\n",
    "#         for index_2 in range(index_1 + 1, index_1 + windows_size + 1):\n",
    "#             if index_2 <= len(data)-1:\n",
    "#                 w.append([data[index_1], data[index_2]])\n",
    "window_size = 2\n",
    "\n",
    "w = []\n",
    "for data in sentences:\n",
    "    data = data.split(' ') #if data is list\n",
    "    for index_1 in range(len(data) - window_size+1):\n",
    "        for index_2 in range(index_1 + 1, index_1 + window_size + 1):\n",
    "            if index_2 <= len(data)-1:\n",
    "                w.append([data[index_1], data[index_2]])"
   ]
  },
  {
   "cell_type": "code",
   "execution_count": 192,
   "metadata": {},
   "outputs": [
    {
     "data": {
      "text/plain": [
       "9"
      ]
     },
     "execution_count": 192,
     "metadata": {},
     "output_type": "execute_result"
    }
   ],
   "source": [
    "len(w)"
   ]
  },
  {
   "cell_type": "code",
   "execution_count": 193,
   "metadata": {},
   "outputs": [
    {
     "data": {
      "text/plain": [
       "[['saya', 'suka'],\n",
       " ['saya', 'makan'],\n",
       " ['suka', 'makan'],\n",
       " ['saya', 'suka'],\n",
       " ['saya', 'nonton'],\n",
       " ['suka', 'nonton'],\n",
       " ['saya', 'benci'],\n",
       " ['saya', 'tidur'],\n",
       " ['benci', 'tidur']]"
      ]
     },
     "execution_count": 193,
     "metadata": {},
     "output_type": "execute_result"
    }
   ],
   "source": [
    "w"
   ]
  },
  {
   "cell_type": "code",
   "execution_count": 194,
   "metadata": {},
   "outputs": [
    {
     "data": {
      "text/plain": [
       "10"
      ]
     },
     "execution_count": 194,
     "metadata": {},
     "output_type": "execute_result"
    }
   ],
   "source": [
    "w1 = [x[::-1] for x in w]\n",
    "w.append(w1)\n",
    "len(w)"
   ]
  },
  {
   "cell_type": "code",
   "execution_count": 195,
   "metadata": {},
   "outputs": [],
   "source": [
    "array = np.zeros((len(kata), len(kata)))"
   ]
  },
  {
   "cell_type": "code",
   "execution_count": 196,
   "metadata": {},
   "outputs": [],
   "source": [
    "df = pd.DataFrame(array, index = kata, columns= kata)"
   ]
  },
  {
   "cell_type": "code",
   "execution_count": 197,
   "metadata": {},
   "outputs": [
    {
     "data": {
      "text/html": [
       "<div>\n",
       "<style scoped>\n",
       "    .dataframe tbody tr th:only-of-type {\n",
       "        vertical-align: middle;\n",
       "    }\n",
       "\n",
       "    .dataframe tbody tr th {\n",
       "        vertical-align: top;\n",
       "    }\n",
       "\n",
       "    .dataframe thead th {\n",
       "        text-align: right;\n",
       "    }\n",
       "</style>\n",
       "<table border=\"1\" class=\"dataframe\">\n",
       "  <thead>\n",
       "    <tr style=\"text-align: right;\">\n",
       "      <th></th>\n",
       "      <th>tidur</th>\n",
       "      <th>makansaya</th>\n",
       "      <th>benci</th>\n",
       "      <th>saya</th>\n",
       "      <th>nontonsaya</th>\n",
       "      <th>suka</th>\n",
       "    </tr>\n",
       "  </thead>\n",
       "  <tbody>\n",
       "    <tr>\n",
       "      <th>tidur</th>\n",
       "      <td>0.0</td>\n",
       "      <td>0.0</td>\n",
       "      <td>0.0</td>\n",
       "      <td>0.0</td>\n",
       "      <td>0.0</td>\n",
       "      <td>0.0</td>\n",
       "    </tr>\n",
       "    <tr>\n",
       "      <th>makansaya</th>\n",
       "      <td>0.0</td>\n",
       "      <td>0.0</td>\n",
       "      <td>0.0</td>\n",
       "      <td>0.0</td>\n",
       "      <td>0.0</td>\n",
       "      <td>0.0</td>\n",
       "    </tr>\n",
       "    <tr>\n",
       "      <th>benci</th>\n",
       "      <td>0.0</td>\n",
       "      <td>0.0</td>\n",
       "      <td>0.0</td>\n",
       "      <td>0.0</td>\n",
       "      <td>0.0</td>\n",
       "      <td>0.0</td>\n",
       "    </tr>\n",
       "    <tr>\n",
       "      <th>saya</th>\n",
       "      <td>0.0</td>\n",
       "      <td>0.0</td>\n",
       "      <td>0.0</td>\n",
       "      <td>0.0</td>\n",
       "      <td>0.0</td>\n",
       "      <td>0.0</td>\n",
       "    </tr>\n",
       "    <tr>\n",
       "      <th>nontonsaya</th>\n",
       "      <td>0.0</td>\n",
       "      <td>0.0</td>\n",
       "      <td>0.0</td>\n",
       "      <td>0.0</td>\n",
       "      <td>0.0</td>\n",
       "      <td>0.0</td>\n",
       "    </tr>\n",
       "    <tr>\n",
       "      <th>suka</th>\n",
       "      <td>0.0</td>\n",
       "      <td>0.0</td>\n",
       "      <td>0.0</td>\n",
       "      <td>0.0</td>\n",
       "      <td>0.0</td>\n",
       "      <td>0.0</td>\n",
       "    </tr>\n",
       "  </tbody>\n",
       "</table>\n",
       "</div>"
      ],
      "text/plain": [
       "            tidur  makansaya  benci  saya  nontonsaya  suka\n",
       "tidur         0.0        0.0    0.0   0.0         0.0   0.0\n",
       "makansaya     0.0        0.0    0.0   0.0         0.0   0.0\n",
       "benci         0.0        0.0    0.0   0.0         0.0   0.0\n",
       "saya          0.0        0.0    0.0   0.0         0.0   0.0\n",
       "nontonsaya    0.0        0.0    0.0   0.0         0.0   0.0\n",
       "suka          0.0        0.0    0.0   0.0         0.0   0.0"
      ]
     },
     "execution_count": 197,
     "metadata": {},
     "output_type": "execute_result"
    }
   ],
   "source": [
    "df"
   ]
  },
  {
   "cell_type": "code",
   "execution_count": 199,
   "metadata": {},
   "outputs": [
    {
     "ename": "KeyError",
     "evalue": "'makan'",
     "output_type": "error",
     "traceback": [
      "\u001b[1;31m---------------------------------------------------------------------------\u001b[0m",
      "\u001b[1;31mKeyError\u001b[0m                                  Traceback (most recent call last)",
      "File \u001b[1;32mc:\\Users\\Hammam\\Lib\\site-packages\\pandas\\core\\indexes\\base.py:3790\u001b[0m, in \u001b[0;36mIndex.get_loc\u001b[1;34m(self, key)\u001b[0m\n\u001b[0;32m   3789\u001b[0m \u001b[39mtry\u001b[39;00m:\n\u001b[1;32m-> 3790\u001b[0m     \u001b[39mreturn\u001b[39;00m \u001b[39mself\u001b[39;49m\u001b[39m.\u001b[39;49m_engine\u001b[39m.\u001b[39;49mget_loc(casted_key)\n\u001b[0;32m   3791\u001b[0m \u001b[39mexcept\u001b[39;00m \u001b[39mKeyError\u001b[39;00m \u001b[39mas\u001b[39;00m err:\n",
      "File \u001b[1;32mindex.pyx:152\u001b[0m, in \u001b[0;36mpandas._libs.index.IndexEngine.get_loc\u001b[1;34m()\u001b[0m\n",
      "File \u001b[1;32mindex.pyx:181\u001b[0m, in \u001b[0;36mpandas._libs.index.IndexEngine.get_loc\u001b[1;34m()\u001b[0m\n",
      "File \u001b[1;32mpandas\\_libs\\hashtable_class_helper.pxi:7080\u001b[0m, in \u001b[0;36mpandas._libs.hashtable.PyObjectHashTable.get_item\u001b[1;34m()\u001b[0m\n",
      "File \u001b[1;32mpandas\\_libs\\hashtable_class_helper.pxi:7088\u001b[0m, in \u001b[0;36mpandas._libs.hashtable.PyObjectHashTable.get_item\u001b[1;34m()\u001b[0m\n",
      "\u001b[1;31mKeyError\u001b[0m: 'makan'",
      "\nThe above exception was the direct cause of the following exception:\n",
      "\u001b[1;31mKeyError\u001b[0m                                  Traceback (most recent call last)",
      "\u001b[1;32md:\\ai course\\Fundamental Natural Lenguage Processing\\11 Frequency-Based Text Vectorization\\practice.ipynb Cell 51\u001b[0m line \u001b[0;36m4\n\u001b[0;32m      <a href='vscode-notebook-cell:/d%3A/ai%20course/Fundamental%20Natural%20Lenguage%20Processing/11%20Frequency-Based%20Text%20Vectorization/practice.ipynb#Y101sZmlsZQ%3D%3D?line=0'>1</a>\u001b[0m \u001b[39m# for i in w:\u001b[39;00m\n\u001b[0;32m      <a href='vscode-notebook-cell:/d%3A/ai%20course/Fundamental%20Natural%20Lenguage%20Processing/11%20Frequency-Based%20Text%20Vectorization/practice.ipynb#Y101sZmlsZQ%3D%3D?line=1'>2</a>\u001b[0m \u001b[39m#     df.at[i[0], i[1]]+=1\u001b[39;00m\n\u001b[0;32m      <a href='vscode-notebook-cell:/d%3A/ai%20course/Fundamental%20Natural%20Lenguage%20Processing/11%20Frequency-Based%20Text%20Vectorization/practice.ipynb#Y101sZmlsZQ%3D%3D?line=2'>3</a>\u001b[0m \u001b[39mfor\u001b[39;00m i \u001b[39min\u001b[39;00m w:\n\u001b[1;32m----> <a href='vscode-notebook-cell:/d%3A/ai%20course/Fundamental%20Natural%20Lenguage%20Processing/11%20Frequency-Based%20Text%20Vectorization/practice.ipynb#Y101sZmlsZQ%3D%3D?line=3'>4</a>\u001b[0m     df\u001b[39m.\u001b[39;49mat[i[\u001b[39m0\u001b[39;49m], i[\u001b[39m1\u001b[39;49m]]\u001b[39m+\u001b[39m\u001b[39m=\u001b[39m\u001b[39m1\u001b[39m\n",
      "File \u001b[1;32mc:\\Users\\Hammam\\Lib\\site-packages\\pandas\\core\\indexing.py:2488\u001b[0m, in \u001b[0;36m_AtIndexer.__getitem__\u001b[1;34m(self, key)\u001b[0m\n\u001b[0;32m   2485\u001b[0m         \u001b[39mraise\u001b[39;00m \u001b[39mValueError\u001b[39;00m(\u001b[39m\"\u001b[39m\u001b[39mInvalid call for scalar access (getting)!\u001b[39m\u001b[39m\"\u001b[39m)\n\u001b[0;32m   2486\u001b[0m     \u001b[39mreturn\u001b[39;00m \u001b[39mself\u001b[39m\u001b[39m.\u001b[39mobj\u001b[39m.\u001b[39mloc[key]\n\u001b[1;32m-> 2488\u001b[0m \u001b[39mreturn\u001b[39;00m \u001b[39msuper\u001b[39;49m()\u001b[39m.\u001b[39;49m\u001b[39m__getitem__\u001b[39;49m(key)\n",
      "File \u001b[1;32mc:\\Users\\Hammam\\Lib\\site-packages\\pandas\\core\\indexing.py:2440\u001b[0m, in \u001b[0;36m_ScalarAccessIndexer.__getitem__\u001b[1;34m(self, key)\u001b[0m\n\u001b[0;32m   2437\u001b[0m         \u001b[39mraise\u001b[39;00m \u001b[39mValueError\u001b[39;00m(\u001b[39m\"\u001b[39m\u001b[39mInvalid call for scalar access (getting)!\u001b[39m\u001b[39m\"\u001b[39m)\n\u001b[0;32m   2439\u001b[0m key \u001b[39m=\u001b[39m \u001b[39mself\u001b[39m\u001b[39m.\u001b[39m_convert_key(key)\n\u001b[1;32m-> 2440\u001b[0m \u001b[39mreturn\u001b[39;00m \u001b[39mself\u001b[39;49m\u001b[39m.\u001b[39;49mobj\u001b[39m.\u001b[39;49m_get_value(\u001b[39m*\u001b[39;49mkey, takeable\u001b[39m=\u001b[39;49m\u001b[39mself\u001b[39;49m\u001b[39m.\u001b[39;49m_takeable)\n",
      "File \u001b[1;32mc:\\Users\\Hammam\\Lib\\site-packages\\pandas\\core\\frame.py:4008\u001b[0m, in \u001b[0;36mDataFrame._get_value\u001b[1;34m(self, index, col, takeable)\u001b[0m\n\u001b[0;32m   4005\u001b[0m     series \u001b[39m=\u001b[39m \u001b[39mself\u001b[39m\u001b[39m.\u001b[39m_ixs(col, axis\u001b[39m=\u001b[39m\u001b[39m1\u001b[39m)\n\u001b[0;32m   4006\u001b[0m     \u001b[39mreturn\u001b[39;00m series\u001b[39m.\u001b[39m_values[index]\n\u001b[1;32m-> 4008\u001b[0m series \u001b[39m=\u001b[39m \u001b[39mself\u001b[39;49m\u001b[39m.\u001b[39;49m_get_item_cache(col)\n\u001b[0;32m   4009\u001b[0m engine \u001b[39m=\u001b[39m \u001b[39mself\u001b[39m\u001b[39m.\u001b[39mindex\u001b[39m.\u001b[39m_engine\n\u001b[0;32m   4011\u001b[0m \u001b[39mif\u001b[39;00m \u001b[39mnot\u001b[39;00m \u001b[39misinstance\u001b[39m(\u001b[39mself\u001b[39m\u001b[39m.\u001b[39mindex, MultiIndex):\n\u001b[0;32m   4012\u001b[0m     \u001b[39m# CategoricalIndex: Trying to use the engine fastpath may give incorrect\u001b[39;00m\n\u001b[0;32m   4013\u001b[0m     \u001b[39m#  results if our categories are integers that dont match our codes\u001b[39;00m\n\u001b[0;32m   4014\u001b[0m     \u001b[39m# IntervalIndex: IntervalTree has no get_loc\u001b[39;00m\n",
      "File \u001b[1;32mc:\\Users\\Hammam\\Lib\\site-packages\\pandas\\core\\frame.py:4417\u001b[0m, in \u001b[0;36mDataFrame._get_item_cache\u001b[1;34m(self, item)\u001b[0m\n\u001b[0;32m   4412\u001b[0m res \u001b[39m=\u001b[39m cache\u001b[39m.\u001b[39mget(item)\n\u001b[0;32m   4413\u001b[0m \u001b[39mif\u001b[39;00m res \u001b[39mis\u001b[39;00m \u001b[39mNone\u001b[39;00m:\n\u001b[0;32m   4414\u001b[0m     \u001b[39m# All places that call _get_item_cache have unique columns,\u001b[39;00m\n\u001b[0;32m   4415\u001b[0m     \u001b[39m#  pending resolution of GH#33047\u001b[39;00m\n\u001b[1;32m-> 4417\u001b[0m     loc \u001b[39m=\u001b[39m \u001b[39mself\u001b[39;49m\u001b[39m.\u001b[39;49mcolumns\u001b[39m.\u001b[39;49mget_loc(item)\n\u001b[0;32m   4418\u001b[0m     res \u001b[39m=\u001b[39m \u001b[39mself\u001b[39m\u001b[39m.\u001b[39m_ixs(loc, axis\u001b[39m=\u001b[39m\u001b[39m1\u001b[39m)\n\u001b[0;32m   4420\u001b[0m     cache[item] \u001b[39m=\u001b[39m res\n",
      "File \u001b[1;32mc:\\Users\\Hammam\\Lib\\site-packages\\pandas\\core\\indexes\\base.py:3797\u001b[0m, in \u001b[0;36mIndex.get_loc\u001b[1;34m(self, key)\u001b[0m\n\u001b[0;32m   3792\u001b[0m     \u001b[39mif\u001b[39;00m \u001b[39misinstance\u001b[39m(casted_key, \u001b[39mslice\u001b[39m) \u001b[39mor\u001b[39;00m (\n\u001b[0;32m   3793\u001b[0m         \u001b[39misinstance\u001b[39m(casted_key, abc\u001b[39m.\u001b[39mIterable)\n\u001b[0;32m   3794\u001b[0m         \u001b[39mand\u001b[39;00m \u001b[39many\u001b[39m(\u001b[39misinstance\u001b[39m(x, \u001b[39mslice\u001b[39m) \u001b[39mfor\u001b[39;00m x \u001b[39min\u001b[39;00m casted_key)\n\u001b[0;32m   3795\u001b[0m     ):\n\u001b[0;32m   3796\u001b[0m         \u001b[39mraise\u001b[39;00m InvalidIndexError(key)\n\u001b[1;32m-> 3797\u001b[0m     \u001b[39mraise\u001b[39;00m \u001b[39mKeyError\u001b[39;00m(key) \u001b[39mfrom\u001b[39;00m \u001b[39merr\u001b[39;00m\n\u001b[0;32m   3798\u001b[0m \u001b[39mexcept\u001b[39;00m \u001b[39mTypeError\u001b[39;00m:\n\u001b[0;32m   3799\u001b[0m     \u001b[39m# If we have a listlike key, _check_indexing_error will raise\u001b[39;00m\n\u001b[0;32m   3800\u001b[0m     \u001b[39m#  InvalidIndexError. Otherwise we fall through and re-raise\u001b[39;00m\n\u001b[0;32m   3801\u001b[0m     \u001b[39m#  the TypeError.\u001b[39;00m\n\u001b[0;32m   3802\u001b[0m     \u001b[39mself\u001b[39m\u001b[39m.\u001b[39m_check_indexing_error(key)\n",
      "\u001b[1;31mKeyError\u001b[0m: 'makan'"
     ]
    }
   ],
   "source": [
    "# for i in w:\n",
    "#     df.at[i[0], i[1]]+=1\n",
    "for i in w:\n",
    "    df.at[i[0], i[1]]+=1"
   ]
  },
  {
   "cell_type": "code",
   "execution_count": null,
   "metadata": {},
   "outputs": [],
   "source": []
  }
 ],
 "metadata": {
  "kernelspec": {
   "display_name": "Python 3",
   "language": "python",
   "name": "python3"
  },
  "language_info": {
   "codemirror_mode": {
    "name": "ipython",
    "version": 3
   },
   "file_extension": ".py",
   "mimetype": "text/x-python",
   "name": "python",
   "nbconvert_exporter": "python",
   "pygments_lexer": "ipython3",
   "version": "3.11.2"
  }
 },
 "nbformat": 4,
 "nbformat_minor": 2
}
