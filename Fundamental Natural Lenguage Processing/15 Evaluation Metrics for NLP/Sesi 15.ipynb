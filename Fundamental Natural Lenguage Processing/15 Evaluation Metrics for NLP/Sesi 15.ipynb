{
  "nbformat": 4,
  "nbformat_minor": 0,
  "metadata": {
    "colab": {
      "provenance": []
    },
    "kernelspec": {
      "name": "python3",
      "display_name": "Python 3"
    },
    "language_info": {
      "name": "python"
    }
  },
  "cells": [
    {
      "cell_type": "code",
      "execution_count": 54,
      "metadata": {
        "id": "u_OjjTHgM63f"
      },
      "outputs": [],
      "source": [
        "import pandas as pd\n",
        "import numpy as np\n",
        "import matplotlib.pyplot as plt\n",
        "import seaborn as sns\n",
        "from sklearn.model_selection import train_test_split\n",
        "from sklearn.preprocessing import LabelEncoder\n",
        "from keras.models import Model\n",
        "from keras.layers import LSTM, Activation, Dense, Dropout, Input, Embedding, GRU, SimpleRNN\n",
        "from keras.optimizers import RMSprop\n",
        "from keras.preprocessing.text import Tokenizer\n",
        "from keras.preprocessing import sequence\n",
        "from keras.utils.data_utils import pad_sequences\n",
        "from keras.utils import to_categorical\n",
        "from keras.callbacks import EarlyStopping\n",
        "%matplotlib inline\n",
        "\n",
        "from sklearn.metrics import classification_report, confusion_matrix"
      ]
    },
    {
      "cell_type": "code",
      "source": [
        "data = pd.read_csv('/content/dataset_spam.csv')\n",
        "data.tail()"
      ],
      "metadata": {
        "id": "H9MRg9yPYROt"
      },
      "execution_count": null,
      "outputs": []
    },
    {
      "cell_type": "code",
      "source": [
        "# mapping  label dan konten, X untuk konten, dan Y untuk label\n",
        "X = data.content\n",
        "Y = data.label\n",
        "label_encoder = LabelEncoder()\n",
        "Y = label_encoder.fit_transform(Y)\n",
        "Y = Y.reshape(-1,1)"
      ],
      "metadata": {
        "id": "rMUUpGaFYbjc"
      },
      "execution_count": 3,
      "outputs": []
    },
    {
      "cell_type": "code",
      "source": [
        "X_train, X_test, Y_train, Y_test = train_test_split(X, Y, test_size=0.3)\n",
        "# 6000 row\n",
        "# 70% data train dan 30% data test.\n",
        "# 80< maka dia spam"
      ],
      "metadata": {
        "id": "prqIUflfYd8x"
      },
      "execution_count": 4,
      "outputs": []
    },
    {
      "cell_type": "code",
      "source": [
        "# conversi teks ke sequence\n",
        "max_words = 1000\n",
        "max_len = 150\n",
        "tok = Tokenizer(num_words=max_words)\n",
        "tok.fit_on_texts(X_train)\n",
        "sequences = tok.texts_to_sequences(X_train)\n",
        "sequences_matrix = pad_sequences(sequences,maxlen=max_len)"
      ],
      "metadata": {
        "id": "UkD5WtTxYg8c"
      },
      "execution_count": 5,
      "outputs": []
    },
    {
      "cell_type": "code",
      "source": [
        "# define RNN\n",
        "def RNN():\n",
        "    inputs = Input(name='inputs', shape=[max_len])\n",
        "    layer = Embedding(max_words, 50, input_length=max_len)(inputs)\n",
        "    layer = LSTM(64)(layer)\n",
        "    layer = Dense(256,name='FC1')(layer)\n",
        "    layer = Activation('relu')(layer)\n",
        "    layer = Dropout(0.5)(layer)\n",
        "    layer = Dense(1,name='out_layer')(layer)\n",
        "    layer = Activation('sigmoid')(layer)\n",
        "    model = Model(inputs=inputs, outputs=layer)\n",
        "    return model"
      ],
      "metadata": {
        "id": "hqyDVfTkYjSE"
      },
      "execution_count": 6,
      "outputs": []
    },
    {
      "cell_type": "code",
      "source": [
        "model = RNN()\n",
        "model.summary()\n",
        "model.compile(loss='binary_crossentropy', optimizer=RMSprop(), metrics=['accuracy'])"
      ],
      "metadata": {
        "id": "KcT2TFaxYlR_"
      },
      "execution_count": null,
      "outputs": []
    },
    {
      "cell_type": "code",
      "source": [
        "model.fit(sequences_matrix, Y_train,batch_size=128, epochs=10,\n",
        "          validation_split=0.2, callbacks=[EarlyStopping(monitor='val_loss', min_delta=0.0001)])"
      ],
      "metadata": {
        "id": "oBbmFVPaYnea"
      },
      "execution_count": null,
      "outputs": []
    },
    {
      "cell_type": "code",
      "source": [
        "test_sequences = tok.texts_to_sequences(X_test)\n",
        "test_sequences_matrix = pad_sequences(test_sequences, maxlen=max_len)"
      ],
      "metadata": {
        "id": "yQwccZMrYpxX"
      },
      "execution_count": 9,
      "outputs": []
    },
    {
      "cell_type": "code",
      "source": [
        "accr = model.evaluate(test_sequences_matrix, Y_test)"
      ],
      "metadata": {
        "colab": {
          "base_uri": "https://localhost:8080/"
        },
        "id": "qFNc2fJjYsBJ",
        "outputId": "ebc6225d-28e2-485c-cd03-73d8d4c854fe"
      },
      "execution_count": 10,
      "outputs": [
        {
          "output_type": "stream",
          "name": "stdout",
          "text": [
            "63/63 [==============================] - 2s 25ms/step - loss: 0.1436 - accuracy: 0.9590\n"
          ]
        }
      ]
    },
    {
      "cell_type": "code",
      "source": [
        "print('Test set\\n  Loss: {:0.3f}\\n  Accuracy: {:0.3f}'.format(accr[0],accr[1]))"
      ],
      "metadata": {
        "colab": {
          "base_uri": "https://localhost:8080/"
        },
        "id": "uG-n1rQZYuEX",
        "outputId": "13113b28-9ad3-452f-b859-a768728c90b2"
      },
      "execution_count": 11,
      "outputs": [
        {
          "output_type": "stream",
          "name": "stdout",
          "text": [
            "Test set\n",
            "  Loss: 0.144\n",
            "  Accuracy: 0.959\n"
          ]
        }
      ]
    },
    {
      "cell_type": "markdown",
      "source": [
        "# Matriks NLP Dasar"
      ],
      "metadata": {
        "id": "Gum1fc85fQc5"
      }
    },
    {
      "cell_type": "markdown",
      "source": [
        "* Akurasi, Presisi, Recall, F1-Score"
      ],
      "metadata": {
        "id": "ImSXg_aPfU9l"
      }
    },
    {
      "cell_type": "code",
      "source": [
        "y_prediction = model.predict(test_sequences_matrix)"
      ],
      "metadata": {
        "colab": {
          "base_uri": "https://localhost:8080/"
        },
        "id": "WH46ooNnZkdn",
        "outputId": "9049c3bc-2243-4950-8ed3-38efbe83a23f"
      },
      "execution_count": 50,
      "outputs": [
        {
          "output_type": "stream",
          "name": "stdout",
          "text": [
            "63/63 [==============================] - 1s 22ms/step\n"
          ]
        }
      ]
    },
    {
      "cell_type": "code",
      "source": [
        "confusion_matrix = confusion_matrix(Y_test, np.rint(y_prediction))"
      ],
      "metadata": {
        "id": "eHLlI3yxdEBE"
      },
      "execution_count": 51,
      "outputs": []
    },
    {
      "cell_type": "code",
      "source": [
        "confusion_matrix"
      ],
      "metadata": {
        "colab": {
          "base_uri": "https://localhost:8080/"
        },
        "id": "E8kc7Jh8dKYv",
        "outputId": "1683ad35-5b24-4a78-88a2-c324f0d51928"
      },
      "execution_count": 52,
      "outputs": [
        {
          "output_type": "execute_result",
          "data": {
            "text/plain": [
              "array([[1713,   12],\n",
              "       [  70,  206]])"
            ]
          },
          "metadata": {},
          "execution_count": 52
        }
      ]
    },
    {
      "cell_type": "code",
      "source": [
        "print(classification_report(Y_test, np.rint(y_prediction)))"
      ],
      "metadata": {
        "colab": {
          "base_uri": "https://localhost:8080/"
        },
        "id": "cVrski07YwJU",
        "outputId": "dd94dd35-32fb-452d-ff6e-66d080aa7860"
      },
      "execution_count": 56,
      "outputs": [
        {
          "output_type": "stream",
          "name": "stdout",
          "text": [
            "              precision    recall  f1-score   support\n",
            "\n",
            "           0       0.96      0.99      0.98      1725\n",
            "           1       0.94      0.75      0.83       276\n",
            "\n",
            "    accuracy                           0.96      2001\n",
            "   macro avg       0.95      0.87      0.91      2001\n",
            "weighted avg       0.96      0.96      0.96      2001\n",
            "\n"
          ]
        }
      ]
    },
    {
      "cell_type": "code",
      "source": [],
      "metadata": {
        "id": "r35SAbQfd3nm"
      },
      "execution_count": null,
      "outputs": []
    },
    {
      "cell_type": "markdown",
      "source": [
        "# Matriks NLP Lanjut"
      ],
      "metadata": {
        "id": "I9CdG7vwfcLy"
      }
    },
    {
      "cell_type": "markdown",
      "source": [
        "* BLEU"
      ],
      "metadata": {
        "id": "nuV3zk_afkHe"
      }
    },
    {
      "cell_type": "code",
      "source": [
        "from nltk.translate.bleu_score import sentence_bleu"
      ],
      "metadata": {
        "id": "v_a3MBCnffFz"
      },
      "execution_count": 1,
      "outputs": []
    },
    {
      "cell_type": "code",
      "source": [
        "reference = [['budi', 'pergi', 'ke', 'sekolah']]\n",
        "candidate = ['budi', 'pergi', 'ke', 'sekolah']\n",
        "score = sentence_bleu(reference, candidate)\n",
        "print(score)"
      ],
      "metadata": {
        "id": "WUxAqrnzfeIx"
      },
      "execution_count": null,
      "outputs": []
    },
    {
      "cell_type": "code",
      "source": [
        "reference = [[\"saya\", \"suka\", \"makan\", \"nasi\", \"goreng\", \"di\", \"restoran\", \"ini\"] ]\n",
        "candidate = [\"aku\", \"suka\", \"makan\", \"nasi\", \"goreng\", \"di\", \"tempat\", \"ini\"]\n",
        "\n",
        "score = sentence_bleu(reference, candidate)\n",
        "print(score)"
      ],
      "metadata": {
        "id": "XMbzio1CxKGl"
      },
      "execution_count": null,
      "outputs": []
    },
    {
      "cell_type": "code",
      "source": [
        "# 1-gram individual BLEU\n",
        "\n",
        "reference = [[\"saya\", \"suka\", \"makan\", \"nasi\", \"goreng\", \"di\", \"restoran\", \"ini\"] ]\n",
        "candidate = [\"aku\", \"suka\", \"makan\", \"nasi\", \"goreng\", \"di\", \"tempat\", \"ini\"]\n",
        "\n",
        "score = sentence_bleu(reference, candidate, weights=(1, 0, 0, 0))\n",
        "print(score)"
      ],
      "metadata": {
        "id": "NJ1AyWPZg4be"
      },
      "execution_count": null,
      "outputs": []
    },
    {
      "cell_type": "code",
      "source": [
        "# n-gram individual BLEU\n",
        "\n",
        "print('Individual 1-gram: %f' % sentence_bleu(reference, candidate, weights=(1, 0, 0, 0)))\n",
        "print('Individual 2-gram: %f' % sentence_bleu(reference, candidate, weights=(0, 1, 0, 0)))\n",
        "print('Individual 3-gram: %f' % sentence_bleu(reference, candidate, weights=(0, 0, 1, 0)))\n",
        "print('Individual 4-gram: %f' % sentence_bleu(reference, candidate, weights=(0, 0, 0, 1)))"
      ],
      "metadata": {
        "id": "fl71Xivng6r5"
      },
      "execution_count": null,
      "outputs": []
    },
    {
      "cell_type": "code",
      "source": [
        "# 4-gram cumulative BLEU\n",
        "\n",
        "score = sentence_bleu(reference, candidate, weights=(0.25, 0.25, 0.25, 0.25))\n",
        "print(score)"
      ],
      "metadata": {
        "id": "JQE-0X9DxDRk"
      },
      "execution_count": null,
      "outputs": []
    },
    {
      "cell_type": "code",
      "source": [
        "# cumulative BLEU scores\n",
        "\n",
        "print('Cumulative 1-gram: %f' % sentence_bleu(reference, candidate, weights=(1, 0, 0, 0)))\n",
        "print('Cumulative 2-gram: %f' % sentence_bleu(reference, candidate, weights=(0.5, 0.5, 0, 0)))\n",
        "print('Cumulative 3-gram: %f' % sentence_bleu(reference, candidate, weights=(0.33, 0.33, 0.33, 0)))\n",
        "\n",
        "print('Cumulative 4-gram: %f' % sentence_bleu(reference, candidate, weights=(0.25, 0.25, 0.25, 0.25)))"
      ],
      "metadata": {
        "id": "qtP0s91DxzEv"
      },
      "execution_count": null,
      "outputs": []
    },
    {
      "cell_type": "code",
      "source": [
        "# perfect match\n",
        "reference = [[\"saya\", \"suka\", \"makan\", \"nasi\", \"goreng\", \"di\", \"restoran\", \"ini\"] ]\n",
        "candidate = [\"saya\", \"suka\", \"makan\", \"nasi\", \"goreng\", \"di\", \"restoran\", \"ini\"]\n",
        "score = sentence_bleu(reference, candidate)\n",
        "print(score)"
      ],
      "metadata": {
        "id": "cBdp44QLx9UB"
      },
      "execution_count": null,
      "outputs": []
    },
    {
      "cell_type": "code",
      "source": [
        "# berbeda satu kata\n",
        "reference = [[\"saya\", \"suka\", \"makan\", \"nasi\", \"goreng\", \"di\", \"restoran\", \"ini\"] ]\n",
        "candidate = [\"saya\", \"suka\", \"makan\", \"nasi\", \"goreng\", \"di\", \"tempat\", \"ini\"]\n",
        "score = sentence_bleu(reference, candidate)\n",
        "print(score)"
      ],
      "metadata": {
        "id": "4TkTX0RdyWX6"
      },
      "execution_count": null,
      "outputs": []
    },
    {
      "cell_type": "code",
      "source": [
        "# berbeda tiga kata\n",
        "reference = [[\"saya\", \"suka\", \"makan\", \"nasi\", \"goreng\", \"di\", \"restoran\", \"ini\"] ]\n",
        "candidate = [\"saya\", \"suka\", \"beli\", \"nasi\", \"goreng\", \"di\", \"tempat\", \"ini\"]\n",
        "score = sentence_bleu(reference, candidate)\n",
        "print(score)"
      ],
      "metadata": {
        "id": "1irthPR5yeTh"
      },
      "execution_count": null,
      "outputs": []
    },
    {
      "cell_type": "code",
      "source": [
        "# berbeda keseluruhan\n",
        "reference = [[\"saya\", \"suka\", \"makan\", \"nasi\", \"goreng\", \"di\", \"restoran\", \"ini\"] ]\n",
        "candidate = [\"q\", \"w\", \"e\", \"r\", \"t\", \"y\", \"u\", \"i\"]\n",
        "score = sentence_bleu(reference, candidate)\n",
        "print(score)"
      ],
      "metadata": {
        "id": "gihkxJXbykaJ"
      },
      "execution_count": null,
      "outputs": []
    },
    {
      "cell_type": "code",
      "source": [],
      "metadata": {
        "id": "YNMI-TBhyzvM"
      },
      "execution_count": null,
      "outputs": []
    },
    {
      "cell_type": "markdown",
      "source": [
        "* ROGUE"
      ],
      "metadata": {
        "id": "-WIagH5yy1SX"
      }
    },
    {
      "cell_type": "code",
      "source": [
        "!pip install evaluate\n",
        "!pip install rouge-score"
      ],
      "metadata": {
        "id": "jCEmiw0Sy2rH"
      },
      "execution_count": null,
      "outputs": []
    },
    {
      "cell_type": "code",
      "source": [
        "import evaluate\n",
        "rouge = evaluate.load('rouge')\n",
        "predictions = [\"Hari ini saya belajar NLP\"]\n",
        "references = [\n",
        "              [\"Hari ini saya belajar NLP di rumah\"]\n",
        "             ]\n",
        "results = rouge.compute(predictions=predictions, references=references)\n",
        "print(results)"
      ],
      "metadata": {
        "id": "V42NfkZe0eQF"
      },
      "execution_count": null,
      "outputs": []
    },
    {
      "cell_type": "code",
      "source": [
        "rouge = evaluate.load('rouge')\n",
        "predictions = [\"Hari ini saya belajar NLP di rumah\"]\n",
        "references = [\n",
        "              [\"Hari ini saya belajar NLP di rumah\"]\n",
        "             ]\n",
        "results = rouge.compute(predictions=predictions, references=references)\n",
        "print(results)"
      ],
      "metadata": {
        "id": "VfVga7-e0rHG"
      },
      "execution_count": null,
      "outputs": []
    },
    {
      "cell_type": "code",
      "source": [
        "rouge = evaluate.load('rouge')\n",
        "predictions = [\"Hari ini saya belajar di rumah\"]\n",
        "references = [\n",
        "              [\"Hari ini saya belajar NLP di rumah\"]\n",
        "             ]\n",
        "results = rouge.compute(predictions=predictions, references=references)\n",
        "print(results)"
      ],
      "metadata": {
        "id": "mW5bOTXM1Yvq"
      },
      "execution_count": null,
      "outputs": []
    },
    {
      "cell_type": "code",
      "source": [],
      "metadata": {
        "id": "CycMcTBm1dyE"
      },
      "execution_count": null,
      "outputs": []
    },
    {
      "cell_type": "markdown",
      "source": [
        "* Prexpelity"
      ],
      "metadata": {
        "id": "gVeb7744576O"
      }
    },
    {
      "cell_type": "code",
      "source": [
        "!pip install transformers\n",
        "from transformers import AutoModelForCausalLM, AutoTokenizer\n",
        "model = AutoModelForCausalLM.from_pretrained(\"gpt2\")\n",
        "tokenizer = AutoTokenizer.from_pretrained(\"gpt2\")"
      ],
      "metadata": {
        "id": "egiIgi3K59pE"
      },
      "execution_count": null,
      "outputs": []
    },
    {
      "cell_type": "code",
      "source": [
        "import torch"
      ],
      "metadata": {
        "id": "GpX_QPc88qWo"
      },
      "execution_count": 23,
      "outputs": []
    },
    {
      "cell_type": "code",
      "source": [
        "inputs = tokenizer(\"Machine Learing adalah topik yang cukup hangat dalam pembicaraan\", return_tensors = \"pt\")\n",
        "loss = model(input_ids = inputs[\"input_ids\"], labels = inputs[\"input_ids\"]).loss\n",
        "ppl = torch.exp(loss)\n",
        "print(ppl)"
      ],
      "metadata": {
        "id": "rwe-mB3f8tCp"
      },
      "execution_count": null,
      "outputs": []
    },
    {
      "cell_type": "code",
      "source": [
        "inputs_wiki_text = tokenizer(\"Generative Pretrained Transformer is an opensource artificial intelligence created by OpenAI in February 2019\", return_tensors = \"pt\")\n",
        "loss = model(input_ids = inputs_wiki_text[\"input_ids\"], labels = inputs_wiki_text[\"input_ids\"]).loss\n",
        "ppl = torch.exp(loss)\n",
        "print(ppl)"
      ],
      "metadata": {
        "id": "1jX3siQD8uj7"
      },
      "execution_count": null,
      "outputs": []
    },
    {
      "cell_type": "code",
      "source": [],
      "metadata": {
        "id": "n58tciLm8wUC"
      },
      "execution_count": null,
      "outputs": []
    }
  ]
}