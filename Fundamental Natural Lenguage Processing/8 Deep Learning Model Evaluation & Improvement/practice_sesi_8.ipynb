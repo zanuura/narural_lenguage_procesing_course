{
 "cells": [
  {
   "cell_type": "code",
   "execution_count": 1,
   "metadata": {},
   "outputs": [],
   "source": [
    "import tensorflow as tf\n",
    "import numpy as np\n",
    "import pandas as pd\n",
    "from sklearn.model_selection import train_test_split\n",
    "from sklearn.datasets import load_breast_cancer\n",
    "from sklearn.preprocessing import StandardScaler\n",
    "from bayes_opt import BayesianOptimization"
   ]
  },
  {
   "cell_type": "code",
   "execution_count": 2,
   "metadata": {},
   "outputs": [],
   "source": [
    "cancer = load_breast_cancer()\n",
    "X = cancer.data\n",
    "y = cancer.target\n",
    "\n",
    "X_train, X_test, y_train, y_test = train_test_split(X, y, test_size=0.2, random_state=42)\n",
    "scaler = StandardScaler()\n",
    "X_train = scaler.fit_transform(X_train)\n",
    "X_test = scaler.transform(X_test)"
   ]
  },
  {
   "cell_type": "markdown",
   "metadata": {},
   "source": [
    "### Load And process data"
   ]
  },
  {
   "cell_type": "code",
   "execution_count": 11,
   "metadata": {},
   "outputs": [],
   "source": [
    "def create_model(learning_rate, num_hidden_layers, num_neurons):\n",
    "    model = tf.keras.models.Sequential()\n",
    "    for i in range(num_hidden_layers):\n",
    "        model.add(tf.keras.layers.Dense(num_neurons, activation='relu'))\n",
    "    model.add(tf.keras.layers.Dense(2, activation='softmax'))\n",
    "    optimizer = tf.keras.optimizers.Adam(learning_rate=learning_rate)\n",
    "    model.compile(loss='sparse_categorical_crossentropy', optimizer=optimizer, metrics=['accuracy'])\n",
    "    return model"
   ]
  },
  {
   "cell_type": "markdown",
   "metadata": {},
   "source": [
    "### Define the objective function to optimizer"
   ]
  },
  {
   "cell_type": "code",
   "execution_count": 12,
   "metadata": {},
   "outputs": [],
   "source": [
    "def objective(learning_rate, num_hidden_layers, num_neurons):\n",
    "    model = create_model(learning_rate, int(num_hidden_layers), int(num_neurons))\n",
    "    model.fit(X_train, y_train, epochs=10, validation_data=(X_test, y_test), verbose=0)\n",
    "    val_loss, val_acc = model.evaluate(X_test, y_test, verbose=0)\n",
    "    return val_acc"
   ]
  },
  {
   "cell_type": "markdown",
   "metadata": {},
   "source": [
    "### Define the search space oh hyperparameters"
   ]
  },
  {
   "cell_type": "code",
   "execution_count": 13,
   "metadata": {},
   "outputs": [],
   "source": [
    "pbounds = {'learning_rate': (0.0001, 0.1),\n",
    "           'num_hidden_layers': (1, 5),\n",
    "           'num_neurons': (5, 50)\n",
    "           }"
   ]
  },
  {
   "cell_type": "code",
   "execution_count": 14,
   "metadata": {},
   "outputs": [
    {
     "name": "stdout",
     "output_type": "stream",
     "text": [
      "|   iter    |  target   | learni... | num_hi... | num_ne... |\n",
      "-------------------------------------------------------------\n"
     ]
    },
    {
     "name": "stdout",
     "output_type": "stream",
     "text": [
      "| \u001b[0m1        \u001b[0m | \u001b[0m0.9649   \u001b[0m | \u001b[0m0.04275  \u001b[0m | \u001b[0m4.48     \u001b[0m | \u001b[0m7.348    \u001b[0m |\n",
      "| \u001b[95m2        \u001b[0m | \u001b[95m0.9737   \u001b[0m | \u001b[95m0.02493  \u001b[0m | \u001b[95m2.949    \u001b[0m | \u001b[95m46.86    \u001b[0m |\n",
      "| \u001b[0m3        \u001b[0m | \u001b[0m0.9561   \u001b[0m | \u001b[0m0.05179  \u001b[0m | \u001b[0m3.177    \u001b[0m | \u001b[0m9.575    \u001b[0m |\n",
      "| \u001b[0m4        \u001b[0m | \u001b[0m0.9561   \u001b[0m | \u001b[0m0.07979  \u001b[0m | \u001b[0m2.007    \u001b[0m | \u001b[0m33.59    \u001b[0m |\n",
      "| \u001b[0m5        \u001b[0m | \u001b[0m0.9737   \u001b[0m | \u001b[0m0.02593  \u001b[0m | \u001b[0m2.763    \u001b[0m | \u001b[0m48.86    \u001b[0m |\n",
      "| \u001b[0m6        \u001b[0m | \u001b[0m0.9649   \u001b[0m | \u001b[0m0.1      \u001b[0m | \u001b[0m5.0      \u001b[0m | \u001b[0m42.75    \u001b[0m |\n",
      "| \u001b[0m7        \u001b[0m | \u001b[0m0.9561   \u001b[0m | \u001b[0m0.0001   \u001b[0m | \u001b[0m5.0      \u001b[0m | \u001b[0m48.46    \u001b[0m |\n",
      "| \u001b[95m8        \u001b[0m | \u001b[95m0.9825   \u001b[0m | \u001b[95m0.04595  \u001b[0m | \u001b[95m2.421    \u001b[0m | \u001b[95m47.87    \u001b[0m |\n",
      "| \u001b[0m9        \u001b[0m | \u001b[0m0.9825   \u001b[0m | \u001b[0m0.07021  \u001b[0m | \u001b[0m1.314    \u001b[0m | \u001b[0m47.76    \u001b[0m |\n",
      "| \u001b[0m10       \u001b[0m | \u001b[0m0.9737   \u001b[0m | \u001b[0m0.09679  \u001b[0m | \u001b[0m1.061    \u001b[0m | \u001b[0m45.82    \u001b[0m |\n",
      "| \u001b[0m11       \u001b[0m | \u001b[0m0.9737   \u001b[0m | \u001b[0m0.09261  \u001b[0m | \u001b[0m4.979    \u001b[0m | \u001b[0m21.62    \u001b[0m |\n",
      "| \u001b[0m12       \u001b[0m | \u001b[0m0.9649   \u001b[0m | \u001b[0m0.06325  \u001b[0m | \u001b[0m1.927    \u001b[0m | \u001b[0m21.55    \u001b[0m |\n",
      "| \u001b[0m13       \u001b[0m | \u001b[0m0.9737   \u001b[0m | \u001b[0m0.1      \u001b[0m | \u001b[0m1.0      \u001b[0m | \u001b[0m49.39    \u001b[0m |\n",
      "| \u001b[0m14       \u001b[0m | \u001b[0m0.9649   \u001b[0m | \u001b[0m0.004215 \u001b[0m | \u001b[0m5.0      \u001b[0m | \u001b[0m24.7     \u001b[0m |\n",
      "| \u001b[0m15       \u001b[0m | \u001b[0m0.9825   \u001b[0m | \u001b[0m0.01354  \u001b[0m | \u001b[0m5.0      \u001b[0m | \u001b[0m18.84    \u001b[0m |\n",
      "| \u001b[0m16       \u001b[0m | \u001b[0m0.9561   \u001b[0m | \u001b[0m0.1      \u001b[0m | \u001b[0m5.0      \u001b[0m | \u001b[0m16.92    \u001b[0m |\n",
      "| \u001b[0m17       \u001b[0m | \u001b[0m0.9211   \u001b[0m | \u001b[0m0.06484  \u001b[0m | \u001b[0m4.371    \u001b[0m | \u001b[0m19.83    \u001b[0m |\n",
      "| \u001b[0m18       \u001b[0m | \u001b[0m0.9649   \u001b[0m | \u001b[0m0.02985  \u001b[0m | \u001b[0m4.652    \u001b[0m | \u001b[0m27.07    \u001b[0m |\n",
      "| \u001b[0m19       \u001b[0m | \u001b[0m0.9825   \u001b[0m | \u001b[0m0.005185 \u001b[0m | \u001b[0m1.64     \u001b[0m | \u001b[0m23.86    \u001b[0m |\n",
      "| \u001b[0m20       \u001b[0m | \u001b[0m0.9737   \u001b[0m | \u001b[0m0.08517  \u001b[0m | \u001b[0m1.724    \u001b[0m | \u001b[0m47.78    \u001b[0m |\n",
      "| \u001b[0m21       \u001b[0m | \u001b[0m0.9561   \u001b[0m | \u001b[0m0.06869  \u001b[0m | \u001b[0m1.693    \u001b[0m | \u001b[0m17.53    \u001b[0m |\n",
      "| \u001b[0m22       \u001b[0m | \u001b[0m0.9737   \u001b[0m | \u001b[0m0.01708  \u001b[0m | \u001b[0m2.762    \u001b[0m | \u001b[0m47.55    \u001b[0m |\n",
      "| \u001b[0m23       \u001b[0m | \u001b[0m0.9737   \u001b[0m | \u001b[0m0.04102  \u001b[0m | \u001b[0m2.007    \u001b[0m | \u001b[0m46.5     \u001b[0m |\n",
      "| \u001b[0m24       \u001b[0m | \u001b[0m0.9825   \u001b[0m | \u001b[0m0.02329  \u001b[0m | \u001b[0m3.429    \u001b[0m | \u001b[0m45.24    \u001b[0m |\n",
      "| \u001b[0m25       \u001b[0m | \u001b[0m0.9825   \u001b[0m | \u001b[0m0.05107  \u001b[0m | \u001b[0m1.026    \u001b[0m | \u001b[0m48.22    \u001b[0m |\n",
      "=============================================================\n"
     ]
    }
   ],
   "source": [
    "optimizer = BayesianOptimization(f=objective, pbounds=pbounds, verbose=2)\n",
    "optimizer.maximize(init_points=5, n_iter=20)"
   ]
  },
  {
   "cell_type": "code",
   "execution_count": 15,
   "metadata": {},
   "outputs": [
    {
     "name": "stdout",
     "output_type": "stream",
     "text": [
      "Optimizer hyperparameters\n",
      "{'learning_rate': 0.045947557907169014, 'num_hidden_layers': 2.4206495903848393, 'num_neurons': 47.867695213377104}\n",
      "Validation accuracy: 98.25%\n"
     ]
    }
   ],
   "source": [
    "print('Optimizer hyperparameters')\n",
    "print(optimizer.max['params'])\n",
    "print('Validation accuracy: {:.2f}%'.format(optimizer.max['target'] * 100))"
   ]
  },
  {
   "cell_type": "code",
   "execution_count": null,
   "metadata": {},
   "outputs": [],
   "source": []
  }
 ],
 "metadata": {
  "kernelspec": {
   "display_name": "Python 3",
   "language": "python",
   "name": "python3"
  },
  "language_info": {
   "codemirror_mode": {
    "name": "ipython",
    "version": 3
   },
   "file_extension": ".py",
   "mimetype": "text/x-python",
   "name": "python",
   "nbconvert_exporter": "python",
   "pygments_lexer": "ipython3",
   "version": "3.11.2"
  }
 },
 "nbformat": 4,
 "nbformat_minor": 2
}
