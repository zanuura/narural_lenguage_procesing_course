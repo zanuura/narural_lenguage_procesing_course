{
 "cells": [
  {
   "cell_type": "code",
   "execution_count": 36,
   "metadata": {},
   "outputs": [
    {
     "name": "stderr",
     "output_type": "stream",
     "text": [
      "[nltk_data] Downloading package stopwords to\n",
      "[nltk_data]     C:\\Users\\Hammam\\AppData\\Roaming\\nltk_data...\n",
      "[nltk_data]   Package stopwords is already up-to-date!\n"
     ]
    }
   ],
   "source": [
    "import pandas as pd\n",
    "import nltk\n",
    "import re\n",
    "import itertools\n",
    "import matplotlib.pyplot as plt\n",
    "import seaborn as sns\n",
    "nltk.download('stopwords')\n",
    "from nltk.corpus import stopwords\n",
    "from nltk.tokenize import word_tokenize\n",
    "from collections import Counter, OrderedDict\n",
    "from Sastrawi.Stemmer.StemmerFactory import StemmerFactory"
   ]
  },
  {
   "cell_type": "code",
   "execution_count": 37,
   "metadata": {},
   "outputs": [
    {
     "name": "stderr",
     "output_type": "stream",
     "text": [
      "C:\\Users\\Hammam\\AppData\\Local\\Temp\\ipykernel_17596\\240305066.py:1: MatplotlibDeprecationWarning: The seaborn styles shipped by Matplotlib are deprecated since 3.6, as they no longer correspond to the styles shipped by seaborn. However, they will remain available as 'seaborn-v0_8-<style>'. Alternatively, directly use the seaborn API instead.\n",
      "  plt.style.use('seaborn')\n"
     ]
    }
   ],
   "source": [
    "plt.style.use('seaborn')"
   ]
  },
  {
   "cell_type": "code",
   "execution_count": 38,
   "metadata": {},
   "outputs": [
    {
     "name": "stdout",
     "output_type": "stream",
     "text": [
      "<class 'pandas.core.frame.DataFrame'>\n",
      "RangeIndex: 45 entries, 0 to 44\n",
      "Data columns (total 7 columns):\n",
      " #   Column      Non-Null Count  Dtype \n",
      "---  ------      --------------  ----- \n",
      " 0   judul       45 non-null     object\n",
      " 1   url         45 non-null     object\n",
      " 2   kategori    45 non-null     object\n",
      " 3   tanggal     45 non-null     object\n",
      " 4   summary     45 non-null     object\n",
      " 5   isi_berita  45 non-null     object\n",
      " 6   penulis     45 non-null     object\n",
      "dtypes: object(7)\n",
      "memory usage: 2.6+ KB\n"
     ]
    },
    {
     "data": {
      "text/plain": [
       "None"
      ]
     },
     "metadata": {},
     "output_type": "display_data"
    },
    {
     "data": {
      "text/html": [
       "<div>\n",
       "<style scoped>\n",
       "    .dataframe tbody tr th:only-of-type {\n",
       "        vertical-align: middle;\n",
       "    }\n",
       "\n",
       "    .dataframe tbody tr th {\n",
       "        vertical-align: top;\n",
       "    }\n",
       "\n",
       "    .dataframe thead th {\n",
       "        text-align: right;\n",
       "    }\n",
       "</style>\n",
       "<table border=\"1\" class=\"dataframe\">\n",
       "  <thead>\n",
       "    <tr style=\"text-align: right;\">\n",
       "      <th></th>\n",
       "      <th>judul</th>\n",
       "      <th>url</th>\n",
       "      <th>kategori</th>\n",
       "      <th>tanggal</th>\n",
       "      <th>summary</th>\n",
       "      <th>isi_berita</th>\n",
       "      <th>penulis</th>\n",
       "    </tr>\n",
       "  </thead>\n",
       "  <tbody>\n",
       "    <tr>\n",
       "      <th>0</th>\n",
       "      <td>120 Contoh Kalimat Aktif Intransitif Berdasark...</td>\n",
       "      <td>https://www.detik.com/sulsel/berita/d-6776696/...</td>\n",
       "      <td>detikSulsel</td>\n",
       "      <td>Jumat, 16 Jun 2023 23:00 WIB</td>\n",
       "      <td>Kalimat aktif intransitif tidak membutuhkan ob...</td>\n",
       "      <td>Kalimat aktif intransitif merupakan kalimat ak...</td>\n",
       "      <td>Rasmilawanti Rustam</td>\n",
       "    </tr>\n",
       "    <tr>\n",
       "      <th>1</th>\n",
       "      <td>Ada Sekolah di Solo Gelar Wisuda, Gibran: Rapo...</td>\n",
       "      <td>https://www.detik.com/jateng/berita/d-6777283/...</td>\n",
       "      <td>detikJateng</td>\n",
       "      <td>Jumat, 16 Jun 2023 21:57 WIB</td>\n",
       "      <td>Fenomena sekolah menggelar acara wisuda juga m...</td>\n",
       "      <td>Maraknya sekolah jenjang TK-SMA yang menggelar...</td>\n",
       "      <td>Tara Wahyu NV</td>\n",
       "    </tr>\n",
       "    <tr>\n",
       "      <th>2</th>\n",
       "      <td>Dinas Pendidikan Akui Sejumlah Sekolah di Solo...</td>\n",
       "      <td>https://www.detik.com/jateng/berita/d-6777175/...</td>\n",
       "      <td>detikJateng</td>\n",
       "      <td>Jumat, 16 Jun 2023 20:44 WIB</td>\n",
       "      <td>Dinas Pendidikan Kota Solo mengaku adanya seju...</td>\n",
       "      <td>Dinas Pendidikan Kota Solo mengaku adanya seju...</td>\n",
       "      <td>Tara Wahyu NV</td>\n",
       "    </tr>\n",
       "    <tr>\n",
       "      <th>3</th>\n",
       "      <td>Fluktuasi Adalah: Pengertian, Jenis, dan Cara ...</td>\n",
       "      <td>https://finance.detik.com/berita-ekonomi-bisni...</td>\n",
       "      <td>detikFinance</td>\n",
       "      <td>Jumat, 16 Jun 2023 20:35 WIB</td>\n",
       "      <td>Fluktuasi adalah suatu hal yang tidak stabil s...</td>\n",
       "      <td>Fluktuasi merupakan kata yang umum digunakan u...</td>\n",
       "      <td>ilham fikriansyah</td>\n",
       "    </tr>\n",
       "    <tr>\n",
       "      <th>4</th>\n",
       "      <td>Kata P2G soal Wisuda PAUD-SMA: Tak Berkorelasi...</td>\n",
       "      <td>https://www.detik.com/edu/sekolah/d-6777087/ka...</td>\n",
       "      <td>detikEdu</td>\n",
       "      <td>Jumat, 16 Jun 2023 20:15 WIB</td>\n",
       "      <td>Kolom Instagram Mendikbud ramai keluhan ortu s...</td>\n",
       "      <td>Muncul keluhan dari warganet soal wisuda tingk...</td>\n",
       "      <td>Novia Aisyah</td>\n",
       "    </tr>\n",
       "  </tbody>\n",
       "</table>\n",
       "</div>"
      ],
      "text/plain": [
       "                                               judul  \\\n",
       "0  120 Contoh Kalimat Aktif Intransitif Berdasark...   \n",
       "1  Ada Sekolah di Solo Gelar Wisuda, Gibran: Rapo...   \n",
       "2  Dinas Pendidikan Akui Sejumlah Sekolah di Solo...   \n",
       "3  Fluktuasi Adalah: Pengertian, Jenis, dan Cara ...   \n",
       "4  Kata P2G soal Wisuda PAUD-SMA: Tak Berkorelasi...   \n",
       "\n",
       "                                                 url      kategori  \\\n",
       "0  https://www.detik.com/sulsel/berita/d-6776696/...   detikSulsel   \n",
       "1  https://www.detik.com/jateng/berita/d-6777283/...   detikJateng   \n",
       "2  https://www.detik.com/jateng/berita/d-6777175/...   detikJateng   \n",
       "3  https://finance.detik.com/berita-ekonomi-bisni...  detikFinance   \n",
       "4  https://www.detik.com/edu/sekolah/d-6777087/ka...      detikEdu   \n",
       "\n",
       "                        tanggal  \\\n",
       "0  Jumat, 16 Jun 2023 23:00 WIB   \n",
       "1  Jumat, 16 Jun 2023 21:57 WIB   \n",
       "2  Jumat, 16 Jun 2023 20:44 WIB   \n",
       "3  Jumat, 16 Jun 2023 20:35 WIB   \n",
       "4  Jumat, 16 Jun 2023 20:15 WIB   \n",
       "\n",
       "                                             summary  \\\n",
       "0  Kalimat aktif intransitif tidak membutuhkan ob...   \n",
       "1  Fenomena sekolah menggelar acara wisuda juga m...   \n",
       "2  Dinas Pendidikan Kota Solo mengaku adanya seju...   \n",
       "3  Fluktuasi adalah suatu hal yang tidak stabil s...   \n",
       "4  Kolom Instagram Mendikbud ramai keluhan ortu s...   \n",
       "\n",
       "                                          isi_berita              penulis  \n",
       "0  Kalimat aktif intransitif merupakan kalimat ak...  Rasmilawanti Rustam  \n",
       "1  Maraknya sekolah jenjang TK-SMA yang menggelar...        Tara Wahyu NV  \n",
       "2  Dinas Pendidikan Kota Solo mengaku adanya seju...        Tara Wahyu NV  \n",
       "3  Fluktuasi merupakan kata yang umum digunakan u...    ilham fikriansyah  \n",
       "4  Muncul keluhan dari warganet soal wisuda tingk...         Novia Aisyah  "
      ]
     },
     "metadata": {},
     "output_type": "display_data"
    }
   ],
   "source": [
    "df = pd.read_csv('./data_news_retrieved.csv')\n",
    "display(df.info())\n",
    "display(df.head())"
   ]
  },
  {
   "cell_type": "markdown",
   "metadata": {},
   "source": [
    "# Text Cleaning"
   ]
  },
  {
   "cell_type": "code",
   "execution_count": 39,
   "metadata": {},
   "outputs": [],
   "source": [
    "data = df[df['kategori'] == 'detikEdu']['isi_berita'].tolist() "
   ]
  },
  {
   "cell_type": "code",
   "execution_count": 40,
   "metadata": {},
   "outputs": [],
   "source": [
    "def remove_stopwords(text):\n",
    "    stop_words = set(stopwords.words('indonesian'))\n",
    "\n",
    "    text_lowered = text.lower()\n",
    "\n",
    "    cleaned_text = ' '.join([word for word in text_lowered.split(' ') if word not in stop_words])\n",
    "\n",
    "    return cleaned_text"
   ]
  },
  {
   "cell_type": "code",
   "execution_count": 41,
   "metadata": {},
   "outputs": [
    {
     "name": "stdout",
     "output_type": "stream",
     "text": [
      "BEFORE\n",
      "==================================================\n"
     ]
    },
    {
     "data": {
      "text/plain": [
       "['Muncul keluhan dari warganet soal wisuda tingkat PAUD hingga SMA. Sambatan ini bisa dilihat menyerbu kolom Instagram Menteri Pendidikan, Kebudayaan, Riset, dan Teknologi Nadiem Makarim beberapa waktu belakangan. Koordinator Nasional Perhimpunan Pendidikan dan Guru (P2G), Satriwan Salim mengatakan, tren wisuda untuk anak PAUD sampai SMA adalah hal yang relatif baru. Menurutnya, tren ini muncul sekitar 20 tahun terakhir. \"Kami sih melihatnya ini mulai menjadi tren 20-an tahun terakhir, 20-an terakhir. Khusus untuk tingkat PAUD-TK wisuda bagi mereka ini relatif lebih muda lagi seiring banyaknya pendirian PAUD-PAUD dan TK-TK di Indonesia,\" ujarnya melalui sambungan WhatsApp dengan detikEdu (16/6/2023). \"Nah, ini kira-kira 10 tahun terakhir fenomena banyaknya wisuda anak-anak di PAUD dan TK,\" lanjutnya. Namun, Satriwan menggarisbawahi, ada terlalu banyak kegiatan yang bersifat festival dan seremonial di sekolah-sekolah di Indonesia. \"Festival-seremonial ini justru tidak berkorelasi dengan pengembangan kompetensi siswa, tidak berkorelasi dengan peningkatan prestasi siswa, tidak ada tuh. Yang ada justru jadi beban secara finansial bagi orang tua, bagi anak,\" bebernya. Dia memaparkan, anak-anak akan merasa bahwa wisuda menjadi momen untuk menunjukkan kelas ekonomi karena ada yang diantarkan mobil pribadi, angkutan umum, maupun sepeda motor. \"Nah, ini kan menunjukan kelas sosial juga justru ajang untuk memamerkan kelas ekonomi mereka,\" kata dia. Satriwan menekankan, yang jadi keberatan orang tua perihal wisuda PAUD-SMA ini adalah pembiayaan. Maka, P2G merekomendasikan agar biayanya secara keseluruhan di-cover dana BOS. Pihak mereka pun menemukan adanya biaya wisuda sebesar Rp 500 ribu untuk level PAUD-TK. \"Bahkan SMP-SMA lebih tinggi lagi di atas 1 juta dan itu diatur atau dikelola oleh sekolah atau oleh guru, sehingga wisuda ini kan menjadi kewajiban secara akademiklah sebut, karena sekolah mewajibkan anak-anak wisuda, guru menjadi panitia, dan seterusnya,\" ujarnya. \"Oleh karena itu rasanya kalau dana BOS itu bisa meng-cover kegiatan wisuda, orang tua akan senang-senang saja karena yang jadi titik berat orang tua adalah pembiayaan wisuda,\" imbuhnya. Menurut Satriwan, perlu adanya pemilahan wisuda di berbagai jenjang pendidikan. \"Maksud saya begini, untuk PAUD, TK, SD, SMP sederajat ya termasuk madrasah ini sudah selayaknya untuk dilarang. Bagaimana cara melarangnya? Ya kami meminta kepada Kemendikbudristek dan Kementerian Agama untuk mengeluarkan imbauan agar untuk tingkat TK, SD, SMP ini tidak ada kegiatan wisuda,\" jelasnya. Kendati demikian, Satriwan menegaskan wisuda untuk SMA masih bisa dilakukan karena tidak semua murid akan melanjutkan ke perguruan tinggi. Oleh sebab itu, siswa SMA berhak ikut wisuda dengan catatan di-cover dana BOS. \"Khususnya lagi untuk PAUD, TK, SD, SMP karena bagi kami tidak ada manfaatnya sekaligus. Tapi kalau SMA masih ada karena secara psikologis ada anak yang lanjut kepada perguruan tinggi ada yang tidak,\" kata dia. Satriwan juga mengingatkan agar orang tua berani speak up jika diwajibkan oleh sekolah agar anaknya ikut wisuda. Maka, pihaknya turut mendorong dinas pendidikan daerah untuk memonitor. \"P2G mendesak jangan sampai ada sekolah yang menahan ijazah anak atau peserta didiknya karena anak tersebut tidak mengikuti kegiatan wisuda sekolahnya, baik untuk level SMA, SMK, SMP dan seterusnya,\" ucapnya. \"Kalau ada tindakan seperti ini, saya rasa ini sekolah layak untuk mendapatkan sanksi sesuai perundang-undangan yang berlaku,\" pungkasnya.']"
      ]
     },
     "metadata": {},
     "output_type": "display_data"
    },
    {
     "name": "stdout",
     "output_type": "stream",
     "text": [
      "\n",
      "AFTER\n",
      "==================================================\n"
     ]
    },
    {
     "data": {
      "text/plain": [
       "['muncul keluhan warganet wisuda tingkat paud sma. sambatan menyerbu kolom instagram menteri pendidikan, kebudayaan, riset, teknologi nadiem makarim belakangan. koordinator nasional perhimpunan pendidikan guru (p2g), satriwan salim mengatakan, tren wisuda anak paud sma relatif baru. menurutnya, tren muncul 20 terakhir. \"kami sih tren 20-an terakhir, 20-an terakhir. khusus tingkat paud-tk wisuda relatif muda seiring banyaknya pendirian paud-paud tk-tk indonesia,\" sambungan whatsapp detikedu (16/6/2023). \"nah, 10 fenomena banyaknya wisuda anak-anak paud tk,\" lanjutnya. namun, satriwan menggarisbawahi, kegiatan bersifat festival seremonial sekolah-sekolah indonesia. \"festival-seremonial berkorelasi pengembangan kompetensi siswa, berkorelasi peningkatan prestasi siswa, tuh. beban finansial orang tua, anak,\" bebernya. memaparkan, anak-anak wisuda momen kelas ekonomi diantarkan mobil pribadi, angkutan umum, sepeda motor. \"nah, menunjukan kelas sosial ajang memamerkan kelas ekonomi mereka,\" dia. satriwan menekankan, keberatan orang tua perihal wisuda paud-sma pembiayaan. maka, p2g merekomendasikan biayanya di-cover dana bos. menemukan biaya wisuda rp 500 ribu level paud-tk. \"bahkan smp-sma 1 juta diatur dikelola sekolah guru, wisuda kewajiban akademiklah sebut, sekolah mewajibkan anak-anak wisuda, guru panitia, seterusnya,\" ujarnya. \"oleh dana bos meng-cover kegiatan wisuda, orang tua senang-senang titik berat orang tua pembiayaan wisuda,\" imbuhnya. satriwan, pemilahan wisuda jenjang pendidikan. \"maksud begini, paud, tk, sd, smp sederajat ya madrasah selayaknya dilarang. melarangnya? ya kemendikbudristek kementerian agama mengeluarkan imbauan tingkat tk, sd, smp kegiatan wisuda,\" jelasnya. kendati demikian, satriwan wisuda sma murid melanjutkan perguruan tinggi. itu, siswa sma berhak wisuda catatan di-cover dana bos. \"khususnya paud, tk, sd, smp manfaatnya sekaligus. sma psikologis anak perguruan tidak,\" dia. satriwan orang tua berani speak up diwajibkan sekolah anaknya wisuda. maka, mendorong dinas pendidikan daerah memonitor. \"p2g mendesak sekolah menahan ijazah anak peserta didiknya anak mengikuti kegiatan wisuda sekolahnya, level sma, smk, smp seterusnya,\" ucapnya. \"kalau tindakan ini, sekolah layak sanksi sesuai perundang-undangan berlaku,\" pungkasnya.']"
      ]
     },
     "metadata": {},
     "output_type": "display_data"
    }
   ],
   "source": [
    "cleaned_stopwords = []\n",
    "\n",
    "for idx in range(len(data)):\n",
    "    cleaned = remove_stopwords(data[idx])\n",
    "    cleaned_stopwords.append(cleaned)\n",
    "\n",
    "print('BEFORE')\n",
    "print(\"=\"*50)\n",
    "display(data[:1])\n",
    "print(\"\\nAFTER\")\n",
    "print(\"=\"*50)\n",
    "display(cleaned_stopwords[:1])"
   ]
  },
  {
   "cell_type": "code",
   "execution_count": 42,
   "metadata": {},
   "outputs": [],
   "source": [
    "def remove_punctuation_and_special_character(text):\n",
    "\n",
    "    cleaned_text = re.sub(r'[^a-zA-Z0-9\\s]', '', text)\n",
    "    return cleaned_text"
   ]
  },
  {
   "cell_type": "code",
   "execution_count": 43,
   "metadata": {},
   "outputs": [
    {
     "name": "stdout",
     "output_type": "stream",
     "text": [
      "Before\n",
      "==================================================\n"
     ]
    },
    {
     "data": {
      "text/plain": [
       "['muncul keluhan warganet wisuda tingkat paud sma. sambatan menyerbu kolom instagram menteri pendidikan, kebudayaan, riset, teknologi nadiem makarim belakangan. koordinator nasional perhimpunan pendidikan guru (p2g), satriwan salim mengatakan, tren wisuda anak paud sma relatif baru. menurutnya, tren muncul 20 terakhir. \"kami sih tren 20-an terakhir, 20-an terakhir. khusus tingkat paud-tk wisuda relatif muda seiring banyaknya pendirian paud-paud tk-tk indonesia,\" sambungan whatsapp detikedu (16/6/2023). \"nah, 10 fenomena banyaknya wisuda anak-anak paud tk,\" lanjutnya. namun, satriwan menggarisbawahi, kegiatan bersifat festival seremonial sekolah-sekolah indonesia. \"festival-seremonial berkorelasi pengembangan kompetensi siswa, berkorelasi peningkatan prestasi siswa, tuh. beban finansial orang tua, anak,\" bebernya. memaparkan, anak-anak wisuda momen kelas ekonomi diantarkan mobil pribadi, angkutan umum, sepeda motor. \"nah, menunjukan kelas sosial ajang memamerkan kelas ekonomi mereka,\" dia. satriwan menekankan, keberatan orang tua perihal wisuda paud-sma pembiayaan. maka, p2g merekomendasikan biayanya di-cover dana bos. menemukan biaya wisuda rp 500 ribu level paud-tk. \"bahkan smp-sma 1 juta diatur dikelola sekolah guru, wisuda kewajiban akademiklah sebut, sekolah mewajibkan anak-anak wisuda, guru panitia, seterusnya,\" ujarnya. \"oleh dana bos meng-cover kegiatan wisuda, orang tua senang-senang titik berat orang tua pembiayaan wisuda,\" imbuhnya. satriwan, pemilahan wisuda jenjang pendidikan. \"maksud begini, paud, tk, sd, smp sederajat ya madrasah selayaknya dilarang. melarangnya? ya kemendikbudristek kementerian agama mengeluarkan imbauan tingkat tk, sd, smp kegiatan wisuda,\" jelasnya. kendati demikian, satriwan wisuda sma murid melanjutkan perguruan tinggi. itu, siswa sma berhak wisuda catatan di-cover dana bos. \"khususnya paud, tk, sd, smp manfaatnya sekaligus. sma psikologis anak perguruan tidak,\" dia. satriwan orang tua berani speak up diwajibkan sekolah anaknya wisuda. maka, mendorong dinas pendidikan daerah memonitor. \"p2g mendesak sekolah menahan ijazah anak peserta didiknya anak mengikuti kegiatan wisuda sekolahnya, level sma, smk, smp seterusnya,\" ucapnya. \"kalau tindakan ini, sekolah layak sanksi sesuai perundang-undangan berlaku,\" pungkasnya.']"
      ]
     },
     "metadata": {},
     "output_type": "display_data"
    },
    {
     "name": "stdout",
     "output_type": "stream",
     "text": [
      "\n",
      "After\n",
      "==================================================\n",
      "['muncul keluhan warganet wisuda tingkat paud sma sambatan menyerbu kolom instagram menteri pendidikan kebudayaan riset teknologi nadiem makarim belakangan koordinator nasional perhimpunan pendidikan guru p2g satriwan salim mengatakan tren wisuda anak paud sma relatif baru menurutnya tren muncul 20 terakhir kami sih tren 20an terakhir 20an terakhir khusus tingkat paudtk wisuda relatif muda seiring banyaknya pendirian paudpaud tktk indonesia sambungan whatsapp detikedu 1662023 nah 10 fenomena banyaknya wisuda anakanak paud tk lanjutnya namun satriwan menggarisbawahi kegiatan bersifat festival seremonial sekolahsekolah indonesia festivalseremonial berkorelasi pengembangan kompetensi siswa berkorelasi peningkatan prestasi siswa tuh beban finansial orang tua anak bebernya memaparkan anakanak wisuda momen kelas ekonomi diantarkan mobil pribadi angkutan umum sepeda motor nah menunjukan kelas sosial ajang memamerkan kelas ekonomi mereka dia satriwan menekankan keberatan orang tua perihal wisuda paudsma pembiayaan maka p2g merekomendasikan biayanya dicover dana bos menemukan biaya wisuda rp 500 ribu level paudtk bahkan smpsma 1 juta diatur dikelola sekolah guru wisuda kewajiban akademiklah sebut sekolah mewajibkan anakanak wisuda guru panitia seterusnya ujarnya oleh dana bos mengcover kegiatan wisuda orang tua senangsenang titik berat orang tua pembiayaan wisuda imbuhnya satriwan pemilahan wisuda jenjang pendidikan maksud begini paud tk sd smp sederajat ya madrasah selayaknya dilarang melarangnya ya kemendikbudristek kementerian agama mengeluarkan imbauan tingkat tk sd smp kegiatan wisuda jelasnya kendati demikian satriwan wisuda sma murid melanjutkan perguruan tinggi itu siswa sma berhak wisuda catatan dicover dana bos khususnya paud tk sd smp manfaatnya sekaligus sma psikologis anak perguruan tidak dia satriwan orang tua berani speak up diwajibkan sekolah anaknya wisuda maka mendorong dinas pendidikan daerah memonitor p2g mendesak sekolah menahan ijazah anak peserta didiknya anak mengikuti kegiatan wisuda sekolahnya level sma smk smp seterusnya ucapnya kalau tindakan ini sekolah layak sanksi sesuai perundangundangan berlaku pungkasnya']\n"
     ]
    }
   ],
   "source": [
    "cleaned_punctuation_and_special_character = []\n",
    "\n",
    "for idx in range (len(cleaned_stopwords)):\n",
    "    cleaned = remove_punctuation_and_special_character(cleaned_stopwords[idx])\n",
    "    cleaned_punctuation_and_special_character.append(cleaned)\n",
    "\n",
    "print('Before')\n",
    "print('='*50)\n",
    "display(cleaned_stopwords[:1])\n",
    "print('\\nAfter')\n",
    "print('='*50)\n",
    "print(cleaned_punctuation_and_special_character[:1])"
   ]
  },
  {
   "cell_type": "markdown",
   "metadata": {},
   "source": [
    "# Text Normalization"
   ]
  },
  {
   "cell_type": "code",
   "execution_count": 44,
   "metadata": {},
   "outputs": [],
   "source": [
    "def normalization_stemming(text):\n",
    "\n",
    "    stemmer = StemmerFactory().create_stemmer()\n",
    "    cleaned_text = stemmer.stem(text)\n",
    "    return cleaned_text"
   ]
  },
  {
   "cell_type": "code",
   "execution_count": 45,
   "metadata": {},
   "outputs": [
    {
     "name": "stdout",
     "output_type": "stream",
     "text": [
      "BEFORE\n",
      "==================================================\n"
     ]
    },
    {
     "data": {
      "text/plain": [
       "['muncul keluhan warganet wisuda tingkat paud sma sambatan menyerbu kolom instagram menteri pendidikan kebudayaan riset teknologi nadiem makarim belakangan koordinator nasional perhimpunan pendidikan guru p2g satriwan salim mengatakan tren wisuda anak paud sma relatif baru menurutnya tren muncul 20 terakhir kami sih tren 20an terakhir 20an terakhir khusus tingkat paudtk wisuda relatif muda seiring banyaknya pendirian paudpaud tktk indonesia sambungan whatsapp detikedu 1662023 nah 10 fenomena banyaknya wisuda anakanak paud tk lanjutnya namun satriwan menggarisbawahi kegiatan bersifat festival seremonial sekolahsekolah indonesia festivalseremonial berkorelasi pengembangan kompetensi siswa berkorelasi peningkatan prestasi siswa tuh beban finansial orang tua anak bebernya memaparkan anakanak wisuda momen kelas ekonomi diantarkan mobil pribadi angkutan umum sepeda motor nah menunjukan kelas sosial ajang memamerkan kelas ekonomi mereka dia satriwan menekankan keberatan orang tua perihal wisuda paudsma pembiayaan maka p2g merekomendasikan biayanya dicover dana bos menemukan biaya wisuda rp 500 ribu level paudtk bahkan smpsma 1 juta diatur dikelola sekolah guru wisuda kewajiban akademiklah sebut sekolah mewajibkan anakanak wisuda guru panitia seterusnya ujarnya oleh dana bos mengcover kegiatan wisuda orang tua senangsenang titik berat orang tua pembiayaan wisuda imbuhnya satriwan pemilahan wisuda jenjang pendidikan maksud begini paud tk sd smp sederajat ya madrasah selayaknya dilarang melarangnya ya kemendikbudristek kementerian agama mengeluarkan imbauan tingkat tk sd smp kegiatan wisuda jelasnya kendati demikian satriwan wisuda sma murid melanjutkan perguruan tinggi itu siswa sma berhak wisuda catatan dicover dana bos khususnya paud tk sd smp manfaatnya sekaligus sma psikologis anak perguruan tidak dia satriwan orang tua berani speak up diwajibkan sekolah anaknya wisuda maka mendorong dinas pendidikan daerah memonitor p2g mendesak sekolah menahan ijazah anak peserta didiknya anak mengikuti kegiatan wisuda sekolahnya level sma smk smp seterusnya ucapnya kalau tindakan ini sekolah layak sanksi sesuai perundangundangan berlaku pungkasnya']"
      ]
     },
     "metadata": {},
     "output_type": "display_data"
    },
    {
     "name": "stdout",
     "output_type": "stream",
     "text": [
      "\n",
      "AFTER\n",
      "==================================================\n"
     ]
    },
    {
     "data": {
      "text/plain": [
       "['muncul keluh warganet wisuda tingkat paud sma sambat serbu kolom instagram menteri didik budaya riset teknologi nadiem makarim belakang koordinator nasional himpun didik guru p2g satriwan salim kata tren wisuda anak paud sma relatif baru turut tren muncul 20 akhir kami sih tren 20an akhir 20an akhir khusus tingkat paudtk wisuda relatif muda iring banyak diri paudpaud tktk indonesia sambung whatsapp detikedu 1662023 nah 10 fenomena banyak wisuda anakanak paud tk lanjut namun satriwan menggarisbawahi giat sifat festival seremonial sekolahsekolah indonesia festivalseremonial korelasi kembang kompetensi siswa korelasi tingkat prestasi siswa tuh beban finansial orang tua anak beber papar anakanak wisuda momen kelas ekonomi antar mobil pribadi angkut umum sepeda motor nah tunjuk kelas sosial ajang pamer kelas ekonomi mereka dia satriwan tekan berat orang tua perihal wisuda paudsma biaya maka p2g rekomendasi biaya dicover dana bos temu biaya wisuda rp 500 ribu level paudtk bahkan smpsma 1 juta atur kelola sekolah guru wisuda wajib akademik sebut sekolah wajib anakanak wisuda guru panitia terus ujar oleh dana bos mengcover giat wisuda orang tua senangsenang titik berat orang tua biaya wisuda imbuh satriwan pilah wisuda jenjang didik maksud begini paud tk sd smp derajat ya madrasah layak larang larang ya kemendikbudristek menteri agama keluar imbau tingkat tk sd smp giat wisuda jelas kendati demikian satriwan wisuda sma murid lanjut guru tinggi itu siswa sma hak wisuda catat dicover dana bos khusus paud tk sd smp manfaat sekaligus sma psikologis anak guru tidak dia satriwan orang tua berani speak up wajib sekolah anak wisuda maka dorong dinas didik daerah monitor p2g desak sekolah tahan ijazah anak serta didik anak ikut giat wisuda sekolah level sma smk smp terus ucap kalau tindak ini sekolah layak sanksi sesuai perundangundangan laku pungkas']"
      ]
     },
     "metadata": {},
     "output_type": "display_data"
    }
   ],
   "source": [
    "normalized_stemming = []\n",
    "\n",
    "for idx in range(len(cleaned_punctuation_and_special_character)):\n",
    "\n",
    "    cleaned = normalization_stemming(cleaned_punctuation_and_special_character[idx])\n",
    "    normalized_stemming.append(cleaned)\n",
    "\n",
    "print(\"BEFORE\")\n",
    "print(\"=\"*50)\n",
    "display(cleaned_punctuation_and_special_character[:1])\n",
    "print(\"\\nAFTER\")\n",
    "print(\"=\"*50)\n",
    "display(normalized_stemming[:1])"
   ]
  },
  {
   "cell_type": "markdown",
   "metadata": {},
   "source": [
    "# Text Tokenization"
   ]
  },
  {
   "cell_type": "markdown",
   "metadata": {},
   "source": [
    "## Word Tokenization"
   ]
  },
  {
   "cell_type": "code",
   "execution_count": 46,
   "metadata": {},
   "outputs": [
    {
     "name": "stderr",
     "output_type": "stream",
     "text": [
      "[nltk_data] Downloading package punkt to\n",
      "[nltk_data]     C:\\Users\\Hammam\\AppData\\Roaming\\nltk_data...\n",
      "[nltk_data]   Package punkt is already up-to-date!\n"
     ]
    }
   ],
   "source": [
    "nltk.download('punkt')\n",
    "\n",
    "def tokenization_word(text):\n",
    "\n",
    "    tokens = word_tokenize(text)\n",
    "    return tokens"
   ]
  },
  {
   "cell_type": "code",
   "execution_count": 47,
   "metadata": {},
   "outputs": [
    {
     "name": "stdout",
     "output_type": "stream",
     "text": [
      "BEFORE\n",
      "==================================================\n"
     ]
    },
    {
     "data": {
      "text/plain": [
       "['muncul keluh warganet wisuda tingkat paud sma sambat serbu kolom instagram menteri didik budaya riset teknologi nadiem makarim belakang koordinator nasional himpun didik guru p2g satriwan salim kata tren wisuda anak paud sma relatif baru turut tren muncul 20 akhir kami sih tren 20an akhir 20an akhir khusus tingkat paudtk wisuda relatif muda iring banyak diri paudpaud tktk indonesia sambung whatsapp detikedu 1662023 nah 10 fenomena banyak wisuda anakanak paud tk lanjut namun satriwan menggarisbawahi giat sifat festival seremonial sekolahsekolah indonesia festivalseremonial korelasi kembang kompetensi siswa korelasi tingkat prestasi siswa tuh beban finansial orang tua anak beber papar anakanak wisuda momen kelas ekonomi antar mobil pribadi angkut umum sepeda motor nah tunjuk kelas sosial ajang pamer kelas ekonomi mereka dia satriwan tekan berat orang tua perihal wisuda paudsma biaya maka p2g rekomendasi biaya dicover dana bos temu biaya wisuda rp 500 ribu level paudtk bahkan smpsma 1 juta atur kelola sekolah guru wisuda wajib akademik sebut sekolah wajib anakanak wisuda guru panitia terus ujar oleh dana bos mengcover giat wisuda orang tua senangsenang titik berat orang tua biaya wisuda imbuh satriwan pilah wisuda jenjang didik maksud begini paud tk sd smp derajat ya madrasah layak larang larang ya kemendikbudristek menteri agama keluar imbau tingkat tk sd smp giat wisuda jelas kendati demikian satriwan wisuda sma murid lanjut guru tinggi itu siswa sma hak wisuda catat dicover dana bos khusus paud tk sd smp manfaat sekaligus sma psikologis anak guru tidak dia satriwan orang tua berani speak up wajib sekolah anak wisuda maka dorong dinas didik daerah monitor p2g desak sekolah tahan ijazah anak serta didik anak ikut giat wisuda sekolah level sma smk smp terus ucap kalau tindak ini sekolah layak sanksi sesuai perundangundangan laku pungkas']"
      ]
     },
     "metadata": {},
     "output_type": "display_data"
    },
    {
     "name": "stdout",
     "output_type": "stream",
     "text": [
      "\n",
      "AFTER\n",
      "==================================================\n"
     ]
    },
    {
     "data": {
      "text/plain": [
       "[['muncul',\n",
       "  'keluh',\n",
       "  'warganet',\n",
       "  'wisuda',\n",
       "  'tingkat',\n",
       "  'paud',\n",
       "  'sma',\n",
       "  'sambat',\n",
       "  'serbu',\n",
       "  'kolom',\n",
       "  'instagram',\n",
       "  'menteri',\n",
       "  'didik',\n",
       "  'budaya',\n",
       "  'riset',\n",
       "  'teknologi',\n",
       "  'nadiem',\n",
       "  'makarim',\n",
       "  'belakang',\n",
       "  'koordinator',\n",
       "  'nasional',\n",
       "  'himpun',\n",
       "  'didik',\n",
       "  'guru',\n",
       "  'p2g',\n",
       "  'satriwan',\n",
       "  'salim',\n",
       "  'kata',\n",
       "  'tren',\n",
       "  'wisuda',\n",
       "  'anak',\n",
       "  'paud',\n",
       "  'sma',\n",
       "  'relatif',\n",
       "  'baru',\n",
       "  'turut',\n",
       "  'tren',\n",
       "  'muncul',\n",
       "  '20',\n",
       "  'akhir',\n",
       "  'kami',\n",
       "  'sih',\n",
       "  'tren',\n",
       "  '20an',\n",
       "  'akhir',\n",
       "  '20an',\n",
       "  'akhir',\n",
       "  'khusus',\n",
       "  'tingkat',\n",
       "  'paudtk',\n",
       "  'wisuda',\n",
       "  'relatif',\n",
       "  'muda',\n",
       "  'iring',\n",
       "  'banyak',\n",
       "  'diri',\n",
       "  'paudpaud',\n",
       "  'tktk',\n",
       "  'indonesia',\n",
       "  'sambung',\n",
       "  'whatsapp',\n",
       "  'detikedu',\n",
       "  '1662023',\n",
       "  'nah',\n",
       "  '10',\n",
       "  'fenomena',\n",
       "  'banyak',\n",
       "  'wisuda',\n",
       "  'anakanak',\n",
       "  'paud',\n",
       "  'tk',\n",
       "  'lanjut',\n",
       "  'namun',\n",
       "  'satriwan',\n",
       "  'menggarisbawahi',\n",
       "  'giat',\n",
       "  'sifat',\n",
       "  'festival',\n",
       "  'seremonial',\n",
       "  'sekolahsekolah',\n",
       "  'indonesia',\n",
       "  'festivalseremonial',\n",
       "  'korelasi',\n",
       "  'kembang',\n",
       "  'kompetensi',\n",
       "  'siswa',\n",
       "  'korelasi',\n",
       "  'tingkat',\n",
       "  'prestasi',\n",
       "  'siswa',\n",
       "  'tuh',\n",
       "  'beban',\n",
       "  'finansial',\n",
       "  'orang',\n",
       "  'tua',\n",
       "  'anak',\n",
       "  'beber',\n",
       "  'papar',\n",
       "  'anakanak',\n",
       "  'wisuda',\n",
       "  'momen',\n",
       "  'kelas',\n",
       "  'ekonomi',\n",
       "  'antar',\n",
       "  'mobil',\n",
       "  'pribadi',\n",
       "  'angkut',\n",
       "  'umum',\n",
       "  'sepeda',\n",
       "  'motor',\n",
       "  'nah',\n",
       "  'tunjuk',\n",
       "  'kelas',\n",
       "  'sosial',\n",
       "  'ajang',\n",
       "  'pamer',\n",
       "  'kelas',\n",
       "  'ekonomi',\n",
       "  'mereka',\n",
       "  'dia',\n",
       "  'satriwan',\n",
       "  'tekan',\n",
       "  'berat',\n",
       "  'orang',\n",
       "  'tua',\n",
       "  'perihal',\n",
       "  'wisuda',\n",
       "  'paudsma',\n",
       "  'biaya',\n",
       "  'maka',\n",
       "  'p2g',\n",
       "  'rekomendasi',\n",
       "  'biaya',\n",
       "  'dicover',\n",
       "  'dana',\n",
       "  'bos',\n",
       "  'temu',\n",
       "  'biaya',\n",
       "  'wisuda',\n",
       "  'rp',\n",
       "  '500',\n",
       "  'ribu',\n",
       "  'level',\n",
       "  'paudtk',\n",
       "  'bahkan',\n",
       "  'smpsma',\n",
       "  '1',\n",
       "  'juta',\n",
       "  'atur',\n",
       "  'kelola',\n",
       "  'sekolah',\n",
       "  'guru',\n",
       "  'wisuda',\n",
       "  'wajib',\n",
       "  'akademik',\n",
       "  'sebut',\n",
       "  'sekolah',\n",
       "  'wajib',\n",
       "  'anakanak',\n",
       "  'wisuda',\n",
       "  'guru',\n",
       "  'panitia',\n",
       "  'terus',\n",
       "  'ujar',\n",
       "  'oleh',\n",
       "  'dana',\n",
       "  'bos',\n",
       "  'mengcover',\n",
       "  'giat',\n",
       "  'wisuda',\n",
       "  'orang',\n",
       "  'tua',\n",
       "  'senangsenang',\n",
       "  'titik',\n",
       "  'berat',\n",
       "  'orang',\n",
       "  'tua',\n",
       "  'biaya',\n",
       "  'wisuda',\n",
       "  'imbuh',\n",
       "  'satriwan',\n",
       "  'pilah',\n",
       "  'wisuda',\n",
       "  'jenjang',\n",
       "  'didik',\n",
       "  'maksud',\n",
       "  'begini',\n",
       "  'paud',\n",
       "  'tk',\n",
       "  'sd',\n",
       "  'smp',\n",
       "  'derajat',\n",
       "  'ya',\n",
       "  'madrasah',\n",
       "  'layak',\n",
       "  'larang',\n",
       "  'larang',\n",
       "  'ya',\n",
       "  'kemendikbudristek',\n",
       "  'menteri',\n",
       "  'agama',\n",
       "  'keluar',\n",
       "  'imbau',\n",
       "  'tingkat',\n",
       "  'tk',\n",
       "  'sd',\n",
       "  'smp',\n",
       "  'giat',\n",
       "  'wisuda',\n",
       "  'jelas',\n",
       "  'kendati',\n",
       "  'demikian',\n",
       "  'satriwan',\n",
       "  'wisuda',\n",
       "  'sma',\n",
       "  'murid',\n",
       "  'lanjut',\n",
       "  'guru',\n",
       "  'tinggi',\n",
       "  'itu',\n",
       "  'siswa',\n",
       "  'sma',\n",
       "  'hak',\n",
       "  'wisuda',\n",
       "  'catat',\n",
       "  'dicover',\n",
       "  'dana',\n",
       "  'bos',\n",
       "  'khusus',\n",
       "  'paud',\n",
       "  'tk',\n",
       "  'sd',\n",
       "  'smp',\n",
       "  'manfaat',\n",
       "  'sekaligus',\n",
       "  'sma',\n",
       "  'psikologis',\n",
       "  'anak',\n",
       "  'guru',\n",
       "  'tidak',\n",
       "  'dia',\n",
       "  'satriwan',\n",
       "  'orang',\n",
       "  'tua',\n",
       "  'berani',\n",
       "  'speak',\n",
       "  'up',\n",
       "  'wajib',\n",
       "  'sekolah',\n",
       "  'anak',\n",
       "  'wisuda',\n",
       "  'maka',\n",
       "  'dorong',\n",
       "  'dinas',\n",
       "  'didik',\n",
       "  'daerah',\n",
       "  'monitor',\n",
       "  'p2g',\n",
       "  'desak',\n",
       "  'sekolah',\n",
       "  'tahan',\n",
       "  'ijazah',\n",
       "  'anak',\n",
       "  'serta',\n",
       "  'didik',\n",
       "  'anak',\n",
       "  'ikut',\n",
       "  'giat',\n",
       "  'wisuda',\n",
       "  'sekolah',\n",
       "  'level',\n",
       "  'sma',\n",
       "  'smk',\n",
       "  'smp',\n",
       "  'terus',\n",
       "  'ucap',\n",
       "  'kalau',\n",
       "  'tindak',\n",
       "  'ini',\n",
       "  'sekolah',\n",
       "  'layak',\n",
       "  'sanksi',\n",
       "  'sesuai',\n",
       "  'perundangundangan',\n",
       "  'laku',\n",
       "  'pungkas']]"
      ]
     },
     "metadata": {},
     "output_type": "display_data"
    }
   ],
   "source": [
    "tokenized_words = []\n",
    "\n",
    "for idx in range(len(normalized_stemming)):\n",
    "\n",
    "    cleaned = tokenization_word(normalized_stemming[idx])\n",
    "    tokenized_words.append(cleaned)\n",
    "\n",
    "print(\"BEFORE\")\n",
    "print(\"=\"*50)\n",
    "display(normalized_stemming[:1])\n",
    "print(\"\\nAFTER\")\n",
    "print(\"=\"*50)\n",
    "display(tokenized_words[:1])"
   ]
  },
  {
   "cell_type": "markdown",
   "metadata": {},
   "source": [
    "## Sentence Tokenizatio"
   ]
  },
  {
   "cell_type": "code",
   "execution_count": 48,
   "metadata": {},
   "outputs": [
    {
     "name": "stdout",
     "output_type": "stream",
     "text": [
      "BEFORE\n",
      "==================================================\n"
     ]
    },
    {
     "data": {
      "text/plain": [
       "['muncul keluhan warganet wisuda tingkat paud sma. sambatan menyerbu kolom instagram menteri pendidikan, kebudayaan, riset, teknologi nadiem makarim belakangan. koordinator nasional perhimpunan pendidikan guru (p2g), satriwan salim mengatakan, tren wisuda anak paud sma relatif baru. menurutnya, tren muncul 20 terakhir. \"kami sih tren 20-an terakhir, 20-an terakhir. khusus tingkat paud-tk wisuda relatif muda seiring banyaknya pendirian paud-paud tk-tk indonesia,\" sambungan whatsapp detikedu (16/6/2023). \"nah, 10 fenomena banyaknya wisuda anak-anak paud tk,\" lanjutnya. namun, satriwan menggarisbawahi, kegiatan bersifat festival seremonial sekolah-sekolah indonesia. \"festival-seremonial berkorelasi pengembangan kompetensi siswa, berkorelasi peningkatan prestasi siswa, tuh. beban finansial orang tua, anak,\" bebernya. memaparkan, anak-anak wisuda momen kelas ekonomi diantarkan mobil pribadi, angkutan umum, sepeda motor. \"nah, menunjukan kelas sosial ajang memamerkan kelas ekonomi mereka,\" dia. satriwan menekankan, keberatan orang tua perihal wisuda paud-sma pembiayaan. maka, p2g merekomendasikan biayanya di-cover dana bos. menemukan biaya wisuda rp 500 ribu level paud-tk. \"bahkan smp-sma 1 juta diatur dikelola sekolah guru, wisuda kewajiban akademiklah sebut, sekolah mewajibkan anak-anak wisuda, guru panitia, seterusnya,\" ujarnya. \"oleh dana bos meng-cover kegiatan wisuda, orang tua senang-senang titik berat orang tua pembiayaan wisuda,\" imbuhnya. satriwan, pemilahan wisuda jenjang pendidikan. \"maksud begini, paud, tk, sd, smp sederajat ya madrasah selayaknya dilarang. melarangnya? ya kemendikbudristek kementerian agama mengeluarkan imbauan tingkat tk, sd, smp kegiatan wisuda,\" jelasnya. kendati demikian, satriwan wisuda sma murid melanjutkan perguruan tinggi. itu, siswa sma berhak wisuda catatan di-cover dana bos. \"khususnya paud, tk, sd, smp manfaatnya sekaligus. sma psikologis anak perguruan tidak,\" dia. satriwan orang tua berani speak up diwajibkan sekolah anaknya wisuda. maka, mendorong dinas pendidikan daerah memonitor. \"p2g mendesak sekolah menahan ijazah anak peserta didiknya anak mengikuti kegiatan wisuda sekolahnya, level sma, smk, smp seterusnya,\" ucapnya. \"kalau tindakan ini, sekolah layak sanksi sesuai perundang-undangan berlaku,\" pungkasnya.']"
      ]
     },
     "metadata": {},
     "output_type": "display_data"
    },
    {
     "name": "stdout",
     "output_type": "stream",
     "text": [
      "\n",
      "AFTER\n",
      "==================================================\n"
     ]
    },
    {
     "data": {
      "text/plain": [
       "['muncul keluhan warganet wisuda tingkat paud sma.',\n",
       " 'sambatan menyerbu kolom instagram menteri pendidikan, kebudayaan, riset, teknologi nadiem makarim belakangan.',\n",
       " 'koordinator nasional perhimpunan pendidikan guru (p2g), satriwan salim mengatakan, tren wisuda anak paud sma relatif baru.',\n",
       " 'menurutnya, tren muncul 20 terakhir.',\n",
       " '\"kami sih tren 20-an terakhir, 20-an terakhir.',\n",
       " 'khusus tingkat paud-tk wisuda relatif muda seiring banyaknya pendirian paud-paud tk-tk indonesia,\" sambungan whatsapp detikedu (16/6/2023).',\n",
       " '\"nah, 10 fenomena banyaknya wisuda anak-anak paud tk,\" lanjutnya.',\n",
       " 'namun, satriwan menggarisbawahi, kegiatan bersifat festival seremonial sekolah-sekolah indonesia.',\n",
       " '\"festival-seremonial berkorelasi pengembangan kompetensi siswa, berkorelasi peningkatan prestasi siswa, tuh.',\n",
       " 'beban finansial orang tua, anak,\" bebernya.',\n",
       " 'memaparkan, anak-anak wisuda momen kelas ekonomi diantarkan mobil pribadi, angkutan umum, sepeda motor.',\n",
       " '\"nah, menunjukan kelas sosial ajang memamerkan kelas ekonomi mereka,\" dia.',\n",
       " 'satriwan menekankan, keberatan orang tua perihal wisuda paud-sma pembiayaan.',\n",
       " 'maka, p2g merekomendasikan biayanya di-cover dana bos.',\n",
       " 'menemukan biaya wisuda rp 500 ribu level paud-tk.',\n",
       " '\"bahkan smp-sma 1 juta diatur dikelola sekolah guru, wisuda kewajiban akademiklah sebut, sekolah mewajibkan anak-anak wisuda, guru panitia, seterusnya,\" ujarnya.',\n",
       " '\"oleh dana bos meng-cover kegiatan wisuda, orang tua senang-senang titik berat orang tua pembiayaan wisuda,\" imbuhnya.',\n",
       " 'satriwan, pemilahan wisuda jenjang pendidikan.',\n",
       " '\"maksud begini, paud, tk, sd, smp sederajat ya madrasah selayaknya dilarang.',\n",
       " 'melarangnya?',\n",
       " 'ya kemendikbudristek kementerian agama mengeluarkan imbauan tingkat tk, sd, smp kegiatan wisuda,\" jelasnya.',\n",
       " 'kendati demikian, satriwan wisuda sma murid melanjutkan perguruan tinggi.',\n",
       " 'itu, siswa sma berhak wisuda catatan di-cover dana bos.',\n",
       " '\"khususnya paud, tk, sd, smp manfaatnya sekaligus.',\n",
       " 'sma psikologis anak perguruan tidak,\" dia.',\n",
       " 'satriwan orang tua berani speak up diwajibkan sekolah anaknya wisuda.',\n",
       " 'maka, mendorong dinas pendidikan daerah memonitor.',\n",
       " '\"p2g mendesak sekolah menahan ijazah anak peserta didiknya anak mengikuti kegiatan wisuda sekolahnya, level sma, smk, smp seterusnya,\" ucapnya.',\n",
       " '\"kalau tindakan ini, sekolah layak sanksi sesuai perundang-undangan berlaku,\" pungkasnya.',\n",
       " 'belakangan, kolom komentar mendikbudristek nadiem makarim dipenuhi keluhan warganet wisuda tingkat paud sma.',\n",
       " 'orang tua mengeluhkan segi biaya memberatkan.',\n",
       " '\"untuk level paud-tk, menemukan berbiaya 500 ribu smp-sma 1 juta.',\n",
       " 'diatur dikelola sekolah guru, wisuda kewajiban akademik,\" papar koordinator nasional p2g, satriwan salim dihubungi detikedu, jumat (16/6/2023).',\n",
       " 'wisuda momentum kelas ekonomi.',\n",
       " '\"yang beban finansial orang tua, anak.',\n",
       " 'anak-anak wisuda momentum kelas ekonomi wisuda diantar pakai mobil pribadi, diantar pakai angkutan umum, pakai sepeda motor,\" ungkapnya.',\n",
       " 'satriwan mengatakan, fenomena wisuda level tk sma relatif baru.',\n",
       " '\"kami sih tren 20-an terakhir, 20-an terakhir.',\n",
       " 'khusus tingkat paud, tk, wisuda relatif muda seiring banyaknya pendirian paud-paud tk-tk indonesia,\" satriwan.',\n",
       " 'satriwan, wisuda dilaksanakan, biayanya didukung dana bantuan operasional sekolah (bos).',\n",
       " '\"bisa wisuda dilakukan, biayanya di-cover dana bos biaya wisuda relatif berbiaya tinggi,\" satriwan.',\n",
       " 'satriwan memperjelas, wisuda kewajiban sekolah mewajibkan anak-anak sekolah wisuda, guru panitia sebagainya.',\n",
       " '\"nah, dana bos meng-cover kegiatan wisuda, orang tua senang-senang titik berat orang tua pembiayaan wisuda,\" ungkapnya.',\n",
       " 'satriwan menyampaikan, mencatat pemilahan wisuda paud, pendidikan dasar, menengah.',\n",
       " 'menerangkan, wisuda tingkat paud smp selayaknya dilarang.',\n",
       " '\"bagaimana melarangnya?',\n",
       " 'ya kemendikbudristek kementerian agama mengeluarkan imbauan tingkat tk, sd, smp kegiatan wisuda.',\n",
       " 'kecuali sma,\" tegasnya.',\n",
       " 'tingkat sma, satriwan murid melanjutkan kuliah.',\n",
       " 'itu, siswa sma melanjutkan pendidikan merasakan wisuda.',\n",
       " '\"tapi tadi, sifatnya di-cover dana bos,\" ujarnya.',\n",
       " 'satriwan orang tua pemaksaan sekolah, berani speak up.',\n",
       " '\"ini rasa, orang tua speak up seandainya sekolah-sekolah madrasah memaksakan, aturan wisuda wajib.',\n",
       " 'dapat, ditahan ijazahnya,\" dia.',\n",
       " 'satriwan menekankan, bentuk tindakan penahanan ijazah melanggar hak anak.',\n",
       " 'maka, dinas pendidikan daerah pengawasan.',\n",
       " '\"kalau tindakan ini, sekolah layak sanksi sesuai perundang-undangan berlaku,\" pungkasnya.',\n",
       " 'pelaksanaan wisuda jenjang tk, sd sma menuai pro kontra warganet.',\n",
       " 'menilai wisuda sekolah memberatkan biaya orang tua.',\n",
       " 'keluhan dilontarkan akun instagram menteri pendidikan, kebudayaan, riset, teknologi, nadiem makarim, salah unggahannya.',\n",
       " '\"pak nadiem, kebanyakan sekolah jenjang tk, sd, smp, sma mengadakan wisuda kelulusan, tolong mengambil kebijakan larangan memberatkan biaya org tua didalam acara tsb org tua mengeluarkan uang sewa toga, make up, sewa gedung, beli buket, memikirkan biaya pendaftaran persiapan sekolah selanjutnya.',\n",
       " 'harapan nadiem membantu ð\\x9f\\x99\\x8f terimakasih salam saya,\" tulis akun @arifin_olif.',\n",
       " '\"assamualaikum, pak.',\n",
       " 'mohon hapuskan wisuda jenjang paud-tk-sd-smp-sma dibuatkan edaran resmi sk kemndikbud, pak!',\n",
       " 'meresahkan sekali.',\n",
       " 'tolong, pak!\"',\n",
       " 'timpal komentar akun @mohekanwar.',\n",
       " 'merespon polemik ini, dr sumardiansyah perdana kusuma, mpd, ketua departemen penelitian pengabdian masyarakat, pengurus persatuan guru republik indonesia (pb pgri) wisuda anak sekolah unsur seremonial substansial.',\n",
       " 'menurutnya, hakikat kelulusan prinsipnya diukur perayaan, proses hasil diperoleh pengalaman bermakna sekolah.',\n",
       " 'harapannya refleksi pencapaian kompetensi tumbuh berkembang berguna kehidupan nyata.',\n",
       " '\"semisal anak paud.',\n",
       " 'tk sps (satuan paud sejenis), urgen seusia menempuh pendidikan 1 2 dibuatkan wisuda,\" detikedu, jumat (16/6/2023).',\n",
       " 'sejatinya, sumardiansyah, penyelenggaraan wisuda anak sekolah fair bijaksana.',\n",
       " 'faktanya, ditemukan penyelenggaraan wisuda mengarah pemaksaan anak orang tua membayar nominal tertentu.',\n",
       " '\"ini pungutan.',\n",
       " 'diterapkan sekolah-sekolah negeri mengusung model sekolah gratis, zonasi, inklusi halnya dki jakarta, penyelenggaraan wisuda berpotensi menimbulkan bentuk diskriminasi pungutan dijangkau siswa keluarga mampu,\" guru sman 13 jakarta tersebut.',\n",
       " '\"belum laporan pertanggungjawaban keuangan dikelola transparan akuntabel sesuai rkas (rencana kegiatan anggaran sekolah) disusun.',\n",
       " 'penarikan pungutan tercantum rkas, lagi-lagi memaksa berpotensi menciptakan penyimpangan pengelolaan anggaran sekolah,\" terang sumardiansyah lanjut.',\n",
       " 'begitu, sumardiansyah menyebut pemerintah mengambil jalan tengah.',\n",
       " 'caranya, melarang wisuda sekolah mengaturnya.',\n",
       " 'menurutnya, konteks sekolah-sekolah swasta menjadikan wisuda icon, branding, pelayanan prima bersekolah sana.',\n",
       " 'konteks rumit wisuda sekolah dilarang.',\n",
       " 'sebab, sekolah swasta lembaga pendidikan dikelola masyarakat memiliki kemandirian keleluasaan penyelenggaraan pendidikan, penggunaan anggaran.',\n",
       " '\"sehingga pemerintah mengaturnya, melarangnya,\" tegasnya.',\n",
       " 'mengatur wisuda sekolah ini, pemerintah pedoman panduan penyelenggaraan wisuda catatan.',\n",
       " 'mengakomodasi karakteristik sekolah negeri swasta, dikelola transparan akuntabel.',\n",
       " 'sekolah negeri mengambil anggaran bop/bos wisuda diadakan sekolah, konsep acara diusung melibatkan siswa segenap warga sekolah aktif mengedepankan nilai-nilai edukasi gotong royong.',\n",
       " '\"prinsip utamanya wisuda mengarah perilaku hedonis, memaksa membebani orang tua, menciptakan diskriminasi, peluang pungutan liar.',\n",
       " 'prinsip-prinsip dilanggar, wisuda diadakan ya sah-sah saja,\" sumardiansyah.',\n",
       " 'akhir-akhir akun instagram menteri pendidikan, kebudayaan, riset, teknologi, nadiem makarim diserbu warganet.',\n",
       " 'mengeluhkan penyelenggaraan wisuda jenjang tk sma.',\n",
       " 'salah warganet akun @mikhaylaeka2023, menuliskan acara wisuda tk-sma dihapuskan dinilai memberatkan biaya orang tua.',\n",
       " '\"tolong nadiem dihapuskan acara wisuda tk - sma memberatkan biaya orang tua... wisuda lulusan universitas aja tk...trs masuk sd dipersulit kaya lah.... kembalikan kaya zaman dulu... masuk sd smp sma negeri berdasarkan nilai berdasarkan umur zona dulu... orang tua dibikin susah ð\\x9f\\x98\\x8að\\x9f\\x98\\x8að\\x9f\\x99\\x8f,\" tulisnya detikedu, jumat (16/6/2023).',\n",
       " 'komentar ditulis warganet unggahan menteri nadiem rabu (14/6) lalu.',\n",
       " '\"assalamu\\'alaikum.. tolong kebijakan mentri penomena wisuda tk/paud.',\n",
       " 'sd.',\n",
       " 'smp.',\n",
       " 'sma/smk.',\n",
       " 'biayanya murah wajib dibayar.',\n",
       " 'memberatkan orangtua murid.',\n",
       " 'orangtua anak 2 3 anak yg wisuda bersamaan.',\n",
       " 'lulus masuk sekolah biaya lagi.',\n",
       " 'tolong kebijakan nya pak.',\n",
       " 'wisuda orangtua terlilit hutang terancam anak putus sekolah,\" tulis akun @syafridacupid.',\n",
       " 'terkait pro kontra wisuda ini, wakil sekjen federasi serikat guru indonesia (fsgi), mansur, peraturan resmi pemerintah kementerian terkait pelaksanaan wisuda tk, sd sma perguruan (pt).',\n",
       " '\"yang ketentuan pimpinan lembaga pendidikan kepala sekolah/madrasah rektor persetujuan orang tua, bersifat wajib,\" detikedu, jumat (16/6/2023).',\n",
       " 'demikian, mansur situasi menempatkan wisuda milik lulusan pt agenda prestise lembaga pendidikan tk sma.',\n",
       " 'masyarakat menganggap wisuda motivasi anaknya.',\n",
       " 'sisi lain, dipungkiri wisuda dianggap beban biaya ekstra orang tua.',\n",
       " 'lanjut, mansur fsgi cenderung menghimbau sekolah/madrasah mempertimbangkan cermat bijak terkait manfaat dampak pelaksanaan wisuda.',\n",
       " '\"semisal wisuda dilaksanakan disederhanakan prosesi, pakaian, perlengkapannya,\" ujarnya.',\n",
       " 'ini, fsgi mengajak masyarakat orang tua bijaksana mengikuti tren wisuda.',\n",
       " '\"karena wajib orang tua mempertimbangkan sisi positif negatifnya,\" imbuh mansur.',\n",
       " 'ini, fsgi mendorong pemerintah sensitif menyikapi wisuda.',\n",
       " 'mansur menteri nadiem mengubah memperluas cakupan permendikbudristek no 50 2022 pakaian seragam sekolah siswa jenjang sd sma mengatur pakaian wisuda.',\n",
       " 'mansur contoh wisuda seragam khas sekolah dimiliki siswa.',\n",
       " '\"setidaknya kemdikbud mengeluarkan edaran wisuda wajib sekolah program wisuda wajib orang tua kegiatan berhubungan kebijakan pemerintah,\" wasekjen fsgi tersebut.',\n",
       " 'ketua mpr bambang soesatyo dosen pascasarjana program studi doktor ilmu hukum universitas borobudur, jakarta.',\n",
       " 'sebelumnya, bamsoet dosen program s1 fakultas hukum, ilmu sosial ilmu politik (fhisip) universitas terbuka surat tugas dosen kementerian pendidikan kebudayaan ri nomor: 90036/un31.fak.3/kp.09.00/2021 jabatan akademik lektor.',\n",
       " 'kepercayaan diperoleh terlepas latar dimiliki pengusaha lulusan doktor ilmu hukum fh-unpad.',\n",
       " 'itu, bamsoet praktisi hukum nasional jabatan publik diembannya.',\n",
       " 'tertuang sk rektor universitas borobudur jakarta diterimanya direktur pascasarjana universitas borobudur prof. dr. faisal santiago jakarta, ini.',\n",
       " '\"sebuah kehormatan bergabung keluarga universitas borobudur berkontribusi pengetahuan seputar politik hukum.',\n",
       " 'seiring proses pematangan kehidupan demokrasi, penegakan hukum berkeadilan diperlakukan prosedur ditaati,\" bamsoet keterangannya, jumat (16/6/2023).',\n",
       " '\"melainkan memenuhi tujuan hukum sendiri, keadilan, nilai kemanfaatan, kepastian hukum.',\n",
       " 'hukum mengayomi aman, berpotensi melukai keadilan masyarakat,\" sambungnya.',\n",
       " \"bamsoet program studi doktor ilmu hukum, pascasarjana universitas borobudur akreditasi 'baik sekali' berdasarkan sk badan akreditasi nasional perguruan nomor: 1771/sk/ban-pt/ak.kp/d/v/2023.\",\n",
       " 'nilai 318, menjadikan skor lingkungan doktor hukum jakarta.',\n",
       " '\"jumlah mahasiswa aktifnya 430 mahasiswa.',\n",
       " 'berasal profesi advokat, polisi, jaksa, hakim, karyawan swasta, aparatur sipil negara, pejabat publik bupati/wali kota gubernur.',\n",
       " 'menandakan program doktor hukum diminati masyarakat.',\n",
       " 'akreditasi sekali, perkuliahan program studi doktor ilmu hukum didukung sarana prasarana baik, ruang kelas berstandar internasional, nyaman mahasiswa belajar mencapai gelar doktor hukum,\" jelasnya.',\n",
       " 'bamsoet menerangkan kuliah kampus universitas borobudur, mahasiswa kesempatan kuliah kampus informasi pengetahuan hukum terkini internasional.',\n",
       " 'mencontohkan komparasi studi kampus gakushin university tokyo jepang, hankuk university korea selatan, youngsan university korea selatan, utrecht university belanda.',\n",
       " '\"para mahasiswa program studi doktor ilmu hukum, pascasarjana universitas borobudur wakil ketua komisi iii dpr ahmad sahroni, anggota komisi iii dpr ri trimedya panjaitan, advokat ifdhal kasim, lainnya.',\n",
       " 'alumninya kuat, diketuai mantan dirjen imigrasi kemenkumham irjen pol (purn) dr ronny sompie,\" pungkasnya.',\n",
       " 'informasi tambahan, dosen universitas terbuka, bamsoet mengajar mata kuliah kebijakan bisnis pengantar bisnis.',\n",
       " 'program pascasarjana bamsoet mengajar mata kuliah, pembaharuan hukum nasional politik hukum kebijakan publik.',\n",
       " 'panen padi disambut meriah suku dayak tinggal kalimantan tengah.',\n",
       " 'kerap menggelar tradisi ungkapan syukur dinamakan mangenta.',\n",
       " 'masyarakat suku dayak menggelar tradisi mencegah perkembangbiakan hama padi tikus, burung, serangga.',\n",
       " 'tradisi mangenta diyakini memiliki nilai spiritual masyarakat setempat.',\n",
       " 'situs direktorat pendidikan smp kemdikbud, mangenta memiliki istilah prosesi kuman behas tahet memakan beras batu.',\n",
       " 'kenta, hidangan khas dayak kalimantan terbuat beras ketan.',\n",
       " 'kenta dipanggang ditumbuk lesung.',\n",
       " 'bahan dibutuhkan kenta beras ketan, kelapa muda, gula putih/gula merah, air kelapa muda.',\n",
       " 'padi ketan direndam ditiriskan disangrai 10 menit api sedang.',\n",
       " 'padi disangrai ditumbuk halus.',\n",
       " 'kenta direbus air panas dicampur susu.',\n",
       " 'tekstur kenta kenyal membuatnya santapan nikmat berkat manis.',\n",
       " 'umumnya, kenta disajikan acara-acara khusus, upacara adat pernikahan suku dayak-ngaju.',\n",
       " 'tahunnya pemerintah provinsi kalimantan menggelar tradisi mangenta besar-besaran festival budaya isen mulang (fbim).',\n",
       " 'peserta lomba mengikuti festival pakaian daerah pakaian petani kebaya daerah.',\n",
       " 'kriteria penilaian kompetisi kerja sama/tanggung pembagian tugas, teknik proses pembuatan, kecepatan ketepatan waktu, kesempurnaan kebersihan penyajian.',\n",
       " 'tradisi mangenta menyambut musim panen padi ala suku dayak.',\n",
       " 'tradisi daerahmu, detikers?',\n",
       " 'komisi x dpr ri menyetujui pergeseran anggaran 2023 rp 1,37 triliun diusulkan kementerian pendidikan, kebudayaan, riset, teknologi (kemendikbudristek).',\n",
       " 'mendikbudristek nadiem makarim menjelaskan, pengalihan anggaran dipakai membiayai program pendidikan anak usia (paud) wajib belajar 12 program indonesia pintar (pip) jenjang sd.',\n",
       " 'kemendikbudristek ri melayangkan usulan surat no.10049/mpk.a/pr.07.01/2023 tertanggal 27 maret 2023. sementara, persetujuan rapat kerja mendikbudristek komisi x dpr ri (14/6/2023).',\n",
       " 'nadiem berharap pengalihan anggaran berdampak positif masyarakat luas.',\n",
       " '\"semoga peningkatan pip dinikmati masyarakat membutuhkan,\" dia.',\n",
       " 'pengalihan anggaran rp 1,37 triliun diambil pos anggaran berikut: komisi x dpr menilai, sasaran program kegiatan unit utama kemendikbudristek berubah.',\n",
       " 'sebab, pembiayaannya dana kolaborasi lembaga pengelola dana pendidikan (lpdp).',\n",
       " 'mempertimbangkan masukan catatan, pengalihan anggaran rp 1,37 triliun disetujui fraksi.',\n",
       " '\"setelah meneliti mencermati, mendukung, menyepakati, menyetujui pengalihan anggaran rp1,37 triliun diarahkan pip sd,\" dede yusuf, wakil ketua komisi x dpr ri berdasarkan keterangan tertulis (16/6/2023).',\n",
       " '\"semoga anak-anak sd manfaatnya, membutuhkan,\" lanjutnya.',\n",
       " 'wakil ketua komisi x dpr ri, agustina wilujeng pramestuti pemimpin raker mengetok palu penanda hasil keputusan.',\n",
       " '\"pergeseran anggaran dimohonkan mendikbudristek komisi x dpr, setujui,\" agustina.',\n",
       " 'merespons ini, nadiem apresiasi komisi x dpr ri.',\n",
       " '\"saya mengapresiasi sebesar-besarnya anggota komisi x dpr persetujuan pergeseran anggaran ini,\" respons nadiem raker tersebut.',\n",
       " 'penerimaan peserta didik (ppdb) dki jakarta 2023 minggu selesai jalur prestasi akademik non-akademik, afirmasi khusus anak penyandang disabilitas, ppdb sekolah swasta.',\n",
       " 'terkait penyelenggaraannya, ketua penerimaan peserta didik jakarta pusat wilayah ii dr saryono calon peserta didik (cpdb).',\n",
       " 'login akun lupa password dikeluhkan orang tua ppdb dki jakarta 2023. permasalahan salah ketik nomor induk kewarganegaraan (nik) menyusul peringkat kedua.',\n",
       " '\"penyelenggaraan seminggu lancar, masyarakat posko ppdb kesulitan membuka akunnya.',\n",
       " 'kesulitan login lupa password,\" dr saryono detikedu, smkn 14 jakarta, jalan percetakan negara iia, jakarta pusat, jumat (16/6/2023).',\n",
       " 'saryono cpdb kesulitan login akun kesalahan data proses pengajuan akun nama nik.',\n",
       " 'lupa password pendaftaran.',\n",
       " '\"jadi salah isi data, dibatalkan pendaftarannya posko ppdb.',\n",
       " 'cpdb bikin akun mendaftar,\" tutupnya.',\n",
       " 'terkait permasalahan salah ketik nik pendaftaran lain, smkn 14 menyediakan kependudukan pencatatan sipil (dukcapil) membantu proses ppdb calon siswa.',\n",
       " '\"di petugas layanan informasi, teknis mengurus pendaftaran login akun password, dukcapil pengawas suku dinas (sudin) pendidikan wilayah ii jakarta pusat,\" tambahnya.',\n",
       " 'seminggu belakang, posko ppdb smkn 14 jakarta didatangi 20 orang tua cpdb mengeluhkan pendaftaran.',\n",
       " 'begitu, saryono mengaku menyelesaikan tuntas posko.',\n",
       " 'pantauan detikedu, jumat (16/6/2023) orang tua cpdb mengunjungi posko.',\n",
       " 'saryono pendaftaran memasuki proses lapor diri.',\n",
       " '\"sekarang udah masuk lapor diri, pas pendaftaran pemilihan sekolah akun.',\n",
       " 'sekarang, lapor kebanyakan orang tua mencari informasi,\" saryono.',\n",
       " 'dikutip juknis ppdb dki jakarta 2023, jalur penerimaan ppdb minggu tanggal 19-23 juni 2023. posko pelayanan ppdb menghimbau cpdb memiliki permasalahan pendaftaran baiknya mengunjungi posko.',\n",
       " 'panitia membantu cpdb pelayanan pendaftaran.',\n",
       " 'dafatr posko ppdb dki jakarta 2024, detikers ya!',\n",
       " 'universitas negeri semarang (unnes) membuka tujuh program studi (prodi) ini.',\n",
       " 'tujuh prodi s1 ekonomi keuangan islam, s2 akuntansi, s2 manajemen, s2 teknik sipil, s2 teknik elektro, s3 pendidikan ekonomi, s3 ilmu hukum.',\n",
       " 'mengutip laman unnes, kepastian pembukaan prodi-prodi tertuang surat pemenuhan syarat minimum akreditasi pembukaan program studi nomor 759/ban-pt/ll/2023 badan akreditasi nasional perguruan (ban-pt).',\n",
       " 'wakil rektor bidang akademik kemahasiswaan unnes, zaenuri, tujuh prodi dibuka kajian matang.',\n",
       " 'tujuan pembukaan tujuh prodi kebutuhan masyarakat.',\n",
       " '\"prodi-prodi buka kebutuhan masyarakat.',\n",
       " 'pembukaan kajian matang.',\n",
       " 'dukungan sarana akademik, tenaga pengajar, sarana prasarana siapkan dinilai memenuhi syarat akreditasi ban-pt,\" terang zaenuri, dikutip detikjateng, jumat (16/6/2023).',\n",
       " 'dekan fakultas ekonomi bisnis (feb) unnes, amir mahmud fakultasnya prodi menampung 20 40 mahasiswa.',\n",
       " '\"prodi ekonomi keuangan islam (s1) menerima 50 mahasiswa.',\n",
       " 's2 manajemen, s2 akuntansi, s3 pendidikan ekonomi menerima 20 mahasiswa,\" terangnya.',\n",
       " 'prodi fakultas teknik (ft), dekan ft unnes, wirawan sumbodo, kuota prodi fakultasnya s2 teknik kimia menerima 15 mahasiswa, s2 teknik sipil menerima 20 mahasiswa, s3 ilmu hukum menerima 25 mahasiswa.',\n",
       " 'daftar prodi unnes: 1. s1 ekonomi keuangan islam : 50 mahasiswa2.',\n",
       " 's2 manajemen: 20 mahasiswa3.',\n",
       " 's2 akuntansi: 20 mahasiswa4.',\n",
       " 's2 teknik kimia: 15 mahasiswa5.',\n",
       " 's2 teknik sipil: 20 mahasiswa6.',\n",
       " 's3 pendidikan ekonomi: 20 mahasiswa7.',\n",
       " 's3 ilmu hukum: 25 mahasiswa daftar prodi unnes kepala humas unnes, surahmat menerangkan mahasiswa mendaftar prodi jalur seleksi mandiri.',\n",
       " 'penerimaan mahasiswa tujuh prodi 2023 juga.',\n",
       " '\"pembukaan jalur seleksi mandiri reguler dibuka 17 mei ditutup 9 juli 2023. pendaftaran seleksi mandiri s2 s3 gelombang 2 ditutup 18 juli 2023,\" surahmat.',\n",
       " 'detikers berminat, pendaftaran https://unnes.ac.id/admission/.',\n",
       " 'jalur zonasi salah jalur dipilih penerimaan peserta didik (ppdb) jakarta 2023 jenjang sd, smp, sma.',\n",
       " 'jalur memiliki daya tampung dibandingkan jalur lainnya.',\n",
       " 'berdasarkan peraturan kementerian pendidikan riset teknologi nomor 1 2021 pelaksanaan ppdb, daya tampung jalur zonasi sd minimal 70% daya tampung sekolah, smp minimal 50% daya tampung sekolah, sma minimal 50% daya tampung sekolah.',\n",
       " 'itu, daya tampung jalur zonasi ppdb jakarta 2023 sesuai juknis ppdb jakarta 2023 sd 73% tampung, smp & sma 50% daya tampung.',\n",
       " 'daya tampung jalur zonasi besar, prioritas menentukan peserta didik diterima sekolah tertentu.',\n",
       " 'prioritas penentuan peserta didik jalur zonasi jenjang smp sma?',\n",
       " 'selengkapnya: 1. prioritas jalur zonasi sma sma zona prioritas berikut: - zona prioritas diperuntukkan calon peserta didik berdomisili pt sekolah berdomisili rt berbatasan langsung sekolah- zona prioritas diperuntukkan calon peserta didik berdomisili rt sekolah berdasarkan pemetaan- zona prioritas ketiga diperuntukkan calon peserta didik berdomisili kelurahan sekolah 2. kuota jalur zonasi terpenuhi dilimpahkan ppdb tahap kedua.3.',\n",
       " 'daya tampung jalur zonasi melebihi kapasitas, seleksi urutan: - zona prioritas- usia tertua termuda- urutan pilihan sekolah- mendaftar jadwal ppdb jakarta 2023 jalur zonasi 1. smp - pengajuan akun: 19 mei - 28 juni 2023- pendaftaran pemilihan sekolah: 26 - 28 juni 2023- proses seleksi: 26 - 28 juni 2023- pengumuman: 28 juni 2023- lapor diri: 30 juni - 1 juli 2023 2. sma - pengajuan akun: 24 mei - 28 juni 2023- pendaftaran pemilihan sekolah: 26 - 28 juni 2023- proses seleksi: 26 - 28 juni 2023- pengumuman: 28 juni 2023- lapor diri: 30 juni - 1 juli 2023 informasi seputar jalur zonasi smp sma ppdb jakarta 2023 beserta ketentuan prioritas proses seleksi.',\n",
       " 'semoga bermanfaat.',\n",
       " 'kurikulum sekolah berbeda negara.',\n",
       " 'detikers, tahukah kurikulum negara ratu elizabeth itu?',\n",
       " 'selepas usia 16 tahun, siswa belajar kurikulum advanced level qualifications a-levels.',\n",
       " 'kurikulum ini, siswa diperbolehkan memilih subjek dipelajari.',\n",
       " 'mempertimbangkan subjek membantu masuk universitas kelak.',\n",
       " 'salah siswa indonesia, tamara feri kusuma putri, melanjutkan jenjang smanya cardiff sixth form college.',\n",
       " 'mengikuti 1 sekolah sma taruna nusantara, magelang, tamara bertolak inggris menempuh pendidikan.',\n",
       " \"cerah, tamara mengaku motivasi belajarnya minat 'pintu keluar' sekolah negeri.\",\n",
       " 'sulit menempuh perguruan indonesia ijazah sma.',\n",
       " 'lantas tamara mengatasi kesulitannya sekolah negeri?',\n",
       " 'simak kisahnya diceritakan detikedu.',\n",
       " 'berbeda kurikulum nasional, tamara dibebaskan memilih subjek sekolah.',\n",
       " 'demikian, isi materi diajarkan berbeda tanah air.',\n",
       " \"ditambah bahasa pengantar 'asing'.\",\n",
       " '\"untuk bahan belajar terminologinya berbeda banget bahasa inggris conversation.',\n",
       " 'it was pretty hard of me at first,\" jelasnya.',\n",
       " 'itu, tipe ujian berbeda indonesia.',\n",
       " 'program a-levels ujian berbentuk essai isian singkat.',\n",
       " 'nilai tamara menurun.',\n",
       " '\"habis ulangan jelek banget.',\n",
       " 'engga nilainya sejelek ini,\" tamara.',\n",
       " 'itu, tamara nilai e ujian biologinya.',\n",
       " 'tamara mengaku menyesuaikan belajarnya kurikulum sekolah itu.',\n",
       " 'tamara beasiswa dikirimi surat kepala sekolah.',\n",
       " '\"aku dikirimi surat kepala sekolah scholarshipku dicabut.',\n",
       " 'gitu,\" jelasnya.',\n",
       " \"usia 16 terbilang muda 'merantau' negeri orang.\",\n",
       " 'tamara satu-satunya siswa indonesia sekolahnya.',\n",
       " 'inggris, mayoritas siswa cardiff sixth form college orang hongkong china.',\n",
       " '\"jadi ngomong pake bahasa mandarin cantonese.',\n",
       " 'ngerasa i was an outsider.',\n",
       " 'engga ngerti ngomong apa.',\n",
       " 'engga join,\" ujarnya.',\n",
       " 'tuntutan akademik perasaan sendiri, tamara dilema indonesia.',\n",
       " 'namun, kesempatannya berkuliah indonesia sempit.',\n",
       " 'ketiadaan ijazah smanya.',\n",
       " '\"aku engga indonesia engga ijazah keluaran sma,\" ujarnya.',\n",
       " '\"aku terlanjur sini.',\n",
       " 'engga mundur, udah stuck.',\n",
       " 'i just gotta do it,\" sambungnya.',\n",
       " 'tamara memperbaiki belajarnya.',\n",
       " 'menurutnya, belajarnya ekstrem.',\n",
       " '\"aku belajarnya ekstrem.',\n",
       " 'belajar nyampe jam 5 pagi sekolah jam 9. tuh tidur pakai seragam engga mandi biar langsung berangkat,\" tuturnya.',\n",
       " 'sepulang sekolah 6 sore, tamara istirahat belajar 12 malam.',\n",
       " 'istirahat 30 menit, tamara akna belajar 5 pagi.',\n",
       " '\"dulu setres banget sih.',\n",
       " 'ngerasa alone sini.',\n",
       " 'orang-orang mikirnya enak hidupnya huru-hara, engga.',\n",
       " 'beda gagal udah engga ijazah sma engga gagal,\" ceritanya.',\n",
       " 'tamara belajar mandiri gurunya.',\n",
       " '07.30 pagi materi dipahami.',\n",
       " 'perjuangan tamara, berhasil mengubah nilai e a 20 hari.',\n",
       " '\"akhirnya ulangan nilaiku dapet a. belajar 20 ulangan dapet e. udah belajar aku,\" jelasnya.',\n",
       " 'perjuangan tamara sekolah negeri mengantarkannya 12 letter of acceptance 11 kampus top dunia.',\n",
       " 'tamara mengikuti beasiswa indonesia maju (bim).',\n",
       " 'media sosial ramai warganet prosesi wisuda sekolah tk sma ditiadakan.',\n",
       " 'wisuda digelar lulus kuliah saja.',\n",
       " 'setuju nggak nih detikers?',\n",
       " 'silakan suara detikers klik pilihan pro-kontra ya!',\n",
       " 'detikedu unggahan instagram mendikbud nadiem makarim, warganet mengeluhkan demikian: tolong nadiem dihapuskan acara wisuda tk - sma memberatkan biaya orang tua... wisuda lulusan universitas aja tk...trs masuk sd dipersulit kaya lah.... kembalikan kaya zaman dulu... masuk sd smp sma negeri berdasarkan nilai berdasarkan umur zona dulu... orang tua dibikin susah ð\\x9f\\x98\\x8að\\x9f\\x98\\x8að\\x9f\\x99\\x8f rata-rata mendukung keluhan warganet mengeluhkan wisuda tk-sma buang-buang uang.',\n",
       " 'mendukung diadakannya wisuda tingkat sma siswa melanjutkan pendidikan perguruan tinggi.',\n",
       " 'setujuuu tp baiknya wisuda sma/smk diadakan karna mewakili anak anak yg melanjutkan universitas kecewa sedih merasakan wisuda wisuda sma/smk dihapus,mungkin tabungan wisuda yg diadakan pemerintah dpt membantu meringankan beban uang yg ditanggung orang tuað\\x9f\\x99\\x8f menimpali urusan wisuda persetujuan orangtua komite sekolah masing-masing, menteri turun tangan.',\n",
       " 'nah, detikers bagaimana?',\n",
       " 'setuju nggak wisuda tk sma dihilangkan?',\n",
       " 'ayo coba suarakan pendapat kegelisahan ya fitur komentar pro kontra ini.',\n",
       " 'perkembangan industri kreatif indonesia menanjak tahunnya.',\n",
       " 'bahkan, industri kreatif elemen berkontribusi membangun perekonomian indonesia.',\n",
       " 'dilansir laman kemenparekraf, ekonomi kreatif indonesia menduduki peringkat dunia nilai rp 1.300 triliun, amerika serikat industri perfilman hollywood-nya korea selatan industri musik k-pop.',\n",
       " 'melirik kebutuhan industri kreatif meningkat, multimedia nusantara polytechnic (mnp) hadir menyediakan pendidikan vokasi khusus bidang industri kreatif.',\n",
       " 'kampus berlokasi wilayah gading serpong melahirkan sarjana-sarjana terapan fokus jurusan, e-commerce logistics, digital animation, event management.',\n",
       " 'mnp menyadari jurusan-jurusan kampus indonesia, orang paham mendalam politeknik ini.',\n",
       " '\"nggak orang tahu, bidangnya nggak prospek kerjanya nantinya,\" talent acquisition manager multimedia nusantara polytechnic (mnp) arie tunggal detikcom ini.',\n",
       " 'mengenalkan seluk beluk industri kreatif jurusan dipelajari mnp, membuka kesempatan anak sekolah mengikuti campus visit kampus politeknik ini.',\n",
       " '\"selama mengajak sekolah, berkoordinasi sekolah.',\n",
       " 'sini, kampusnya prodinya,\" arie.',\n",
       " 'sarana promosi, agenda campus visit dihadirkan mnp meliputi kegiatan workshop anak sekolah.',\n",
       " 'mengikuti campus visit, anak usia sma/sederajat simulasi langsung pembelajaran jurusan, business plan jurusan e-commerce logistics, mendesain animasi langsung anak-anak mengikuti workshop jurusan digital animation.',\n",
       " '\"melalui workshop, anak-anak mencoba.',\n",
       " 'kampus politeknik praktik, mengajak praktik langsung,\" arie.',\n",
       " '\"harapannya pulang wawasan baru, cocok nggak cocok ya apa-apa.',\n",
       " 'setidaknya, harap anak-anak \\'mengicipi\\' jurusan mnp,\" sambungnya.',\n",
       " 'sekolah tertarik mengajak siswanya mengikuti campus visit, menghubungi langsung mnp follow instagram @multimedianusantarapolytechnic informasi lanjut.',\n",
       " '\"bisa langsung info undang langsung.',\n",
       " 'terbuka saja.',\n",
       " 'langsung fisik sini, kota virtual campus tour,\" pungkas arie.']"
      ]
     },
     "metadata": {},
     "output_type": "display_data"
    }
   ],
   "source": [
    "from nltk.tokenize import sent_tokenize\n",
    "\n",
    "tokenized_sents = []\n",
    "# tokenized_sents = sent_tokenize(str(cleaned_stopwords[:1]))\n",
    "\n",
    "def tokenization_sents(texts):\n",
    "    \n",
    "    tokens = sent_tokenize(str(texts))\n",
    "    return tokens\n",
    "\n",
    "for idx in range(len(cleaned_stopwords)):\n",
    "    sentence = tokenization_sents(cleaned_stopwords[idx])\n",
    "    for sents in sentence:\n",
    "        tokenized_sents.append(sents)\n",
    "    \n",
    "\n",
    "tokenization_sents(normalized_stemming)\n",
    "# normalized_stemming_tokenized = tokenization_sents(normalized_stemming)\n",
    "\n",
    "\n",
    "\n",
    "print(\"BEFORE\")\n",
    "print(\"=\"*50)\n",
    "display(cleaned_stopwords[:1])\n",
    "print(\"\\nAFTER\")\n",
    "print(\"=\"*50)\n",
    "display(tokenized_sents)"
   ]
  },
  {
   "cell_type": "markdown",
   "metadata": {},
   "source": [
    "# Visualization"
   ]
  },
  {
   "cell_type": "code",
   "execution_count": 49,
   "metadata": {},
   "outputs": [],
   "source": [
    "tokenized_words_flattened = list(itertools.chain(*tokenized_words))\n",
    "tokenized_words_count = Counter(tokenized_words_flattened)\n",
    "tokenized_words_count_sorted = OrderedDict(sorted(tokenized_words_count.items(), key= lambda kv : kv[1], reverse=False))"
   ]
  },
  {
   "cell_type": "code",
   "execution_count": 51,
   "metadata": {},
   "outputs": [
    {
     "data": {
      "image/png": "[encoded data removed]",
      "text/plain": [
       "<Figure size 800x550 with 1 Axes>"
      ]
     },
     "metadata": {},
     "output_type": "display_data"
    }
   ],
   "source": [
    "plt.barh(\n",
    "    list(tokenized_words_count_sorted.keys())[-10:],\n",
    "    list(tokenized_words_count_sorted.values())[-10:],\n",
    ")\n",
    "\n",
    "plt.title('Top 10 word frequency:\\nEducation News Content')\n",
    "plt.show()"
   ]
  },
  {
   "cell_type": "code",
   "execution_count": 52,
   "metadata": {},
   "outputs": [
    {
     "data": {
      "image/png": "[encoded data removed]",
      "text/plain": [
       "<Figure size 800x550 with 1 Axes>"
      ]
     },
     "metadata": {},
     "output_type": "display_data"
    }
   ],
   "source": [
    "plt.barh(\n",
    "    list(tokenized_words_count_sorted.keys())[10:],\n",
    "    list(tokenized_words_count_sorted.values())[10:],\n",
    ")\n",
    "\n",
    "plt.title('Top 10 word frequency:\\nEducation News Content')\n",
    "plt.show()"
   ]
  },
  {
   "cell_type": "code",
   "execution_count": null,
   "metadata": {},
   "outputs": [],
   "source": []
  }
 ],
 "metadata": {
  "kernelspec": {
   "display_name": "Python 3",
   "language": "python",
   "name": "python3"
  },
  "language_info": {
   "codemirror_mode": {
    "name": "ipython",
    "version": 3
   },
   "file_extension": ".py",
   "mimetype": "text/x-python",
   "name": "python",
   "nbconvert_exporter": "python",
   "pygments_lexer": "ipython3",
   "version": "3.11.2"
  }
 },
 "nbformat": 4,
 "nbformat_minor": 2
}
