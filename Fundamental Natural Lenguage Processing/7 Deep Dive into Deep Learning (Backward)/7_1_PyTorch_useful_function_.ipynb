{
 "cells": [
  {
   "cell_type": "markdown",
   "metadata": {
    "id": "jMSkWk9aZluS"
   },
   "source": [
    "# 1.1 PyTorch useful function \n",
    "\n",
    "### Syllabus\n",
    "1. torch.tensor\n",
    "2. torch math operation\n",
    "3. torch tensor grad\n",
    "4. torch documentation"
   ]
  },
  {
   "cell_type": "markdown",
   "metadata": {
    "id": "JHS2hLpIaFLo"
   },
   "source": [
    "## 1. torch.tensor"
   ]
  },
  {
   "cell_type": "code",
   "execution_count": 1,
   "metadata": {
    "colab": {
     "base_uri": "https://localhost:8080/"
    },
    "id": "KvmEIzIeZdla",
    "outputId": "110a6da8-79e8-4675-f538-409b199ccb36"
   },
   "outputs": [
    {
     "name": "stdout",
     "output_type": "stream",
     "text": [
      "1.10.0+cu111\n"
     ]
    }
   ],
   "source": [
    "import torch\n",
    "#version of pytorch\n",
    "print(torch.__version__)"
   ]
  },
  {
   "cell_type": "code",
   "execution_count": 3,
   "metadata": {
    "colab": {
     "base_uri": "https://localhost:8080/"
    },
    "id": "lwf7TnuQaOrB",
    "outputId": "8fa6e4a2-3f4e-4c3e-f4e2-31aa1b6d0b2b"
   },
   "outputs": [
    {
     "name": "stdout",
     "output_type": "stream",
     "text": [
      "tensor(1)\n",
      "torch.int64\n",
      "torch.Size([])\n"
     ]
    }
   ],
   "source": [
    "a = torch.tensor(1) #you can specify the type of tensor by using this parameter dtype inside the declaration\n",
    "print(a)\n",
    "print(a.dtype)\n",
    "print(a.shape)"
   ]
  },
  {
   "cell_type": "code",
   "execution_count": 4,
   "metadata": {
    "colab": {
     "base_uri": "https://localhost:8080/"
    },
    "id": "-p0uqZDGaf58",
    "outputId": "014374da-972b-45a7-81a5-41c17e7d25f4"
   },
   "outputs": [
    {
     "name": "stdout",
     "output_type": "stream",
     "text": [
      "tensor(7.5000)\n",
      "torch.float32\n",
      "torch.Size([])\n"
     ]
    }
   ],
   "source": [
    "b = torch.tensor(7.5)\n",
    "print(b)\n",
    "print(b.dtype)\n",
    "print(b.shape)"
   ]
  },
  {
   "cell_type": "code",
   "execution_count": 5,
   "metadata": {
    "colab": {
     "base_uri": "https://localhost:8080/"
    },
    "id": "1Bsf11Keas6B",
    "outputId": "39e3e5d0-e1ed-43b5-a538-9a0c96e61ce6"
   },
   "outputs": [
    {
     "name": "stdout",
     "output_type": "stream",
     "text": [
      "tensor(16., dtype=torch.float16)\n",
      "torch.float16\n"
     ]
    }
   ],
   "source": [
    "#you can specify the type of tensor by using this parameter dtype inside the declaration \n",
    "c = torch.tensor(16, dtype=torch.float16)\n",
    "print(c)\n",
    "print(c.dtype)"
   ]
  },
  {
   "cell_type": "code",
   "execution_count": 6,
   "metadata": {
    "id": "-XPslQNsbIRT"
   },
   "outputs": [],
   "source": [
    "#you can pass list and tuple to tensor\n",
    "d = torch.tensor([[1,2,3],[4,5,6]])\n",
    "f = torch.tensor((7,3))"
   ]
  },
  {
   "cell_type": "code",
   "execution_count": 7,
   "metadata": {
    "colab": {
     "base_uri": "https://localhost:8080/"
    },
    "id": "Ln6m9V2ubh-a",
    "outputId": "400c8642-8e85-49c3-d9e6-7d7e3ee77682"
   },
   "outputs": [
    {
     "name": "stdout",
     "output_type": "stream",
     "text": [
      "tensor([[1, 2, 3],\n",
      "        [4, 5, 6]]) torch.int64 torch.Size([2, 3])\n",
      "tensor([7, 3]) torch.int64 torch.Size([2])\n"
     ]
    }
   ],
   "source": [
    "print(d, d.dtype, d.shape)\n",
    "print(f, f.dtype, f.shape)"
   ]
  },
  {
   "cell_type": "code",
   "execution_count": 8,
   "metadata": {
    "colab": {
     "base_uri": "https://localhost:8080/"
    },
    "id": "nuYZZTF1brGS",
    "outputId": "e4c207bc-468d-4ee0-8958-873665f81163"
   },
   "outputs": [
    {
     "name": "stdout",
     "output_type": "stream",
     "text": [
      "[[1 2 3 4]\n",
      " [5 6 7 8]] int64\n",
      "tensor([[1, 2, 3, 4],\n",
      "        [5, 6, 7, 8]]) torch.int64\n",
      "[[1 2 3 4]\n",
      " [5 6 7 8]] int64\n"
     ]
    }
   ],
   "source": [
    "#tensor and numpy\n",
    "import numpy as np\n",
    "\n",
    "x = np.array([[1,2,3,4],[5,6,7,8]])\n",
    "print(x, x.dtype)\n",
    "x = torch.tensor(x)\n",
    "print(x, x.dtype) #bagimana memasukan tensor yang tadinya disimpan di Memory berubah masuk di GPU Memory -> x.cuda() -> x.cpu() -> x.numpy() / x.cpu().numpy()\n",
    "x = x.numpy()\n",
    "print(x, x.dtype)"
   ]
  },
  {
   "cell_type": "markdown",
   "metadata": {
    "id": "EKxtT1NXcQoc"
   },
   "source": [
    "## 2. Torch Math Operation"
   ]
  },
  {
   "cell_type": "code",
   "execution_count": 9,
   "metadata": {
    "id": "e283au4IcK35"
   },
   "outputs": [],
   "source": [
    "a = torch.tensor([1,2,3,4])\n",
    "b = torch.tensor([2,3,4,5])"
   ]
  },
  {
   "cell_type": "code",
   "execution_count": 10,
   "metadata": {
    "colab": {
     "base_uri": "https://localhost:8080/"
    },
    "id": "t3NMQMXacjMx",
    "outputId": "6e59ed8a-7ca9-4b61-f493-5e0485deca01"
   },
   "outputs": [
    {
     "name": "stdout",
     "output_type": "stream",
     "text": [
      "add: torch tensor([3, 5, 7, 9]) regular tensor([3, 5, 7, 9])\n",
      "subtract: torch tensor([1, 1, 1, 1]) regular tensor([1, 1, 1, 1])\n",
      "multiply: torch tensor([ 2,  6, 12, 20]) regular tensor([ 2,  6, 12, 20])\n",
      "divide: torch tensor([2.0000, 1.5000, 1.3333, 1.2500]) regular tensor([2.0000, 1.5000, 1.3333, 1.2500])\n"
     ]
    }
   ],
   "source": [
    "#add\n",
    "print(f'add: torch {torch.add(a,b)} regular {a+b}')\n",
    "#subtract\n",
    "print(f'subtract: torch {torch.subtract(b,a)} regular {b-a}')\n",
    "#multiply\n",
    "print(f'multiply: torch {torch.mul(b,a)} regular {b*a}')\n",
    "#divide\n",
    "print(f'divide: torch {torch.divide(b,a)} regular {b/a}')"
   ]
  },
  {
   "cell_type": "code",
   "execution_count": 11,
   "metadata": {
    "colab": {
     "base_uri": "https://localhost:8080/"
    },
    "id": "aKSCkji8dQhi",
    "outputId": "74eac36a-3137-423b-cb61-db4023e98203"
   },
   "outputs": [
    {
     "name": "stdout",
     "output_type": "stream",
     "text": [
      "sum 10\n",
      "average 2.5\n",
      "standar deviation 1.29099440574646\n"
     ]
    }
   ],
   "source": [
    "#sum\n",
    "print(f\"sum {torch.sum(a)}\")\n",
    "#average\n",
    "print(f\"average {torch.mean(a.float())}\") #need to convert from int to float so the average can be done\n",
    "#standar deviation\n",
    "print(f\"standar deviation {torch.std(a.float())}\")"
   ]
  },
  {
   "cell_type": "code",
   "execution_count": 12,
   "metadata": {
    "colab": {
     "base_uri": "https://localhost:8080/"
    },
    "id": "LRDSo_Oxdnfz",
    "outputId": "a001eab8-34d2-4b33-fd2a-5c1b4d38977f"
   },
   "outputs": [
    {
     "name": "stdout",
     "output_type": "stream",
     "text": [
      "matmul torch tensor([[ 8, 12],\n",
      "        [12, 18]]) \n",
      " reguler tensor([[ 8, 12],\n",
      "        [12, 18]])\n"
     ]
    }
   ],
   "source": [
    "#matrix multiplication\n",
    "a = torch.tensor([[2,2],[3,3]])\n",
    "b = torch.tensor([[1,2],[3,4]])\n",
    "\n",
    "print(f\"matmul torch {torch.matmul(a,b)} \\n reguler {a@b}\")"
   ]
  },
  {
   "cell_type": "markdown",
   "metadata": {
    "id": "-TF4XevEfBth"
   },
   "source": [
    "## 3. torch tensor grad\n",
    "\n",
    "we are gonna make function\n",
    "y = 3x^2 + 3x^3 and we are gonna doing some derivatives -> dy/dx -> y' = 6x +9x^2\n",
    "\n",
    "for x = 3"
   ]
  },
  {
   "cell_type": "code",
   "execution_count": 15,
   "metadata": {
    "colab": {
     "base_uri": "https://localhost:8080/"
    },
    "id": "dzy8czHRe45W",
    "outputId": "9d7b5a61-baa9-4a2d-df82-0aefd44d623d"
   },
   "outputs": [
    {
     "name": "stdout",
     "output_type": "stream",
     "text": [
      "tensor(108., grad_fn=<AddBackward0>)\n",
      "dy/dx:  tensor(99.)\n"
     ]
    }
   ],
   "source": [
    "x = torch.tensor(3 , dtype=torch.float32, requires_grad=True)\n",
    "y = 3*x**2 +3*x**3\n",
    "print(y)\n",
    "y.backward()\n",
    "print(\"dy/dx: \",x.grad)"
   ]
  },
  {
   "cell_type": "markdown",
   "metadata": {
    "id": "2MjYqezBhIUZ"
   },
   "source": [
    "lets make it even more complicated\n",
    "lets do y = 3x^5 - 10w^4 + 8z and than print dy/dx, dy/dw, dy/dz\n",
    "dy/dx = 15x^4\n",
    "dy/dw = -40^3\n",
    "dy/dz = 8\n",
    "\n",
    "for x = 3, w = 1, z = 2"
   ]
  },
  {
   "cell_type": "code",
   "execution_count": 18,
   "metadata": {
    "colab": {
     "base_uri": "https://localhost:8080/"
    },
    "id": "tekgaixAfvON",
    "outputId": "fd6c53cc-79cb-4804-8931-034af351be35"
   },
   "outputs": [
    {
     "name": "stdout",
     "output_type": "stream",
     "text": [
      "tensor(735., grad_fn=<AddBackward0>)\n",
      "dy/dx:  tensor(1215.) tensor(3., requires_grad=True)\n",
      "dy/dw:  tensor(-40.)\n",
      "dy/dz:  tensor(8.)\n"
     ]
    }
   ],
   "source": [
    "x = torch.tensor(3 , dtype=torch.float32, requires_grad=True)\n",
    "w = torch.tensor(1 , dtype=torch.float32, requires_grad=True)\n",
    "z = torch.tensor(2 , dtype=torch.float32, requires_grad=True)\n",
    "\n",
    "y = 3*x**5 - 10*w**4 + 8*z\n",
    "print(y)\n",
    "y.backward()\n",
    "print(\"dy/dx: \", x.grad)\n",
    "print(\"dy/dw: \", w.grad)\n",
    "print(\"dy/dz: \", z.grad)"
   ]
  },
  {
   "cell_type": "markdown",
   "metadata": {
    "id": "1MZFWdmyiQgy"
   },
   "source": [
    "## 4. Torch.documentations\n",
    "you can check the whole documentation of pytorch at https://pytorch.org/docs/stable/index.html"
   ]
  },
  {
   "cell_type": "code",
   "execution_count": null,
   "metadata": {
    "id": "ZWy1m1DNiDza"
   },
   "outputs": [],
   "source": []
  }
 ],
 "metadata": {
  "colab": {
   "collapsed_sections": [],
   "name": "1.1 PyTorch useful function .ipynb",
   "provenance": []
  },
  "kernelspec": {
   "display_name": "Python 3 (ipykernel)",
   "language": "python",
   "name": "python3"
  },
  "language_info": {
   "codemirror_mode": {
    "name": "ipython",
    "version": 3
   },
   "file_extension": ".py",
   "mimetype": "text/x-python",
   "name": "python",
   "nbconvert_exporter": "python",
   "pygments_lexer": "ipython3",
   "version": "3.9.7"
  }
 },
 "nbformat": 4,
 "nbformat_minor": 1
}
