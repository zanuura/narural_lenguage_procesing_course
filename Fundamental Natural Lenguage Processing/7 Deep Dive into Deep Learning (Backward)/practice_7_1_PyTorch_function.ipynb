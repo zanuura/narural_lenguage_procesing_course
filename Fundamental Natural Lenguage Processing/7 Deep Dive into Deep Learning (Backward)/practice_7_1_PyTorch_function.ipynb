{
 "cells": [
  {
   "cell_type": "code",
   "execution_count": 1,
   "metadata": {},
   "outputs": [],
   "source": [
    "import torch"
   ]
  },
  {
   "cell_type": "code",
   "execution_count": 2,
   "metadata": {},
   "outputs": [
    {
     "name": "stdout",
     "output_type": "stream",
     "text": [
      "2.1.0+cpu\n"
     ]
    }
   ],
   "source": [
    "print(torch.__version__)"
   ]
  },
  {
   "cell_type": "code",
   "execution_count": 3,
   "metadata": {},
   "outputs": [
    {
     "name": "stdout",
     "output_type": "stream",
     "text": [
      "tensor(1)\n",
      "torch.int64\n",
      "torch.Size([])\n"
     ]
    }
   ],
   "source": [
    "a = torch.tensor(1)\n",
    "print(a)\n",
    "print(a.dtype)\n",
    "print(a.shape)"
   ]
  },
  {
   "cell_type": "code",
   "execution_count": 4,
   "metadata": {},
   "outputs": [
    {
     "name": "stdout",
     "output_type": "stream",
     "text": [
      "tensor(7.5000)\n",
      "torch.float32\n",
      "torch.Size([])\n"
     ]
    }
   ],
   "source": [
    "b = torch.tensor(7.5)\n",
    "print(b)\n",
    "print(b.dtype)\n",
    "print(b.shape)"
   ]
  },
  {
   "cell_type": "code",
   "execution_count": 5,
   "metadata": {},
   "outputs": [
    {
     "name": "stdout",
     "output_type": "stream",
     "text": [
      "tensor(16., dtype=torch.float16)\n",
      "torch.float16\n",
      "torch.Size([])\n"
     ]
    }
   ],
   "source": [
    "c = torch.tensor(16, dtype=torch.float16)\n",
    "print(c)\n",
    "print(c.dtype)\n",
    "print(c.shape)"
   ]
  },
  {
   "cell_type": "code",
   "execution_count": 6,
   "metadata": {},
   "outputs": [],
   "source": [
    "d = torch.tensor([[1, 2, 3], [4, 5, 6]])\n",
    "f = torch.tensor((7, 3))"
   ]
  },
  {
   "cell_type": "code",
   "execution_count": 7,
   "metadata": {},
   "outputs": [
    {
     "name": "stdout",
     "output_type": "stream",
     "text": [
      "tensor([[1, 2, 3],\n",
      "        [4, 5, 6]]) torch.int64 torch.Size([2, 3])\n",
      "tensor([7, 3]) torch.int64 torch.Size([2])\n"
     ]
    }
   ],
   "source": [
    "print(d, d.dtype, d.shape)\n",
    "print(f, f.dtype, f.shape)"
   ]
  },
  {
   "cell_type": "markdown",
   "metadata": {},
   "source": [
    "# Math Opetation"
   ]
  },
  {
   "cell_type": "code",
   "execution_count": 8,
   "metadata": {},
   "outputs": [],
   "source": [
    "a = torch.tensor([1, 2, 3, 4])\n",
    "b = torch.tensor([2, 3, 4, 5])"
   ]
  },
  {
   "cell_type": "code",
   "execution_count": 10,
   "metadata": {},
   "outputs": [
    {
     "name": "stdout",
     "output_type": "stream",
     "text": [
      "add: tensor([3, 5, 7, 9]) regular tensor([3, 5, 7, 9])\n",
      "substract: tensor([1, 1, 1, 1]) regular tensor([1, 1, 1, 1])\n",
      "multiply: tensor([ 2,  6, 12, 20]) regular tensor([ 2,  6, 12, 20])\n",
      "divide: tensor([2.0000, 1.5000, 1.3333, 1.2500]) regular tensor([2.0000, 1.5000, 1.3333, 1.2500])\n"
     ]
    }
   ],
   "source": [
    "print(f\"add: {torch.add(a, b)} regular {a+b}\")\n",
    "\n",
    "print(f\"substract: {torch.subtract(b,a)} regular {b-a}\")\n",
    "\n",
    "print(f\"multiply: {torch.mul(b, a)} regular {b*a}\")\n",
    "\n",
    "print(f\"divide: {torch.divide(b, a)} regular {b/a}\")"
   ]
  },
  {
   "cell_type": "code",
   "execution_count": 11,
   "metadata": {},
   "outputs": [
    {
     "name": "stdout",
     "output_type": "stream",
     "text": [
      "sum 10\n",
      "average 2.5\n",
      "standar deviation 1.29099440574646\n"
     ]
    }
   ],
   "source": [
    "print(f\"sum {torch.sum(a)}\")\n",
    "\n",
    "print(f\"average {torch.mean(a.float())}\")\n",
    "\n",
    "print(f\"standar deviation {torch.std(a.float())}\")"
   ]
  },
  {
   "cell_type": "code",
   "execution_count": 13,
   "metadata": {},
   "outputs": [
    {
     "name": "stdout",
     "output_type": "stream",
     "text": [
      "matmul torch tensor([[ 8, 12],\n",
      "        [12, 18]]) \n",
      " regular tensor([[ 8, 12],\n",
      "        [12, 18]])\n"
     ]
    }
   ],
   "source": [
    "a = torch.tensor([[2, 2], [3, 3]])\n",
    "b = torch.tensor([[1, 2], [3, 4]])\n",
    "\n",
    "print(f\"matmul torch {torch.matmul(a, b)} \\n regular {a@b}\")"
   ]
  },
  {
   "cell_type": "markdown",
   "metadata": {},
   "source": [
    "# Torch tensor grad"
   ]
  },
  {
   "cell_type": "code",
   "execution_count": 14,
   "metadata": {},
   "outputs": [
    {
     "name": "stdout",
     "output_type": "stream",
     "text": [
      "tensor(108., grad_fn=<AddBackward0>)\n",
      "dy/dx:  tensor(99.)\n"
     ]
    }
   ],
   "source": [
    "x = torch.tensor(3, dtype=torch.float32, requires_grad=True)\n",
    "y = 3*x**2+3*x**3\n",
    "print(y)\n",
    "y.backward()\n",
    "print(\"dy/dx: \", x.grad)"
   ]
  },
  {
   "cell_type": "code",
   "execution_count": 16,
   "metadata": {},
   "outputs": [
    {
     "name": "stdout",
     "output_type": "stream",
     "text": [
      "tensor(735., grad_fn=<AddBackward0>)\n",
      "dy/dx:  tensor(1215.)\n",
      "dy/dw:  tensor(-40.)\n",
      "dy/dz: tensor(8.)\n"
     ]
    }
   ],
   "source": [
    "x = torch.tensor(3, dtype=torch.float32, requires_grad=True)\n",
    "w = torch.tensor(1, dtype=torch.float32, requires_grad=True)\n",
    "z = torch.tensor(2, dtype=torch.float32, requires_grad=True)\n",
    "\n",
    "y = 3*x**5 - 10*w**4 + 8*z\n",
    "print(y)\n",
    "y.backward()\n",
    "print(\"dy/dx: \", x.grad)\n",
    "print(\"dy/dw: \", w.grad)\n",
    "print(\"dy/dz:\", z.grad)"
   ]
  },
  {
   "cell_type": "code",
   "execution_count": null,
   "metadata": {},
   "outputs": [],
   "source": []
  }
 ],
 "metadata": {
  "kernelspec": {
   "display_name": "Python 3",
   "language": "python",
   "name": "python3"
  },
  "language_info": {
   "codemirror_mode": {
    "name": "ipython",
    "version": 3
   },
   "file_extension": ".py",
   "mimetype": "text/x-python",
   "name": "python",
   "nbconvert_exporter": "python",
   "pygments_lexer": "ipython3",
   "version": "3.11.2"
  }
 },
 "nbformat": 4,
 "nbformat_minor": 2
}
