{
 "cells": [
  {
   "cell_type": "code",
   "execution_count": 4,
   "id": "964ee925-c178-4842-b51d-d521e08f9447",
   "metadata": {},
   "outputs": [],
   "source": [
    "x = min(5, 10, 25)\n",
    "y = max(5, 10, 25)"
   ]
  },
  {
   "cell_type": "code",
   "execution_count": 5,
   "id": "1e83534c-697b-477a-8dbb-1371fda043d3",
   "metadata": {},
   "outputs": [
    {
     "data": {
      "text/plain": [
       "(5, 25)"
      ]
     },
     "execution_count": 5,
     "metadata": {},
     "output_type": "execute_result"
    }
   ],
   "source": [
    "x, y"
   ]
  },
  {
   "cell_type": "code",
   "execution_count": 6,
   "id": "56537ec9-670e-49c2-b4f2-519ed9dd9fa0",
   "metadata": {},
   "outputs": [],
   "source": [
    "x = abs(-7.25)"
   ]
  },
  {
   "cell_type": "code",
   "execution_count": 7,
   "id": "f5a2808f-f90f-4365-8429-0b95cb3ce58e",
   "metadata": {},
   "outputs": [
    {
     "data": {
      "text/plain": [
       "7.25"
      ]
     },
     "execution_count": 7,
     "metadata": {},
     "output_type": "execute_result"
    }
   ],
   "source": [
    "x"
   ]
  },
  {
   "cell_type": "code",
   "execution_count": 8,
   "id": "e704de5c-344f-4d4c-9b60-c8d6c25a8eba",
   "metadata": {},
   "outputs": [],
   "source": [
    "import math"
   ]
  },
  {
   "cell_type": "code",
   "execution_count": 9,
   "id": "0dc10bf9-ea3a-4e75-8d15-776d491546b8",
   "metadata": {},
   "outputs": [],
   "source": [
    " x = math.pow(4, 3)"
   ]
  },
  {
   "cell_type": "code",
   "execution_count": 10,
   "id": "9f7b89ee-cf82-489f-87e6-9db6296bd23a",
   "metadata": {},
   "outputs": [
    {
     "data": {
      "text/plain": [
       "64.0"
      ]
     },
     "execution_count": 10,
     "metadata": {},
     "output_type": "execute_result"
    }
   ],
   "source": [
    "x"
   ]
  },
  {
   "cell_type": "code",
   "execution_count": 11,
   "id": "c056e7c5-a412-4034-9cec-752424041e96",
   "metadata": {},
   "outputs": [],
   "source": [
    "x = math.sqrt(64)"
   ]
  },
  {
   "cell_type": "code",
   "execution_count": 12,
   "id": "726a3cfa-7a2e-403e-84f9-c83d0431c5fa",
   "metadata": {},
   "outputs": [
    {
     "data": {
      "text/plain": [
       "8.0"
      ]
     },
     "execution_count": 12,
     "metadata": {},
     "output_type": "execute_result"
    }
   ],
   "source": [
    "x"
   ]
  },
  {
   "cell_type": "code",
   "execution_count": 13,
   "id": "fd8f7aae-8a3f-44aa-85df-dc5b9977ecba",
   "metadata": {},
   "outputs": [],
   "source": [
    "x = math.ceil(1.4)\n",
    "y = math.floor(1.4)"
   ]
  },
  {
   "cell_type": "code",
   "execution_count": 14,
   "id": "21d339d8-802f-476a-9598-ddcdbe6b2f3c",
   "metadata": {},
   "outputs": [
    {
     "data": {
      "text/plain": [
       "(2, 1)"
      ]
     },
     "execution_count": 14,
     "metadata": {},
     "output_type": "execute_result"
    }
   ],
   "source": [
    "x, y"
   ]
  },
  {
   "cell_type": "code",
   "execution_count": 15,
   "id": "aef29285-3ca7-4ece-9ef9-5e7bbcc154ef",
   "metadata": {},
   "outputs": [],
   "source": [
    "x = math.pi"
   ]
  },
  {
   "cell_type": "code",
   "execution_count": 16,
   "id": "f4ff42d1-0db3-4b7d-bded-6cca3ff188a4",
   "metadata": {},
   "outputs": [
    {
     "data": {
      "text/plain": [
       "3.141592653589793"
      ]
     },
     "execution_count": 16,
     "metadata": {},
     "output_type": "execute_result"
    }
   ],
   "source": [
    "x"
   ]
  },
  {
   "cell_type": "code",
   "execution_count": 17,
   "id": "c6f7af20-7d51-4bf6-8b08-1a3ec82f3b3b",
   "metadata": {},
   "outputs": [],
   "source": [
    "import numpy as np"
   ]
  },
  {
   "cell_type": "code",
   "execution_count": 18,
   "id": "0b2c22ae-c6db-4e0f-ae55-4397cf560f5f",
   "metadata": {},
   "outputs": [],
   "source": [
    "A = np.array([\n",
    "    [80, 30, 25],\n",
    "    [50, 20, 10],\n",
    "])\n",
    "\n",
    "B = np.array([\n",
    "    [30, 60, 15],\n",
    "    [10, 30, 50],\n",
    "])\n",
    "\n",
    "hasil_penjualan = A + B"
   ]
  },
  {
   "cell_type": "code",
   "execution_count": 19,
   "id": "8a3e514b-894d-4277-8915-12650ac6e4d3",
   "metadata": {},
   "outputs": [
    {
     "data": {
      "text/plain": [
       "array([[110,  90,  40],\n",
       "       [ 60,  50,  60]])"
      ]
     },
     "execution_count": 19,
     "metadata": {},
     "output_type": "execute_result"
    }
   ],
   "source": [
    "hasil_penjualan"
   ]
  },
  {
   "cell_type": "code",
   "execution_count": 20,
   "id": "8e82c49f-3cf2-4080-9b46-a20c3115b9cd",
   "metadata": {},
   "outputs": [],
   "source": [
    "A = np.array([10, 20, 15])\n",
    "B = np.array([5, 15, 10])\n",
    "\n",
    "hasil = np.dot(A, B)"
   ]
  },
  {
   "cell_type": "code",
   "execution_count": 21,
   "id": "e51ff76e-f683-442a-adad-cb9d3cd02e10",
   "metadata": {},
   "outputs": [
    {
     "data": {
      "text/plain": [
       "500"
      ]
     },
     "execution_count": 21,
     "metadata": {},
     "output_type": "execute_result"
    }
   ],
   "source": [
    "hasil"
   ]
  },
  {
   "cell_type": "code",
   "execution_count": 23,
   "id": "57546a61-fd98-46d4-91ce-e3779b84cf37",
   "metadata": {},
   "outputs": [],
   "source": [
    "hasil = np.cross(A, B)"
   ]
  },
  {
   "cell_type": "code",
   "execution_count": 24,
   "id": "a3f50c42-35ad-4a56-8af1-1bbd2bf2c226",
   "metadata": {},
   "outputs": [
    {
     "data": {
      "text/plain": [
       "array([-25, -25,  50])"
      ]
     },
     "execution_count": 24,
     "metadata": {},
     "output_type": "execute_result"
    }
   ],
   "source": [
    "hasil"
   ]
  },
  {
   "cell_type": "code",
   "execution_count": null,
   "id": "2474a595-8ff2-46a6-9115-b0146ad4e3e9",
   "metadata": {},
   "outputs": [],
   "source": []
  }
 ],
 "metadata": {
  "kernelspec": {
   "display_name": "Python 3 (ipykernel)",
   "language": "python",
   "name": "python3"
  },
  "language_info": {
   "codemirror_mode": {
    "name": "ipython",
    "version": 3
   },
   "file_extension": ".py",
   "mimetype": "text/x-python",
   "name": "python",
   "nbconvert_exporter": "python",
   "pygments_lexer": "ipython3",
   "version": "3.11.2"
  }
 },
 "nbformat": 4,
 "nbformat_minor": 5
}
